{
 "cells": [
  {
   "cell_type": "code",
   "execution_count": 202,
   "metadata": {},
   "outputs": [],
   "source": [
    "import random\n",
    "from sklearn.model_selection import train_test_split\n",
    "from sklearn.naive_bayes import GaussianNB\n",
    "from sklearn.neighbors import KNeighborsClassifier\n",
    "from sklearn.linear_model import LogisticRegression \n",
    "from sklearn.ensemble import RandomForestClassifier\n",
    "from sklearn import tree\n",
    "from sklearn.svm import SVC\n",
    "from sklearn import metrics\n",
    "import seaborn as sns"
   ]
  },
  {
   "cell_type": "code",
   "execution_count": 203,
   "metadata": {},
   "outputs": [],
   "source": [
    "pd.set_option('display.max_columns',None)"
   ]
  },
  {
   "cell_type": "code",
   "execution_count": 204,
   "metadata": {},
   "outputs": [
    {
     "data": {
      "text/html": [
       "<div>\n",
       "<style scoped>\n",
       "    .dataframe tbody tr th:only-of-type {\n",
       "        vertical-align: middle;\n",
       "    }\n",
       "\n",
       "    .dataframe tbody tr th {\n",
       "        vertical-align: top;\n",
       "    }\n",
       "\n",
       "    .dataframe thead th {\n",
       "        text-align: right;\n",
       "    }\n",
       "</style>\n",
       "<table border=\"1\" class=\"dataframe\">\n",
       "  <thead>\n",
       "    <tr style=\"text-align: right;\">\n",
       "      <th></th>\n",
       "      <th>acq_FYEAR</th>\n",
       "      <th>target_FYEAR</th>\n",
       "      <th>acq_gvkey</th>\n",
       "      <th>target_gvkey</th>\n",
       "      <th>dealID</th>\n",
       "      <th>acq_STATE</th>\n",
       "      <th>acq_salegr</th>\n",
       "      <th>acq_profit</th>\n",
       "      <th>acq_mleverage</th>\n",
       "      <th>acq_pastret</th>\n",
       "      <th>acq_io_top5</th>\n",
       "      <th>acq_size</th>\n",
       "      <th>acq_PERMNO</th>\n",
       "      <th>target_STATE</th>\n",
       "      <th>target_salegr</th>\n",
       "      <th>target_profit</th>\n",
       "      <th>target_mleverage</th>\n",
       "      <th>target_pastret</th>\n",
       "      <th>target_io_top5</th>\n",
       "      <th>target_size</th>\n",
       "      <th>target_PERMNO</th>\n",
       "      <th>deal</th>\n",
       "      <th>Date_Announced</th>\n",
       "      <th>acquirer_gvkey2</th>\n",
       "      <th>target_gvkey2</th>\n",
       "      <th>search_key1</th>\n",
       "      <th>search_key2</th>\n",
       "      <th>HPs_similarity</th>\n",
       "      <th>RWMD_similarity</th>\n",
       "      <th>LDA_similarity</th>\n",
       "    </tr>\n",
       "  </thead>\n",
       "  <tbody>\n",
       "    <tr>\n",
       "      <th>0</th>\n",
       "      <td>1994</td>\n",
       "      <td>1994</td>\n",
       "      <td>23778</td>\n",
       "      <td>10173</td>\n",
       "      <td>023778_010173_1995-06-16</td>\n",
       "      <td>TX</td>\n",
       "      <td>0.939510</td>\n",
       "      <td>0.039785</td>\n",
       "      <td>0.190418</td>\n",
       "      <td>-0.600000</td>\n",
       "      <td>0.247123</td>\n",
       "      <td>4.850944</td>\n",
       "      <td>76632.0</td>\n",
       "      <td>FL</td>\n",
       "      <td>0.794892</td>\n",
       "      <td>0.041354</td>\n",
       "      <td>0.582252</td>\n",
       "      <td>0.448980</td>\n",
       "      <td>0.237958</td>\n",
       "      <td>4.124809</td>\n",
       "      <td>57963.0</td>\n",
       "      <td>1</td>\n",
       "      <td>6/16/95</td>\n",
       "      <td>23778</td>\n",
       "      <td>10173</td>\n",
       "      <td>1994-023778-010173</td>\n",
       "      <td>1993-023778-010173</td>\n",
       "      <td>NaN</td>\n",
       "      <td>NaN</td>\n",
       "      <td>NaN</td>\n",
       "    </tr>\n",
       "    <tr>\n",
       "      <th>1</th>\n",
       "      <td>1994</td>\n",
       "      <td>1994</td>\n",
       "      <td>14923</td>\n",
       "      <td>2416</td>\n",
       "      <td>014923_002416_1995-12-22</td>\n",
       "      <td>CO</td>\n",
       "      <td>1.417725</td>\n",
       "      <td>0.055939</td>\n",
       "      <td>0.190765</td>\n",
       "      <td>0.608696</td>\n",
       "      <td>0.064204</td>\n",
       "      <td>3.962925</td>\n",
       "      <td>12199.0</td>\n",
       "      <td>LA</td>\n",
       "      <td>1.175135</td>\n",
       "      <td>0.007795</td>\n",
       "      <td>0.404339</td>\n",
       "      <td>0.250000</td>\n",
       "      <td>0.253290</td>\n",
       "      <td>3.046330</td>\n",
       "      <td>19394.0</td>\n",
       "      <td>1</td>\n",
       "      <td>12/22/95</td>\n",
       "      <td>14923</td>\n",
       "      <td>2416</td>\n",
       "      <td>1994-014923-002416</td>\n",
       "      <td>1993-014923-002416</td>\n",
       "      <td>NaN</td>\n",
       "      <td>NaN</td>\n",
       "      <td>NaN</td>\n",
       "    </tr>\n",
       "    <tr>\n",
       "      <th>2</th>\n",
       "      <td>1994</td>\n",
       "      <td>1993</td>\n",
       "      <td>29077</td>\n",
       "      <td>12829</td>\n",
       "      <td>029077_012829_1995-01-04</td>\n",
       "      <td>CA</td>\n",
       "      <td>1.201676</td>\n",
       "      <td>0.095610</td>\n",
       "      <td>0.176620</td>\n",
       "      <td>-0.447059</td>\n",
       "      <td>0.265840</td>\n",
       "      <td>3.924801</td>\n",
       "      <td>79739.0</td>\n",
       "      <td>NY</td>\n",
       "      <td>1.187786</td>\n",
       "      <td>-0.125503</td>\n",
       "      <td>0.419946</td>\n",
       "      <td>-0.483871</td>\n",
       "      <td>0.091378</td>\n",
       "      <td>2.009287</td>\n",
       "      <td>75504.0</td>\n",
       "      <td>1</td>\n",
       "      <td>1/4/95</td>\n",
       "      <td>29077</td>\n",
       "      <td>12829</td>\n",
       "      <td>1994-029077-012829</td>\n",
       "      <td>1993-029077-012829</td>\n",
       "      <td>NaN</td>\n",
       "      <td>NaN</td>\n",
       "      <td>NaN</td>\n",
       "    </tr>\n",
       "    <tr>\n",
       "      <th>3</th>\n",
       "      <td>1994</td>\n",
       "      <td>1994</td>\n",
       "      <td>28259</td>\n",
       "      <td>8126</td>\n",
       "      <td>028259_008126_1995-01-12</td>\n",
       "      <td>NY</td>\n",
       "      <td>1.763769</td>\n",
       "      <td>-0.026707</td>\n",
       "      <td>0.208224</td>\n",
       "      <td>0.026667</td>\n",
       "      <td>0.234810</td>\n",
       "      <td>7.062973</td>\n",
       "      <td>79220.0</td>\n",
       "      <td>CT</td>\n",
       "      <td>1.142035</td>\n",
       "      <td>0.016959</td>\n",
       "      <td>0.444123</td>\n",
       "      <td>-0.053067</td>\n",
       "      <td>0.690825</td>\n",
       "      <td>6.144683</td>\n",
       "      <td>44863.0</td>\n",
       "      <td>1</td>\n",
       "      <td>1/12/95</td>\n",
       "      <td>28259</td>\n",
       "      <td>8126</td>\n",
       "      <td>1994-028259-008126</td>\n",
       "      <td>1993-028259-008126</td>\n",
       "      <td>NaN</td>\n",
       "      <td>NaN</td>\n",
       "      <td>NaN</td>\n",
       "    </tr>\n",
       "    <tr>\n",
       "      <th>4</th>\n",
       "      <td>1994</td>\n",
       "      <td>1993</td>\n",
       "      <td>1311</td>\n",
       "      <td>14232</td>\n",
       "      <td>001311_014232_1995-01-19</td>\n",
       "      <td>MI</td>\n",
       "      <td>1.301060</td>\n",
       "      <td>0.225934</td>\n",
       "      <td>0.073056</td>\n",
       "      <td>0.073276</td>\n",
       "      <td>0.319689</td>\n",
       "      <td>5.651524</td>\n",
       "      <td>85033.0</td>\n",
       "      <td>CO</td>\n",
       "      <td>1.416327</td>\n",
       "      <td>0.089724</td>\n",
       "      <td>0.002799</td>\n",
       "      <td>0.333333</td>\n",
       "      <td>0.208157</td>\n",
       "      <td>3.264576</td>\n",
       "      <td>10965.0</td>\n",
       "      <td>1</td>\n",
       "      <td>1/19/95</td>\n",
       "      <td>1311</td>\n",
       "      <td>14232</td>\n",
       "      <td>1994-001311-014232</td>\n",
       "      <td>1993-001311-014232</td>\n",
       "      <td>NaN</td>\n",
       "      <td>NaN</td>\n",
       "      <td>NaN</td>\n",
       "    </tr>\n",
       "  </tbody>\n",
       "</table>\n",
       "</div>"
      ],
      "text/plain": [
       "   acq_FYEAR  target_FYEAR  acq_gvkey  target_gvkey                    dealID  \\\n",
       "0       1994          1994      23778         10173  023778_010173_1995-06-16   \n",
       "1       1994          1994      14923          2416  014923_002416_1995-12-22   \n",
       "2       1994          1993      29077         12829  029077_012829_1995-01-04   \n",
       "3       1994          1994      28259          8126  028259_008126_1995-01-12   \n",
       "4       1994          1993       1311         14232  001311_014232_1995-01-19   \n",
       "\n",
       "  acq_STATE  acq_salegr  acq_profit  acq_mleverage  acq_pastret  acq_io_top5  \\\n",
       "0        TX    0.939510    0.039785       0.190418    -0.600000     0.247123   \n",
       "1        CO    1.417725    0.055939       0.190765     0.608696     0.064204   \n",
       "2        CA    1.201676    0.095610       0.176620    -0.447059     0.265840   \n",
       "3        NY    1.763769   -0.026707       0.208224     0.026667     0.234810   \n",
       "4        MI    1.301060    0.225934       0.073056     0.073276     0.319689   \n",
       "\n",
       "   acq_size  acq_PERMNO target_STATE  target_salegr  target_profit  \\\n",
       "0  4.850944     76632.0           FL       0.794892       0.041354   \n",
       "1  3.962925     12199.0           LA       1.175135       0.007795   \n",
       "2  3.924801     79739.0           NY       1.187786      -0.125503   \n",
       "3  7.062973     79220.0           CT       1.142035       0.016959   \n",
       "4  5.651524     85033.0           CO       1.416327       0.089724   \n",
       "\n",
       "   target_mleverage  target_pastret  target_io_top5  target_size  \\\n",
       "0          0.582252        0.448980        0.237958     4.124809   \n",
       "1          0.404339        0.250000        0.253290     3.046330   \n",
       "2          0.419946       -0.483871        0.091378     2.009287   \n",
       "3          0.444123       -0.053067        0.690825     6.144683   \n",
       "4          0.002799        0.333333        0.208157     3.264576   \n",
       "\n",
       "   target_PERMNO  deal Date_Announced  acquirer_gvkey2  target_gvkey2  \\\n",
       "0        57963.0     1        6/16/95            23778          10173   \n",
       "1        19394.0     1       12/22/95            14923           2416   \n",
       "2        75504.0     1         1/4/95            29077          12829   \n",
       "3        44863.0     1        1/12/95            28259           8126   \n",
       "4        10965.0     1        1/19/95             1311          14232   \n",
       "\n",
       "          search_key1         search_key2  HPs_similarity  RWMD_similarity  \\\n",
       "0  1994-023778-010173  1993-023778-010173             NaN              NaN   \n",
       "1  1994-014923-002416  1993-014923-002416             NaN              NaN   \n",
       "2  1994-029077-012829  1993-029077-012829             NaN              NaN   \n",
       "3  1994-028259-008126  1993-028259-008126             NaN              NaN   \n",
       "4  1994-001311-014232  1993-001311-014232             NaN              NaN   \n",
       "\n",
       "   LDA_similarity  \n",
       "0             NaN  \n",
       "1             NaN  \n",
       "2             NaN  \n",
       "3             NaN  \n",
       "4             NaN  "
      ]
     },
     "execution_count": 204,
     "metadata": {},
     "output_type": "execute_result"
    }
   ],
   "source": [
    "df = pd.read_csv(\"../data/total-sample-deal-PSM_add_similarity.csv\")\n",
    "df.head()"
   ]
  },
  {
   "cell_type": "code",
   "execution_count": 205,
   "metadata": {},
   "outputs": [
    {
     "data": {
      "text/plain": [
       "21859"
      ]
     },
     "execution_count": 205,
     "metadata": {},
     "output_type": "execute_result"
    }
   ],
   "source": [
    "len(df)"
   ]
  },
  {
   "cell_type": "code",
   "execution_count": 206,
   "metadata": {},
   "outputs": [
    {
     "data": {
      "text/plain": [
       "0    18879\n",
       "1     2980\n",
       "Name: deal, dtype: int64"
      ]
     },
     "execution_count": 206,
     "metadata": {},
     "output_type": "execute_result"
    }
   ],
   "source": [
    "df['deal'].value_counts()"
   ]
  },
  {
   "cell_type": "markdown",
   "metadata": {},
   "source": [
    "## missing values"
   ]
  },
  {
   "cell_type": "code",
   "execution_count": 207,
   "metadata": {},
   "outputs": [
    {
     "data": {
      "text/plain": [
       "acq_FYEAR               0\n",
       "target_FYEAR            0\n",
       "acq_gvkey               0\n",
       "target_gvkey            0\n",
       "dealID                  0\n",
       "acq_STATE            2260\n",
       "acq_salegr           1923\n",
       "acq_profit           1898\n",
       "acq_mleverage        1899\n",
       "acq_pastret          1912\n",
       "acq_io_top5          1895\n",
       "acq_size             1895\n",
       "acq_PERMNO           1895\n",
       "target_STATE         2529\n",
       "target_salegr        2357\n",
       "target_profit        2333\n",
       "target_mleverage     2341\n",
       "target_pastret       2346\n",
       "target_io_top5       2324\n",
       "target_size          2333\n",
       "target_PERMNO        2324\n",
       "deal                    0\n",
       "Date_Announced          0\n",
       "acquirer_gvkey2         0\n",
       "target_gvkey2           0\n",
       "search_key1             0\n",
       "search_key2             0\n",
       "HPs_similarity      12938\n",
       "RWMD_similarity      6717\n",
       "LDA_similarity      12626\n",
       "dtype: int64"
      ]
     },
     "execution_count": 207,
     "metadata": {},
     "output_type": "execute_result"
    }
   ],
   "source": [
    "df.isnull().sum()"
   ]
  },
  {
   "cell_type": "code",
   "execution_count": 209,
   "metadata": {},
   "outputs": [],
   "source": [
    "#convert to datetime and filter\n",
    "df['Date_Announced']=pd.to_datetime(df['Date_Announced'])"
   ]
  },
  {
   "cell_type": "code",
   "execution_count": 210,
   "metadata": {},
   "outputs": [],
   "source": [
    "df1=df[df['Date_Announced']>pd.datetime(1996,12,31)]\n",
    "df1 = df1[df1['Date_Announced']<pd.datetime(2017,1,1)]"
   ]
  },
  {
   "cell_type": "code",
   "execution_count": 212,
   "metadata": {},
   "outputs": [
    {
     "data": {
      "text/plain": [
       "acq_FYEAR               0\n",
       "target_FYEAR            0\n",
       "acq_gvkey               0\n",
       "target_gvkey            0\n",
       "dealID                  0\n",
       "acq_STATE            1991\n",
       "acq_salegr           1662\n",
       "acq_profit           1640\n",
       "acq_mleverage        1642\n",
       "acq_pastret          1653\n",
       "acq_io_top5          1638\n",
       "acq_size             1638\n",
       "acq_PERMNO           1638\n",
       "target_STATE         2015\n",
       "target_salegr        1835\n",
       "target_profit        1822\n",
       "target_mleverage     1830\n",
       "target_pastret       1830\n",
       "target_io_top5       1813\n",
       "target_size          1822\n",
       "target_PERMNO        1813\n",
       "deal                    0\n",
       "Date_Announced          0\n",
       "acquirer_gvkey2         0\n",
       "target_gvkey2           0\n",
       "search_key1             0\n",
       "search_key2             0\n",
       "HPs_similarity      11165\n",
       "RWMD_similarity      4815\n",
       "LDA_similarity      10704\n",
       "dtype: int64"
      ]
     },
     "execution_count": 212,
     "metadata": {},
     "output_type": "execute_result"
    }
   ],
   "source": [
    "df1.isnull().sum()"
   ]
  },
  {
   "cell_type": "code",
   "execution_count": 213,
   "metadata": {},
   "outputs": [
    {
     "data": {
      "text/plain": [
       "19928"
      ]
     },
     "execution_count": 213,
     "metadata": {},
     "output_type": "execute_result"
    }
   ],
   "source": [
    "len(df1)"
   ]
  },
  {
   "cell_type": "code",
   "execution_count": 214,
   "metadata": {},
   "outputs": [],
   "source": [
    "#remove acq and target with missing values\n",
    "df2 = df1.dropna(how='any', subset=['acq_PERMNO','target_PERMNO'])"
   ]
  },
  {
   "cell_type": "code",
   "execution_count": 215,
   "metadata": {},
   "outputs": [
    {
     "data": {
      "text/plain": [
       "16477"
      ]
     },
     "execution_count": 215,
     "metadata": {},
     "output_type": "execute_result"
    }
   ],
   "source": [
    "len(df2)"
   ]
  },
  {
   "cell_type": "code",
   "execution_count": 216,
   "metadata": {},
   "outputs": [
    {
     "data": {
      "text/plain": [
       "acq_FYEAR              0\n",
       "target_FYEAR           0\n",
       "acq_gvkey              0\n",
       "target_gvkey           0\n",
       "dealID                 0\n",
       "acq_STATE            309\n",
       "acq_salegr            24\n",
       "acq_profit             2\n",
       "acq_mleverage          4\n",
       "acq_pastret           15\n",
       "acq_io_top5            0\n",
       "acq_size               0\n",
       "acq_PERMNO             0\n",
       "target_STATE         158\n",
       "target_salegr         22\n",
       "target_profit          9\n",
       "target_mleverage      17\n",
       "target_pastret        17\n",
       "target_io_top5         0\n",
       "target_size            9\n",
       "target_PERMNO          0\n",
       "deal                   0\n",
       "Date_Announced         0\n",
       "acquirer_gvkey2        0\n",
       "target_gvkey2          0\n",
       "search_key1            0\n",
       "search_key2            0\n",
       "HPs_similarity      8963\n",
       "RWMD_similarity     3607\n",
       "LDA_similarity      8535\n",
       "dtype: int64"
      ]
     },
     "execution_count": 216,
     "metadata": {},
     "output_type": "execute_result"
    }
   ],
   "source": [
    "df2.isnull().sum()"
   ]
  },
  {
   "cell_type": "code",
   "execution_count": 183,
   "metadata": {},
   "outputs": [],
   "source": [
    "#df2[df2['acq_STATE'].isnull()]"
   ]
  },
  {
   "cell_type": "code",
   "execution_count": 217,
   "metadata": {},
   "outputs": [
    {
     "name": "stderr",
     "output_type": "stream",
     "text": [
      "/Users/jiahuibi/anaconda/lib/python3.6/site-packages/pandas/core/generic.py:4355: SettingWithCopyWarning: \n",
      "A value is trying to be set on a copy of a slice from a DataFrame\n",
      "\n",
      "See the caveats in the documentation: http://pandas.pydata.org/pandas-docs/stable/indexing.html#indexing-view-versus-copy\n",
      "  self._update_inplace(new_data)\n"
     ]
    }
   ],
   "source": [
    "#fill missing values\n",
    "df2['acq_salegr'].fillna(df2['acq_salegr'].median(),inplace = True)\n",
    "df2['acq_profit'].fillna(df2['acq_profit'].median(),inplace = True)\n",
    "df2['acq_mleverage'].fillna(df2['acq_mleverage'].median(),inplace = True)\n",
    "df2['acq_pastret'].fillna(df2['acq_pastret'].median(),inplace = True)\n",
    "df2['target_salegr'].fillna(df2['target_salegr'].median(),inplace = True)\n",
    "df2['target_profit'].fillna(df2['target_profit'].median(),inplace = True)\n",
    "df2['target_mleverage'].fillna(df2['target_mleverage'].median(),inplace = True)\n",
    "df2['target_pastret'].fillna(df2['target_pastret'].median(),inplace = True)\n",
    "df2['target_size'].fillna(df2['target_size'].median(),inplace = True)"
   ]
  },
  {
   "cell_type": "code",
   "execution_count": 218,
   "metadata": {},
   "outputs": [
    {
     "data": {
      "text/plain": [
       "acq_FYEAR              0\n",
       "target_FYEAR           0\n",
       "acq_gvkey              0\n",
       "target_gvkey           0\n",
       "dealID                 0\n",
       "acq_STATE            309\n",
       "acq_salegr             0\n",
       "acq_profit             0\n",
       "acq_mleverage          0\n",
       "acq_pastret            0\n",
       "acq_io_top5            0\n",
       "acq_size               0\n",
       "acq_PERMNO             0\n",
       "target_STATE         158\n",
       "target_salegr          0\n",
       "target_profit          0\n",
       "target_mleverage       0\n",
       "target_pastret         0\n",
       "target_io_top5         0\n",
       "target_size            0\n",
       "target_PERMNO          0\n",
       "deal                   0\n",
       "Date_Announced         0\n",
       "acquirer_gvkey2        0\n",
       "target_gvkey2          0\n",
       "search_key1            0\n",
       "search_key2            0\n",
       "HPs_similarity      8963\n",
       "RWMD_similarity     3607\n",
       "LDA_similarity      8535\n",
       "dtype: int64"
      ]
     },
     "execution_count": 218,
     "metadata": {},
     "output_type": "execute_result"
    }
   ],
   "source": [
    "df2.isnull().sum()"
   ]
  },
  {
   "cell_type": "code",
   "execution_count": 219,
   "metadata": {},
   "outputs": [
    {
     "name": "stderr",
     "output_type": "stream",
     "text": [
      "/Users/jiahuibi/anaconda/lib/python3.6/site-packages/ipykernel_launcher.py:9: SettingWithCopyWarning: \n",
      "A value is trying to be set on a copy of a slice from a DataFrame.\n",
      "Try using .loc[row_indexer,col_indexer] = value instead\n",
      "\n",
      "See the caveats in the documentation: http://pandas.pydata.org/pandas-docs/stable/indexing.html#indexing-view-versus-copy\n",
      "  if __name__ == '__main__':\n"
     ]
    },
    {
     "data": {
      "text/html": [
       "<div>\n",
       "<style scoped>\n",
       "    .dataframe tbody tr th:only-of-type {\n",
       "        vertical-align: middle;\n",
       "    }\n",
       "\n",
       "    .dataframe tbody tr th {\n",
       "        vertical-align: top;\n",
       "    }\n",
       "\n",
       "    .dataframe thead th {\n",
       "        text-align: right;\n",
       "    }\n",
       "</style>\n",
       "<table border=\"1\" class=\"dataframe\">\n",
       "  <thead>\n",
       "    <tr style=\"text-align: right;\">\n",
       "      <th></th>\n",
       "      <th>acq_FYEAR</th>\n",
       "      <th>target_FYEAR</th>\n",
       "      <th>acq_gvkey</th>\n",
       "      <th>target_gvkey</th>\n",
       "      <th>dealID</th>\n",
       "      <th>acq_STATE</th>\n",
       "      <th>acq_salegr</th>\n",
       "      <th>acq_profit</th>\n",
       "      <th>acq_mleverage</th>\n",
       "      <th>acq_pastret</th>\n",
       "      <th>acq_io_top5</th>\n",
       "      <th>acq_size</th>\n",
       "      <th>acq_PERMNO</th>\n",
       "      <th>target_STATE</th>\n",
       "      <th>target_salegr</th>\n",
       "      <th>target_profit</th>\n",
       "      <th>target_mleverage</th>\n",
       "      <th>target_pastret</th>\n",
       "      <th>target_io_top5</th>\n",
       "      <th>target_size</th>\n",
       "      <th>target_PERMNO</th>\n",
       "      <th>deal</th>\n",
       "      <th>Date_Announced</th>\n",
       "      <th>acquirer_gvkey2</th>\n",
       "      <th>target_gvkey2</th>\n",
       "      <th>search_key1</th>\n",
       "      <th>search_key2</th>\n",
       "      <th>HPs_similarity</th>\n",
       "      <th>RWMD_similarity</th>\n",
       "      <th>LDA_similarity</th>\n",
       "      <th>state_match</th>\n",
       "    </tr>\n",
       "  </thead>\n",
       "  <tbody>\n",
       "    <tr>\n",
       "      <th>347</th>\n",
       "      <td>1996</td>\n",
       "      <td>1996</td>\n",
       "      <td>25495</td>\n",
       "      <td>23743</td>\n",
       "      <td>025495_023743_1997-02-18</td>\n",
       "      <td>TX</td>\n",
       "      <td>1.980444</td>\n",
       "      <td>0.027066</td>\n",
       "      <td>0.221037</td>\n",
       "      <td>1.627930</td>\n",
       "      <td>0.042639</td>\n",
       "      <td>8.339694</td>\n",
       "      <td>81594.0</td>\n",
       "      <td>TX</td>\n",
       "      <td>0.900882</td>\n",
       "      <td>0.037337</td>\n",
       "      <td>0.057868</td>\n",
       "      <td>0.136364</td>\n",
       "      <td>0.100922</td>\n",
       "      <td>7.043287</td>\n",
       "      <td>76593.0</td>\n",
       "      <td>1</td>\n",
       "      <td>1997-02-18</td>\n",
       "      <td>25495</td>\n",
       "      <td>23743</td>\n",
       "      <td>1996-025495-023743</td>\n",
       "      <td>1995-025495-023743</td>\n",
       "      <td>NaN</td>\n",
       "      <td>NaN</td>\n",
       "      <td>NaN</td>\n",
       "      <td>True</td>\n",
       "    </tr>\n",
       "    <tr>\n",
       "      <th>379</th>\n",
       "      <td>1996</td>\n",
       "      <td>1996</td>\n",
       "      <td>1976</td>\n",
       "      <td>8517</td>\n",
       "      <td>001976_008517_1997-02-26</td>\n",
       "      <td>TX</td>\n",
       "      <td>1.147970</td>\n",
       "      <td>0.053482</td>\n",
       "      <td>0.133323</td>\n",
       "      <td>0.517013</td>\n",
       "      <td>0.253640</td>\n",
       "      <td>8.100887</td>\n",
       "      <td>75034.0</td>\n",
       "      <td>MO</td>\n",
       "      <td>0.988561</td>\n",
       "      <td>0.063068</td>\n",
       "      <td>0.106269</td>\n",
       "      <td>0.423754</td>\n",
       "      <td>0.215980</td>\n",
       "      <td>5.709721</td>\n",
       "      <td>62384.0</td>\n",
       "      <td>1</td>\n",
       "      <td>1997-02-26</td>\n",
       "      <td>1976</td>\n",
       "      <td>8517</td>\n",
       "      <td>1996-001976-008517</td>\n",
       "      <td>1995-001976-008517</td>\n",
       "      <td>NaN</td>\n",
       "      <td>0.487075</td>\n",
       "      <td>NaN</td>\n",
       "      <td>False</td>\n",
       "    </tr>\n",
       "    <tr>\n",
       "      <th>383</th>\n",
       "      <td>1996</td>\n",
       "      <td>1996</td>\n",
       "      <td>16766</td>\n",
       "      <td>17018</td>\n",
       "      <td>016766_017018_1997-02-13</td>\n",
       "      <td>NH</td>\n",
       "      <td>1.692686</td>\n",
       "      <td>0.008171</td>\n",
       "      <td>0.545954</td>\n",
       "      <td>0.082930</td>\n",
       "      <td>0.049167</td>\n",
       "      <td>7.344132</td>\n",
       "      <td>11120.0</td>\n",
       "      <td>NH</td>\n",
       "      <td>1.021503</td>\n",
       "      <td>0.021935</td>\n",
       "      <td>0.000000</td>\n",
       "      <td>-0.014896</td>\n",
       "      <td>0.177036</td>\n",
       "      <td>5.604216</td>\n",
       "      <td>11921.0</td>\n",
       "      <td>1</td>\n",
       "      <td>1997-02-13</td>\n",
       "      <td>16766</td>\n",
       "      <td>17018</td>\n",
       "      <td>1996-016766-017018</td>\n",
       "      <td>1995-016766-017018</td>\n",
       "      <td>0.2267</td>\n",
       "      <td>0.542035</td>\n",
       "      <td>1.000000</td>\n",
       "      <td>True</td>\n",
       "    </tr>\n",
       "    <tr>\n",
       "      <th>388</th>\n",
       "      <td>1996</td>\n",
       "      <td>1996</td>\n",
       "      <td>28994</td>\n",
       "      <td>14126</td>\n",
       "      <td>028994_014126_1997-04-03</td>\n",
       "      <td>SC</td>\n",
       "      <td>1.848127</td>\n",
       "      <td>0.018818</td>\n",
       "      <td>0.247289</td>\n",
       "      <td>0.168831</td>\n",
       "      <td>0.333854</td>\n",
       "      <td>6.199295</td>\n",
       "      <td>79701.0</td>\n",
       "      <td>CA</td>\n",
       "      <td>1.953173</td>\n",
       "      <td>0.209476</td>\n",
       "      <td>0.000000</td>\n",
       "      <td>0.913067</td>\n",
       "      <td>0.040700</td>\n",
       "      <td>3.769883</td>\n",
       "      <td>75251.0</td>\n",
       "      <td>1</td>\n",
       "      <td>1997-04-03</td>\n",
       "      <td>28994</td>\n",
       "      <td>14126</td>\n",
       "      <td>1996-028994-014126</td>\n",
       "      <td>1995-028994-014126</td>\n",
       "      <td>NaN</td>\n",
       "      <td>NaN</td>\n",
       "      <td>NaN</td>\n",
       "      <td>False</td>\n",
       "    </tr>\n",
       "    <tr>\n",
       "      <th>412</th>\n",
       "      <td>1996</td>\n",
       "      <td>1996</td>\n",
       "      <td>61058</td>\n",
       "      <td>2304</td>\n",
       "      <td>061058_002304_1997-01-07</td>\n",
       "      <td>OK</td>\n",
       "      <td>1.168392</td>\n",
       "      <td>0.037616</td>\n",
       "      <td>0.206753</td>\n",
       "      <td>0.142857</td>\n",
       "      <td>0.063638</td>\n",
       "      <td>4.863225</td>\n",
       "      <td>81859.0</td>\n",
       "      <td>OK</td>\n",
       "      <td>1.208697</td>\n",
       "      <td>-0.013772</td>\n",
       "      <td>0.126423</td>\n",
       "      <td>0.478571</td>\n",
       "      <td>0.000000</td>\n",
       "      <td>2.333211</td>\n",
       "      <td>18738.0</td>\n",
       "      <td>1</td>\n",
       "      <td>1997-01-07</td>\n",
       "      <td>61058</td>\n",
       "      <td>2304</td>\n",
       "      <td>1996-061058-002304</td>\n",
       "      <td>1995-061058-002304</td>\n",
       "      <td>NaN</td>\n",
       "      <td>0.638155</td>\n",
       "      <td>0.647508</td>\n",
       "      <td>True</td>\n",
       "    </tr>\n",
       "    <tr>\n",
       "      <th>413</th>\n",
       "      <td>1996</td>\n",
       "      <td>1996</td>\n",
       "      <td>25138</td>\n",
       "      <td>3289</td>\n",
       "      <td>025138_003289_1997-01-07</td>\n",
       "      <td>TX</td>\n",
       "      <td>1.103781</td>\n",
       "      <td>0.026641</td>\n",
       "      <td>0.000000</td>\n",
       "      <td>-0.608392</td>\n",
       "      <td>0.194350</td>\n",
       "      <td>4.717632</td>\n",
       "      <td>77505.0</td>\n",
       "      <td>CA</td>\n",
       "      <td>0.777861</td>\n",
       "      <td>-0.225408</td>\n",
       "      <td>0.151568</td>\n",
       "      <td>-0.390000</td>\n",
       "      <td>0.201034</td>\n",
       "      <td>4.105120</td>\n",
       "      <td>25604.0</td>\n",
       "      <td>1</td>\n",
       "      <td>1997-01-07</td>\n",
       "      <td>25138</td>\n",
       "      <td>3289</td>\n",
       "      <td>1996-025138-003289</td>\n",
       "      <td>1995-025138-003289</td>\n",
       "      <td>0.1144</td>\n",
       "      <td>NaN</td>\n",
       "      <td>NaN</td>\n",
       "      <td>False</td>\n",
       "    </tr>\n",
       "    <tr>\n",
       "      <th>414</th>\n",
       "      <td>1996</td>\n",
       "      <td>1996</td>\n",
       "      <td>29356</td>\n",
       "      <td>62834</td>\n",
       "      <td>029356_062834_1997-01-13</td>\n",
       "      <td>CA</td>\n",
       "      <td>1.498319</td>\n",
       "      <td>0.204390</td>\n",
       "      <td>0.000000</td>\n",
       "      <td>0.963816</td>\n",
       "      <td>0.279692</td>\n",
       "      <td>3.866837</td>\n",
       "      <td>80055.0</td>\n",
       "      <td>CA</td>\n",
       "      <td>1.613852</td>\n",
       "      <td>-0.011605</td>\n",
       "      <td>0.002685</td>\n",
       "      <td>-0.309859</td>\n",
       "      <td>0.092065</td>\n",
       "      <td>3.783007</td>\n",
       "      <td>83542.0</td>\n",
       "      <td>1</td>\n",
       "      <td>1997-01-13</td>\n",
       "      <td>29356</td>\n",
       "      <td>62834</td>\n",
       "      <td>1996-029356-062834</td>\n",
       "      <td>1995-029356-062834</td>\n",
       "      <td>0.1137</td>\n",
       "      <td>0.813304</td>\n",
       "      <td>0.204321</td>\n",
       "      <td>True</td>\n",
       "    </tr>\n",
       "    <tr>\n",
       "      <th>415</th>\n",
       "      <td>1996</td>\n",
       "      <td>1996</td>\n",
       "      <td>27747</td>\n",
       "      <td>12232</td>\n",
       "      <td>027747_012232_1997-01-13</td>\n",
       "      <td>CA</td>\n",
       "      <td>1.907900</td>\n",
       "      <td>-0.092917</td>\n",
       "      <td>0.056090</td>\n",
       "      <td>-0.087500</td>\n",
       "      <td>0.310244</td>\n",
       "      <td>4.603258</td>\n",
       "      <td>78815.0</td>\n",
       "      <td>CA</td>\n",
       "      <td>0.000000</td>\n",
       "      <td>-1.068043</td>\n",
       "      <td>0.011826</td>\n",
       "      <td>0.676471</td>\n",
       "      <td>0.270589</td>\n",
       "      <td>2.963725</td>\n",
       "      <td>10328.0</td>\n",
       "      <td>1</td>\n",
       "      <td>1997-01-13</td>\n",
       "      <td>27747</td>\n",
       "      <td>12232</td>\n",
       "      <td>1996-027747-012232</td>\n",
       "      <td>1995-027747-012232</td>\n",
       "      <td>0.0954</td>\n",
       "      <td>NaN</td>\n",
       "      <td>NaN</td>\n",
       "      <td>True</td>\n",
       "    </tr>\n",
       "    <tr>\n",
       "      <th>416</th>\n",
       "      <td>1996</td>\n",
       "      <td>1996</td>\n",
       "      <td>2051</td>\n",
       "      <td>29373</td>\n",
       "      <td>002051_029373_1997-01-14</td>\n",
       "      <td>FL</td>\n",
       "      <td>1.037031</td>\n",
       "      <td>0.013691</td>\n",
       "      <td>0.280167</td>\n",
       "      <td>0.437741</td>\n",
       "      <td>0.115589</td>\n",
       "      <td>10.626955</td>\n",
       "      <td>61284.0</td>\n",
       "      <td>NY</td>\n",
       "      <td>1.239438</td>\n",
       "      <td>0.012452</td>\n",
       "      <td>0.800840</td>\n",
       "      <td>0.309859</td>\n",
       "      <td>0.185577</td>\n",
       "      <td>7.326902</td>\n",
       "      <td>80009.0</td>\n",
       "      <td>1</td>\n",
       "      <td>1997-01-14</td>\n",
       "      <td>2051</td>\n",
       "      <td>29373</td>\n",
       "      <td>1996-002051-029373</td>\n",
       "      <td>1995-002051-029373</td>\n",
       "      <td>NaN</td>\n",
       "      <td>NaN</td>\n",
       "      <td>NaN</td>\n",
       "      <td>False</td>\n",
       "    </tr>\n",
       "    <tr>\n",
       "      <th>417</th>\n",
       "      <td>1996</td>\n",
       "      <td>1996</td>\n",
       "      <td>6304</td>\n",
       "      <td>27919</td>\n",
       "      <td>006304_027919_1997-01-14</td>\n",
       "      <td>CA</td>\n",
       "      <td>1.570619</td>\n",
       "      <td>0.169597</td>\n",
       "      <td>0.002621</td>\n",
       "      <td>-0.398058</td>\n",
       "      <td>0.346431</td>\n",
       "      <td>6.569162</td>\n",
       "      <td>46886.0</td>\n",
       "      <td>CA</td>\n",
       "      <td>1.220998</td>\n",
       "      <td>0.126519</td>\n",
       "      <td>0.034763</td>\n",
       "      <td>0.082051</td>\n",
       "      <td>0.264825</td>\n",
       "      <td>6.182950</td>\n",
       "      <td>79015.0</td>\n",
       "      <td>1</td>\n",
       "      <td>1997-01-14</td>\n",
       "      <td>6304</td>\n",
       "      <td>27919</td>\n",
       "      <td>1996-006304-027919</td>\n",
       "      <td>1995-006304-027919</td>\n",
       "      <td>0.1206</td>\n",
       "      <td>0.764627</td>\n",
       "      <td>NaN</td>\n",
       "      <td>True</td>\n",
       "    </tr>\n",
       "    <tr>\n",
       "      <th>419</th>\n",
       "      <td>1996</td>\n",
       "      <td>1996</td>\n",
       "      <td>22260</td>\n",
       "      <td>23826</td>\n",
       "      <td>022260_023826_1997-01-15</td>\n",
       "      <td>TN</td>\n",
       "      <td>1.125120</td>\n",
       "      <td>0.070750</td>\n",
       "      <td>0.203287</td>\n",
       "      <td>0.207147</td>\n",
       "      <td>0.187840</td>\n",
       "      <td>9.965147</td>\n",
       "      <td>76171.0</td>\n",
       "      <td>CT</td>\n",
       "      <td>1.050968</td>\n",
       "      <td>0.058416</td>\n",
       "      <td>0.076951</td>\n",
       "      <td>-0.290909</td>\n",
       "      <td>0.274117</td>\n",
       "      <td>7.004178</td>\n",
       "      <td>76615.0</td>\n",
       "      <td>1</td>\n",
       "      <td>1997-01-15</td>\n",
       "      <td>22260</td>\n",
       "      <td>23826</td>\n",
       "      <td>1996-022260-023826</td>\n",
       "      <td>1995-022260-023826</td>\n",
       "      <td>0.0112</td>\n",
       "      <td>NaN</td>\n",
       "      <td>NaN</td>\n",
       "      <td>False</td>\n",
       "    </tr>\n",
       "    <tr>\n",
       "      <th>420</th>\n",
       "      <td>1996</td>\n",
       "      <td>1996</td>\n",
       "      <td>24975</td>\n",
       "      <td>30867</td>\n",
       "      <td>024975_030867_1997-01-16</td>\n",
       "      <td>CA</td>\n",
       "      <td>1.331450</td>\n",
       "      <td>0.057951</td>\n",
       "      <td>0.014557</td>\n",
       "      <td>0.500000</td>\n",
       "      <td>0.331972</td>\n",
       "      <td>6.013634</td>\n",
       "      <td>77357.0</td>\n",
       "      <td>CA</td>\n",
       "      <td>1.756549</td>\n",
       "      <td>-0.176635</td>\n",
       "      <td>0.000000</td>\n",
       "      <td>0.030928</td>\n",
       "      <td>0.437026</td>\n",
       "      <td>4.003526</td>\n",
       "      <td>80976.0</td>\n",
       "      <td>1</td>\n",
       "      <td>1997-01-16</td>\n",
       "      <td>24975</td>\n",
       "      <td>30867</td>\n",
       "      <td>1996-024975-030867</td>\n",
       "      <td>1995-024975-030867</td>\n",
       "      <td>0.1737</td>\n",
       "      <td>0.827048</td>\n",
       "      <td>0.216950</td>\n",
       "      <td>True</td>\n",
       "    </tr>\n",
       "    <tr>\n",
       "      <th>421</th>\n",
       "      <td>1996</td>\n",
       "      <td>1996</td>\n",
       "      <td>28733</td>\n",
       "      <td>25994</td>\n",
       "      <td>028733_025994_1997-01-16</td>\n",
       "      <td>IL</td>\n",
       "      <td>1.230060</td>\n",
       "      <td>0.035208</td>\n",
       "      <td>0.372806</td>\n",
       "      <td>0.441652</td>\n",
       "      <td>0.373198</td>\n",
       "      <td>8.001733</td>\n",
       "      <td>79547.0</td>\n",
       "      <td>NY</td>\n",
       "      <td>1.006193</td>\n",
       "      <td>0.029965</td>\n",
       "      <td>0.457186</td>\n",
       "      <td>0.147731</td>\n",
       "      <td>0.139830</td>\n",
       "      <td>6.628424</td>\n",
       "      <td>78090.0</td>\n",
       "      <td>1</td>\n",
       "      <td>1997-01-16</td>\n",
       "      <td>28733</td>\n",
       "      <td>25994</td>\n",
       "      <td>1996-028733-025994</td>\n",
       "      <td>1995-028733-025994</td>\n",
       "      <td>0.1610</td>\n",
       "      <td>0.751907</td>\n",
       "      <td>NaN</td>\n",
       "      <td>False</td>\n",
       "    </tr>\n",
       "    <tr>\n",
       "      <th>422</th>\n",
       "      <td>1996</td>\n",
       "      <td>1996</td>\n",
       "      <td>25877</td>\n",
       "      <td>1910</td>\n",
       "      <td>025877_001910_1997-01-17</td>\n",
       "      <td>TX</td>\n",
       "      <td>1.443646</td>\n",
       "      <td>0.039285</td>\n",
       "      <td>0.018816</td>\n",
       "      <td>0.625541</td>\n",
       "      <td>0.291688</td>\n",
       "      <td>6.614429</td>\n",
       "      <td>78033.0</td>\n",
       "      <td>MD</td>\n",
       "      <td>1.100518</td>\n",
       "      <td>0.056453</td>\n",
       "      <td>0.305002</td>\n",
       "      <td>0.008438</td>\n",
       "      <td>0.278844</td>\n",
       "      <td>5.382962</td>\n",
       "      <td>50446.0</td>\n",
       "      <td>1</td>\n",
       "      <td>1997-01-17</td>\n",
       "      <td>25877</td>\n",
       "      <td>1910</td>\n",
       "      <td>1996-025877-001910</td>\n",
       "      <td>1995-025877-001910</td>\n",
       "      <td>0.0930</td>\n",
       "      <td>0.636103</td>\n",
       "      <td>0.897795</td>\n",
       "      <td>False</td>\n",
       "    </tr>\n",
       "    <tr>\n",
       "      <th>423</th>\n",
       "      <td>1996</td>\n",
       "      <td>1996</td>\n",
       "      <td>1998</td>\n",
       "      <td>25323</td>\n",
       "      <td>001998_025323_1997-01-20</td>\n",
       "      <td>OH</td>\n",
       "      <td>1.145080</td>\n",
       "      <td>0.014006</td>\n",
       "      <td>0.498947</td>\n",
       "      <td>0.302682</td>\n",
       "      <td>0.129749</td>\n",
       "      <td>11.531237</td>\n",
       "      <td>65138.0</td>\n",
       "      <td>TX</td>\n",
       "      <td>1.509412</td>\n",
       "      <td>0.032008</td>\n",
       "      <td>0.583751</td>\n",
       "      <td>0.245430</td>\n",
       "      <td>0.323740</td>\n",
       "      <td>8.950079</td>\n",
       "      <td>77634.0</td>\n",
       "      <td>1</td>\n",
       "      <td>1997-01-20</td>\n",
       "      <td>1998</td>\n",
       "      <td>25323</td>\n",
       "      <td>1996-001998-025323</td>\n",
       "      <td>1995-001998-025323</td>\n",
       "      <td>NaN</td>\n",
       "      <td>0.778905</td>\n",
       "      <td>0.131514</td>\n",
       "      <td>False</td>\n",
       "    </tr>\n",
       "    <tr>\n",
       "      <th>424</th>\n",
       "      <td>1996</td>\n",
       "      <td>1995</td>\n",
       "      <td>25279</td>\n",
       "      <td>24867</td>\n",
       "      <td>025279_024867_1997-01-20</td>\n",
       "      <td>MA</td>\n",
       "      <td>1.321106</td>\n",
       "      <td>0.110510</td>\n",
       "      <td>0.021973</td>\n",
       "      <td>0.218274</td>\n",
       "      <td>0.126912</td>\n",
       "      <td>7.321273</td>\n",
       "      <td>77605.0</td>\n",
       "      <td>CA</td>\n",
       "      <td>1.469121</td>\n",
       "      <td>0.102402</td>\n",
       "      <td>0.000000</td>\n",
       "      <td>2.321918</td>\n",
       "      <td>0.320667</td>\n",
       "      <td>4.738608</td>\n",
       "      <td>77283.0</td>\n",
       "      <td>1</td>\n",
       "      <td>1997-01-20</td>\n",
       "      <td>25279</td>\n",
       "      <td>24867</td>\n",
       "      <td>1996-025279-024867</td>\n",
       "      <td>1995-025279-024867</td>\n",
       "      <td>0.0900</td>\n",
       "      <td>NaN</td>\n",
       "      <td>NaN</td>\n",
       "      <td>False</td>\n",
       "    </tr>\n",
       "    <tr>\n",
       "      <th>425</th>\n",
       "      <td>1996</td>\n",
       "      <td>1996</td>\n",
       "      <td>31549</td>\n",
       "      <td>30630</td>\n",
       "      <td>031549_030630_1997-01-21</td>\n",
       "      <td>AL</td>\n",
       "      <td>6.632786</td>\n",
       "      <td>-0.039644</td>\n",
       "      <td>0.186870</td>\n",
       "      <td>-0.371212</td>\n",
       "      <td>0.230953</td>\n",
       "      <td>7.725758</td>\n",
       "      <td>81262.0</td>\n",
       "      <td>FL</td>\n",
       "      <td>1.255671</td>\n",
       "      <td>0.089457</td>\n",
       "      <td>0.002979</td>\n",
       "      <td>-0.250000</td>\n",
       "      <td>0.166047</td>\n",
       "      <td>4.982092</td>\n",
       "      <td>80824.0</td>\n",
       "      <td>1</td>\n",
       "      <td>1997-01-21</td>\n",
       "      <td>31549</td>\n",
       "      <td>30630</td>\n",
       "      <td>1996-031549-030630</td>\n",
       "      <td>1995-031549-030630</td>\n",
       "      <td>0.0864</td>\n",
       "      <td>0.787711</td>\n",
       "      <td>0.653321</td>\n",
       "      <td>False</td>\n",
       "    </tr>\n",
       "    <tr>\n",
       "      <th>426</th>\n",
       "      <td>1996</td>\n",
       "      <td>1996</td>\n",
       "      <td>29849</td>\n",
       "      <td>27782</td>\n",
       "      <td>029849_027782_1997-01-22</td>\n",
       "      <td>TX</td>\n",
       "      <td>1.160398</td>\n",
       "      <td>0.045157</td>\n",
       "      <td>0.126042</td>\n",
       "      <td>0.403465</td>\n",
       "      <td>0.500064</td>\n",
       "      <td>7.931240</td>\n",
       "      <td>80410.0</td>\n",
       "      <td>IA</td>\n",
       "      <td>1.080702</td>\n",
       "      <td>-0.082353</td>\n",
       "      <td>0.288548</td>\n",
       "      <td>-0.561688</td>\n",
       "      <td>0.399423</td>\n",
       "      <td>5.147872</td>\n",
       "      <td>78901.0</td>\n",
       "      <td>1</td>\n",
       "      <td>1997-01-22</td>\n",
       "      <td>29849</td>\n",
       "      <td>27782</td>\n",
       "      <td>1996-029849-027782</td>\n",
       "      <td>1995-029849-027782</td>\n",
       "      <td>0.0384</td>\n",
       "      <td>NaN</td>\n",
       "      <td>NaN</td>\n",
       "      <td>False</td>\n",
       "    </tr>\n",
       "    <tr>\n",
       "      <th>427</th>\n",
       "      <td>1996</td>\n",
       "      <td>1996</td>\n",
       "      <td>63229</td>\n",
       "      <td>29766</td>\n",
       "      <td>063229_029766_1997-12-19</td>\n",
       "      <td>TX</td>\n",
       "      <td>2.239107</td>\n",
       "      <td>-0.081559</td>\n",
       "      <td>0.241974</td>\n",
       "      <td>1.365385</td>\n",
       "      <td>0.403824</td>\n",
       "      <td>6.129379</td>\n",
       "      <td>83766.0</td>\n",
       "      <td>LA</td>\n",
       "      <td>2.013941</td>\n",
       "      <td>-0.414372</td>\n",
       "      <td>0.047209</td>\n",
       "      <td>-0.081081</td>\n",
       "      <td>0.012630</td>\n",
       "      <td>2.942015</td>\n",
       "      <td>80260.0</td>\n",
       "      <td>1</td>\n",
       "      <td>1997-12-19</td>\n",
       "      <td>63229</td>\n",
       "      <td>29766</td>\n",
       "      <td>1996-063229-029766</td>\n",
       "      <td>1995-063229-029766</td>\n",
       "      <td>0.0187</td>\n",
       "      <td>0.805140</td>\n",
       "      <td>0.997475</td>\n",
       "      <td>False</td>\n",
       "    </tr>\n",
       "    <tr>\n",
       "      <th>428</th>\n",
       "      <td>1996</td>\n",
       "      <td>1996</td>\n",
       "      <td>11550</td>\n",
       "      <td>4220</td>\n",
       "      <td>011550_004220_1997-01-23</td>\n",
       "      <td>WI</td>\n",
       "      <td>1.001884</td>\n",
       "      <td>0.045592</td>\n",
       "      <td>0.358257</td>\n",
       "      <td>-0.073799</td>\n",
       "      <td>0.080310</td>\n",
       "      <td>8.478626</td>\n",
       "      <td>23536.0</td>\n",
       "      <td>MI</td>\n",
       "      <td>1.017777</td>\n",
       "      <td>0.048954</td>\n",
       "      <td>0.374385</td>\n",
       "      <td>0.146887</td>\n",
       "      <td>0.186489</td>\n",
       "      <td>4.045784</td>\n",
       "      <td>31625.0</td>\n",
       "      <td>1</td>\n",
       "      <td>1997-01-23</td>\n",
       "      <td>11550</td>\n",
       "      <td>4220</td>\n",
       "      <td>1996-011550-004220</td>\n",
       "      <td>1995-011550-004220</td>\n",
       "      <td>0.0931</td>\n",
       "      <td>0.673851</td>\n",
       "      <td>0.015555</td>\n",
       "      <td>False</td>\n",
       "    </tr>\n",
       "    <tr>\n",
       "      <th>429</th>\n",
       "      <td>1996</td>\n",
       "      <td>1996</td>\n",
       "      <td>5693</td>\n",
       "      <td>7182</td>\n",
       "      <td>005693_007182_1997-01-27</td>\n",
       "      <td>NJ</td>\n",
       "      <td>1.086209</td>\n",
       "      <td>0.073307</td>\n",
       "      <td>0.104259</td>\n",
       "      <td>0.377523</td>\n",
       "      <td>0.171892</td>\n",
       "      <td>8.611284</td>\n",
       "      <td>18374.0</td>\n",
       "      <td>CA</td>\n",
       "      <td>1.240916</td>\n",
       "      <td>0.109615</td>\n",
       "      <td>0.058653</td>\n",
       "      <td>-0.106523</td>\n",
       "      <td>0.256858</td>\n",
       "      <td>5.820424</td>\n",
       "      <td>59942.0</td>\n",
       "      <td>1</td>\n",
       "      <td>1997-01-27</td>\n",
       "      <td>5693</td>\n",
       "      <td>7182</td>\n",
       "      <td>1996-005693-007182</td>\n",
       "      <td>1995-005693-007182</td>\n",
       "      <td>0.0028</td>\n",
       "      <td>NaN</td>\n",
       "      <td>NaN</td>\n",
       "      <td>False</td>\n",
       "    </tr>\n",
       "    <tr>\n",
       "      <th>430</th>\n",
       "      <td>1996</td>\n",
       "      <td>1996</td>\n",
       "      <td>24988</td>\n",
       "      <td>61605</td>\n",
       "      <td>024988_061605_1997-01-27</td>\n",
       "      <td>CA</td>\n",
       "      <td>1.422244</td>\n",
       "      <td>-0.099432</td>\n",
       "      <td>0.000000</td>\n",
       "      <td>0.008264</td>\n",
       "      <td>0.394093</td>\n",
       "      <td>4.277208</td>\n",
       "      <td>77387.0</td>\n",
       "      <td>CA</td>\n",
       "      <td>1.260169</td>\n",
       "      <td>-0.086984</td>\n",
       "      <td>0.005820</td>\n",
       "      <td>-0.278689</td>\n",
       "      <td>0.255479</td>\n",
       "      <td>3.220435</td>\n",
       "      <td>82559.0</td>\n",
       "      <td>1</td>\n",
       "      <td>1997-01-27</td>\n",
       "      <td>24988</td>\n",
       "      <td>61605</td>\n",
       "      <td>1996-024988-061605</td>\n",
       "      <td>1995-024988-061605</td>\n",
       "      <td>0.1667</td>\n",
       "      <td>0.828493</td>\n",
       "      <td>0.951237</td>\n",
       "      <td>True</td>\n",
       "    </tr>\n",
       "    <tr>\n",
       "      <th>431</th>\n",
       "      <td>1996</td>\n",
       "      <td>1995</td>\n",
       "      <td>7241</td>\n",
       "      <td>13961</td>\n",
       "      <td>007241_013961_1997-01-27</td>\n",
       "      <td>RI</td>\n",
       "      <td>0.570551</td>\n",
       "      <td>0.084610</td>\n",
       "      <td>0.068374</td>\n",
       "      <td>0.578423</td>\n",
       "      <td>0.280876</td>\n",
       "      <td>7.948668</td>\n",
       "      <td>17005.0</td>\n",
       "      <td>OH</td>\n",
       "      <td>1.147973</td>\n",
       "      <td>0.035716</td>\n",
       "      <td>0.260596</td>\n",
       "      <td>0.117647</td>\n",
       "      <td>0.406974</td>\n",
       "      <td>7.665519</td>\n",
       "      <td>77641.0</td>\n",
       "      <td>1</td>\n",
       "      <td>1997-01-27</td>\n",
       "      <td>7241</td>\n",
       "      <td>13961</td>\n",
       "      <td>1996-007241-013961</td>\n",
       "      <td>1995-007241-013961</td>\n",
       "      <td>0.1560</td>\n",
       "      <td>0.705518</td>\n",
       "      <td>NaN</td>\n",
       "      <td>False</td>\n",
       "    </tr>\n",
       "    <tr>\n",
       "      <th>432</th>\n",
       "      <td>1996</td>\n",
       "      <td>1996</td>\n",
       "      <td>14362</td>\n",
       "      <td>17046</td>\n",
       "      <td>014362_017046_1997-01-28</td>\n",
       "      <td>CT</td>\n",
       "      <td>1.311702</td>\n",
       "      <td>0.009722</td>\n",
       "      <td>0.642118</td>\n",
       "      <td>0.229865</td>\n",
       "      <td>0.180670</td>\n",
       "      <td>7.246232</td>\n",
       "      <td>11064.0</td>\n",
       "      <td>CT</td>\n",
       "      <td>1.041517</td>\n",
       "      <td>0.005175</td>\n",
       "      <td>0.240606</td>\n",
       "      <td>0.376575</td>\n",
       "      <td>0.116400</td>\n",
       "      <td>5.881728</td>\n",
       "      <td>10654.0</td>\n",
       "      <td>1</td>\n",
       "      <td>1997-01-28</td>\n",
       "      <td>14362</td>\n",
       "      <td>17046</td>\n",
       "      <td>1996-014362-017046</td>\n",
       "      <td>1995-014362-017046</td>\n",
       "      <td>NaN</td>\n",
       "      <td>NaN</td>\n",
       "      <td>NaN</td>\n",
       "      <td>True</td>\n",
       "    </tr>\n",
       "    <tr>\n",
       "      <th>433</th>\n",
       "      <td>1996</td>\n",
       "      <td>1996</td>\n",
       "      <td>15312</td>\n",
       "      <td>6513</td>\n",
       "      <td>015312_006513_1997-02-03</td>\n",
       "      <td>IL</td>\n",
       "      <td>1.098930</td>\n",
       "      <td>0.065550</td>\n",
       "      <td>0.235233</td>\n",
       "      <td>0.346860</td>\n",
       "      <td>0.270421</td>\n",
       "      <td>5.646379</td>\n",
       "      <td>75482.0</td>\n",
       "      <td>MI</td>\n",
       "      <td>1.061266</td>\n",
       "      <td>0.012440</td>\n",
       "      <td>0.178879</td>\n",
       "      <td>0.378999</td>\n",
       "      <td>0.196150</td>\n",
       "      <td>5.829493</td>\n",
       "      <td>41136.0</td>\n",
       "      <td>1</td>\n",
       "      <td>1997-02-03</td>\n",
       "      <td>15312</td>\n",
       "      <td>6513</td>\n",
       "      <td>1996-015312-006513</td>\n",
       "      <td>1995-015312-006513</td>\n",
       "      <td>NaN</td>\n",
       "      <td>NaN</td>\n",
       "      <td>NaN</td>\n",
       "      <td>False</td>\n",
       "    </tr>\n",
       "    <tr>\n",
       "      <th>434</th>\n",
       "      <td>1996</td>\n",
       "      <td>1996</td>\n",
       "      <td>27867</td>\n",
       "      <td>12124</td>\n",
       "      <td>027867_012124_1997-02-05</td>\n",
       "      <td>NY</td>\n",
       "      <td>1.137906</td>\n",
       "      <td>0.022431</td>\n",
       "      <td>0.640283</td>\n",
       "      <td>0.431441</td>\n",
       "      <td>0.188442</td>\n",
       "      <td>10.655224</td>\n",
       "      <td>78946.0</td>\n",
       "      <td>NY</td>\n",
       "      <td>1.440596</td>\n",
       "      <td>0.005238</td>\n",
       "      <td>0.944294</td>\n",
       "      <td>0.414148</td>\n",
       "      <td>0.126655</td>\n",
       "      <td>12.188143</td>\n",
       "      <td>69032.0</td>\n",
       "      <td>1</td>\n",
       "      <td>1997-02-05</td>\n",
       "      <td>27867</td>\n",
       "      <td>12124</td>\n",
       "      <td>1996-027867-012124</td>\n",
       "      <td>1995-027867-012124</td>\n",
       "      <td>0.7648</td>\n",
       "      <td>NaN</td>\n",
       "      <td>NaN</td>\n",
       "      <td>True</td>\n",
       "    </tr>\n",
       "    <tr>\n",
       "      <th>435</th>\n",
       "      <td>1996</td>\n",
       "      <td>1996</td>\n",
       "      <td>17130</td>\n",
       "      <td>21060</td>\n",
       "      <td>017130_021060_1997-02-06</td>\n",
       "      <td>PA</td>\n",
       "      <td>1.239126</td>\n",
       "      <td>0.005456</td>\n",
       "      <td>0.831261</td>\n",
       "      <td>0.371985</td>\n",
       "      <td>0.178930</td>\n",
       "      <td>9.151986</td>\n",
       "      <td>10562.0</td>\n",
       "      <td>NJ</td>\n",
       "      <td>1.194163</td>\n",
       "      <td>0.009889</td>\n",
       "      <td>0.711413</td>\n",
       "      <td>0.280544</td>\n",
       "      <td>0.136974</td>\n",
       "      <td>7.807829</td>\n",
       "      <td>76105.0</td>\n",
       "      <td>1</td>\n",
       "      <td>1997-02-06</td>\n",
       "      <td>17130</td>\n",
       "      <td>21060</td>\n",
       "      <td>1996-017130-021060</td>\n",
       "      <td>1995-017130-021060</td>\n",
       "      <td>0.0522</td>\n",
       "      <td>0.515670</td>\n",
       "      <td>NaN</td>\n",
       "      <td>False</td>\n",
       "    </tr>\n",
       "    <tr>\n",
       "      <th>436</th>\n",
       "      <td>1996</td>\n",
       "      <td>1996</td>\n",
       "      <td>17239</td>\n",
       "      <td>30396</td>\n",
       "      <td>017239_030396_1997-02-10</td>\n",
       "      <td>KY</td>\n",
       "      <td>1.109222</td>\n",
       "      <td>0.024382</td>\n",
       "      <td>0.259946</td>\n",
       "      <td>-0.026923</td>\n",
       "      <td>0.247168</td>\n",
       "      <td>7.585208</td>\n",
       "      <td>75819.0</td>\n",
       "      <td>GA</td>\n",
       "      <td>1.245019</td>\n",
       "      <td>0.058956</td>\n",
       "      <td>0.457609</td>\n",
       "      <td>-0.145833</td>\n",
       "      <td>0.201178</td>\n",
       "      <td>5.954079</td>\n",
       "      <td>80666.0</td>\n",
       "      <td>1</td>\n",
       "      <td>1997-02-10</td>\n",
       "      <td>17239</td>\n",
       "      <td>30396</td>\n",
       "      <td>1996-017239-030396</td>\n",
       "      <td>1995-017239-030396</td>\n",
       "      <td>0.1313</td>\n",
       "      <td>NaN</td>\n",
       "      <td>NaN</td>\n",
       "      <td>False</td>\n",
       "    </tr>\n",
       "    <tr>\n",
       "      <th>437</th>\n",
       "      <td>1996</td>\n",
       "      <td>1995</td>\n",
       "      <td>61694</td>\n",
       "      <td>61517</td>\n",
       "      <td>061694_061517_1997-02-11</td>\n",
       "      <td>CA</td>\n",
       "      <td>1.675632</td>\n",
       "      <td>-0.162005</td>\n",
       "      <td>0.000000</td>\n",
       "      <td>-0.548077</td>\n",
       "      <td>0.097313</td>\n",
       "      <td>4.043560</td>\n",
       "      <td>82727.0</td>\n",
       "      <td>CA</td>\n",
       "      <td>1.658418</td>\n",
       "      <td>0.078027</td>\n",
       "      <td>0.000000</td>\n",
       "      <td>-0.140351</td>\n",
       "      <td>0.109404</td>\n",
       "      <td>3.623647</td>\n",
       "      <td>82574.0</td>\n",
       "      <td>1</td>\n",
       "      <td>1997-02-11</td>\n",
       "      <td>61694</td>\n",
       "      <td>61517</td>\n",
       "      <td>1996-061694-061517</td>\n",
       "      <td>1995-061694-061517</td>\n",
       "      <td>0.1819</td>\n",
       "      <td>NaN</td>\n",
       "      <td>NaN</td>\n",
       "      <td>True</td>\n",
       "    </tr>\n",
       "    <tr>\n",
       "      <th>438</th>\n",
       "      <td>1996</td>\n",
       "      <td>1996</td>\n",
       "      <td>5399</td>\n",
       "      <td>61751</td>\n",
       "      <td>005399_061751_1997-02-11</td>\n",
       "      <td>GA</td>\n",
       "      <td>1.607316</td>\n",
       "      <td>0.087113</td>\n",
       "      <td>0.000093</td>\n",
       "      <td>0.551858</td>\n",
       "      <td>0.283568</td>\n",
       "      <td>6.743997</td>\n",
       "      <td>40484.0</td>\n",
       "      <td>MD</td>\n",
       "      <td>1.460912</td>\n",
       "      <td>0.105784</td>\n",
       "      <td>0.000000</td>\n",
       "      <td>-0.105263</td>\n",
       "      <td>0.209487</td>\n",
       "      <td>3.793285</td>\n",
       "      <td>82666.0</td>\n",
       "      <td>1</td>\n",
       "      <td>1997-02-11</td>\n",
       "      <td>5399</td>\n",
       "      <td>61751</td>\n",
       "      <td>1996-005399-061751</td>\n",
       "      <td>1995-005399-061751</td>\n",
       "      <td>0.0325</td>\n",
       "      <td>0.753515</td>\n",
       "      <td>0.730120</td>\n",
       "      <td>False</td>\n",
       "    </tr>\n",
       "    <tr>\n",
       "      <th>...</th>\n",
       "      <td>...</td>\n",
       "      <td>...</td>\n",
       "      <td>...</td>\n",
       "      <td>...</td>\n",
       "      <td>...</td>\n",
       "      <td>...</td>\n",
       "      <td>...</td>\n",
       "      <td>...</td>\n",
       "      <td>...</td>\n",
       "      <td>...</td>\n",
       "      <td>...</td>\n",
       "      <td>...</td>\n",
       "      <td>...</td>\n",
       "      <td>...</td>\n",
       "      <td>...</td>\n",
       "      <td>...</td>\n",
       "      <td>...</td>\n",
       "      <td>...</td>\n",
       "      <td>...</td>\n",
       "      <td>...</td>\n",
       "      <td>...</td>\n",
       "      <td>...</td>\n",
       "      <td>...</td>\n",
       "      <td>...</td>\n",
       "      <td>...</td>\n",
       "      <td>...</td>\n",
       "      <td>...</td>\n",
       "      <td>...</td>\n",
       "      <td>...</td>\n",
       "      <td>...</td>\n",
       "      <td>...</td>\n",
       "    </tr>\n",
       "    <tr>\n",
       "      <th>21746</th>\n",
       "      <td>2015</td>\n",
       "      <td>2015</td>\n",
       "      <td>184167</td>\n",
       "      <td>164059</td>\n",
       "      <td>184167_029613_2016-11-17</td>\n",
       "      <td>MT</td>\n",
       "      <td>1.071756</td>\n",
       "      <td>0.009944</td>\n",
       "      <td>0.319840</td>\n",
       "      <td>0.076659</td>\n",
       "      <td>0.216093</td>\n",
       "      <td>9.074314</td>\n",
       "      <td>93304.0</td>\n",
       "      <td>CA</td>\n",
       "      <td>1.619947</td>\n",
       "      <td>0.008060</td>\n",
       "      <td>0.052342</td>\n",
       "      <td>0.169202</td>\n",
       "      <td>0.264207</td>\n",
       "      <td>7.876503</td>\n",
       "      <td>13640.0</td>\n",
       "      <td>0</td>\n",
       "      <td>2016-11-17</td>\n",
       "      <td>184167</td>\n",
       "      <td>164059</td>\n",
       "      <td>2015-184167-164059</td>\n",
       "      <td>2014-184167-164059</td>\n",
       "      <td>0.0987</td>\n",
       "      <td>NaN</td>\n",
       "      <td>NaN</td>\n",
       "      <td>False</td>\n",
       "    </tr>\n",
       "    <tr>\n",
       "      <th>21747</th>\n",
       "      <td>2015</td>\n",
       "      <td>2015</td>\n",
       "      <td>184167</td>\n",
       "      <td>28967</td>\n",
       "      <td>184167_029613_2016-11-17</td>\n",
       "      <td>MT</td>\n",
       "      <td>1.071756</td>\n",
       "      <td>0.009944</td>\n",
       "      <td>0.319840</td>\n",
       "      <td>0.076659</td>\n",
       "      <td>0.216093</td>\n",
       "      <td>9.074314</td>\n",
       "      <td>93304.0</td>\n",
       "      <td>IL</td>\n",
       "      <td>1.064349</td>\n",
       "      <td>0.006528</td>\n",
       "      <td>0.608577</td>\n",
       "      <td>0.364766</td>\n",
       "      <td>0.178032</td>\n",
       "      <td>7.860647</td>\n",
       "      <td>79731.0</td>\n",
       "      <td>0</td>\n",
       "      <td>2016-11-17</td>\n",
       "      <td>184167</td>\n",
       "      <td>28967</td>\n",
       "      <td>2015-184167-028967</td>\n",
       "      <td>2014-184167-028967</td>\n",
       "      <td>NaN</td>\n",
       "      <td>NaN</td>\n",
       "      <td>NaN</td>\n",
       "      <td>False</td>\n",
       "    </tr>\n",
       "    <tr>\n",
       "      <th>21748</th>\n",
       "      <td>2015</td>\n",
       "      <td>2015</td>\n",
       "      <td>184167</td>\n",
       "      <td>20677</td>\n",
       "      <td>184167_029613_2016-11-17</td>\n",
       "      <td>MT</td>\n",
       "      <td>1.071756</td>\n",
       "      <td>0.009944</td>\n",
       "      <td>0.319840</td>\n",
       "      <td>0.076659</td>\n",
       "      <td>0.216093</td>\n",
       "      <td>9.074314</td>\n",
       "      <td>93304.0</td>\n",
       "      <td>CA</td>\n",
       "      <td>1.292417</td>\n",
       "      <td>0.005160</td>\n",
       "      <td>0.678607</td>\n",
       "      <td>0.300441</td>\n",
       "      <td>0.212300</td>\n",
       "      <td>7.860408</td>\n",
       "      <td>15064.0</td>\n",
       "      <td>0</td>\n",
       "      <td>2016-11-17</td>\n",
       "      <td>184167</td>\n",
       "      <td>20677</td>\n",
       "      <td>2015-184167-020677</td>\n",
       "      <td>2014-184167-020677</td>\n",
       "      <td>0.2231</td>\n",
       "      <td>NaN</td>\n",
       "      <td>NaN</td>\n",
       "      <td>False</td>\n",
       "    </tr>\n",
       "    <tr>\n",
       "      <th>21749</th>\n",
       "      <td>2015</td>\n",
       "      <td>2015</td>\n",
       "      <td>184167</td>\n",
       "      <td>162489</td>\n",
       "      <td>184167_029613_2016-11-17</td>\n",
       "      <td>MT</td>\n",
       "      <td>1.071756</td>\n",
       "      <td>0.009944</td>\n",
       "      <td>0.319840</td>\n",
       "      <td>0.076659</td>\n",
       "      <td>0.216093</td>\n",
       "      <td>9.074314</td>\n",
       "      <td>93304.0</td>\n",
       "      <td>CO</td>\n",
       "      <td>1.079109</td>\n",
       "      <td>0.009480</td>\n",
       "      <td>0.481287</td>\n",
       "      <td>0.173840</td>\n",
       "      <td>0.432088</td>\n",
       "      <td>7.770023</td>\n",
       "      <td>90948.0</td>\n",
       "      <td>0</td>\n",
       "      <td>2016-11-17</td>\n",
       "      <td>184167</td>\n",
       "      <td>162489</td>\n",
       "      <td>2015-184167-162489</td>\n",
       "      <td>2014-184167-162489</td>\n",
       "      <td>0.1976</td>\n",
       "      <td>NaN</td>\n",
       "      <td>NaN</td>\n",
       "      <td>False</td>\n",
       "    </tr>\n",
       "    <tr>\n",
       "      <th>21750</th>\n",
       "      <td>2015</td>\n",
       "      <td>2015</td>\n",
       "      <td>184167</td>\n",
       "      <td>16668</td>\n",
       "      <td>184167_029613_2016-11-17</td>\n",
       "      <td>MT</td>\n",
       "      <td>1.071756</td>\n",
       "      <td>0.009944</td>\n",
       "      <td>0.319840</td>\n",
       "      <td>0.076659</td>\n",
       "      <td>0.216093</td>\n",
       "      <td>9.074314</td>\n",
       "      <td>93304.0</td>\n",
       "      <td>NY</td>\n",
       "      <td>1.036574</td>\n",
       "      <td>0.010082</td>\n",
       "      <td>0.338846</td>\n",
       "      <td>0.045941</td>\n",
       "      <td>0.203789</td>\n",
       "      <td>7.802286</td>\n",
       "      <td>15070.0</td>\n",
       "      <td>0</td>\n",
       "      <td>2016-11-17</td>\n",
       "      <td>184167</td>\n",
       "      <td>16668</td>\n",
       "      <td>2015-184167-016668</td>\n",
       "      <td>2014-184167-016668</td>\n",
       "      <td>0.1131</td>\n",
       "      <td>NaN</td>\n",
       "      <td>NaN</td>\n",
       "      <td>False</td>\n",
       "    </tr>\n",
       "    <tr>\n",
       "      <th>21751</th>\n",
       "      <td>2016</td>\n",
       "      <td>2015</td>\n",
       "      <td>187740</td>\n",
       "      <td>160213</td>\n",
       "      <td>187740_065904_2016-11-21</td>\n",
       "      <td>MA</td>\n",
       "      <td>1.349867</td>\n",
       "      <td>-0.003019</td>\n",
       "      <td>0.204283</td>\n",
       "      <td>0.131817</td>\n",
       "      <td>0.220734</td>\n",
       "      <td>7.080490</td>\n",
       "      <td>13326.0</td>\n",
       "      <td>CA</td>\n",
       "      <td>0.985756</td>\n",
       "      <td>-0.020370</td>\n",
       "      <td>0.000000</td>\n",
       "      <td>0.666667</td>\n",
       "      <td>0.224950</td>\n",
       "      <td>4.668427</td>\n",
       "      <td>91901.0</td>\n",
       "      <td>0</td>\n",
       "      <td>2016-11-21</td>\n",
       "      <td>187740</td>\n",
       "      <td>160213</td>\n",
       "      <td>2016-187740-160213</td>\n",
       "      <td>2015-187740-160213</td>\n",
       "      <td>0.0162</td>\n",
       "      <td>NaN</td>\n",
       "      <td>NaN</td>\n",
       "      <td>False</td>\n",
       "    </tr>\n",
       "    <tr>\n",
       "      <th>21752</th>\n",
       "      <td>2016</td>\n",
       "      <td>2015</td>\n",
       "      <td>187740</td>\n",
       "      <td>64637</td>\n",
       "      <td>187740_065904_2016-11-21</td>\n",
       "      <td>MA</td>\n",
       "      <td>1.349867</td>\n",
       "      <td>-0.003019</td>\n",
       "      <td>0.204283</td>\n",
       "      <td>0.131817</td>\n",
       "      <td>0.220734</td>\n",
       "      <td>7.080490</td>\n",
       "      <td>13326.0</td>\n",
       "      <td>CA</td>\n",
       "      <td>0.467364</td>\n",
       "      <td>-0.014120</td>\n",
       "      <td>0.000000</td>\n",
       "      <td>0.156604</td>\n",
       "      <td>0.310056</td>\n",
       "      <td>5.080827</td>\n",
       "      <td>84607.0</td>\n",
       "      <td>0</td>\n",
       "      <td>2016-11-21</td>\n",
       "      <td>187740</td>\n",
       "      <td>64637</td>\n",
       "      <td>2016-187740-064637</td>\n",
       "      <td>2015-187740-064637</td>\n",
       "      <td>0.0954</td>\n",
       "      <td>NaN</td>\n",
       "      <td>NaN</td>\n",
       "      <td>False</td>\n",
       "    </tr>\n",
       "    <tr>\n",
       "      <th>21753</th>\n",
       "      <td>2016</td>\n",
       "      <td>2015</td>\n",
       "      <td>187740</td>\n",
       "      <td>187450</td>\n",
       "      <td>187740_065904_2016-11-21</td>\n",
       "      <td>MA</td>\n",
       "      <td>1.349867</td>\n",
       "      <td>-0.003019</td>\n",
       "      <td>0.204283</td>\n",
       "      <td>0.131817</td>\n",
       "      <td>0.220734</td>\n",
       "      <td>7.080490</td>\n",
       "      <td>13326.0</td>\n",
       "      <td>CA</td>\n",
       "      <td>1.038804</td>\n",
       "      <td>-0.133403</td>\n",
       "      <td>0.095596</td>\n",
       "      <td>-0.754374</td>\n",
       "      <td>0.240994</td>\n",
       "      <td>5.109140</td>\n",
       "      <td>13323.0</td>\n",
       "      <td>0</td>\n",
       "      <td>2016-11-21</td>\n",
       "      <td>187740</td>\n",
       "      <td>187450</td>\n",
       "      <td>2016-187740-187450</td>\n",
       "      <td>2015-187740-187450</td>\n",
       "      <td>NaN</td>\n",
       "      <td>NaN</td>\n",
       "      <td>NaN</td>\n",
       "      <td>False</td>\n",
       "    </tr>\n",
       "    <tr>\n",
       "      <th>21754</th>\n",
       "      <td>2016</td>\n",
       "      <td>2015</td>\n",
       "      <td>187740</td>\n",
       "      <td>178865</td>\n",
       "      <td>187740_065904_2016-11-21</td>\n",
       "      <td>MA</td>\n",
       "      <td>1.349867</td>\n",
       "      <td>-0.003019</td>\n",
       "      <td>0.204283</td>\n",
       "      <td>0.131817</td>\n",
       "      <td>0.220734</td>\n",
       "      <td>7.080490</td>\n",
       "      <td>13326.0</td>\n",
       "      <td>IL</td>\n",
       "      <td>0.521353</td>\n",
       "      <td>-0.652706</td>\n",
       "      <td>0.047762</td>\n",
       "      <td>-0.750547</td>\n",
       "      <td>0.511091</td>\n",
       "      <td>4.781155</td>\n",
       "      <td>92448.0</td>\n",
       "      <td>0</td>\n",
       "      <td>2016-11-21</td>\n",
       "      <td>187740</td>\n",
       "      <td>178865</td>\n",
       "      <td>2016-187740-178865</td>\n",
       "      <td>2015-187740-178865</td>\n",
       "      <td>NaN</td>\n",
       "      <td>NaN</td>\n",
       "      <td>NaN</td>\n",
       "      <td>False</td>\n",
       "    </tr>\n",
       "    <tr>\n",
       "      <th>21755</th>\n",
       "      <td>2016</td>\n",
       "      <td>2015</td>\n",
       "      <td>187740</td>\n",
       "      <td>110760</td>\n",
       "      <td>187740_065904_2016-11-21</td>\n",
       "      <td>MA</td>\n",
       "      <td>1.349867</td>\n",
       "      <td>-0.003019</td>\n",
       "      <td>0.204283</td>\n",
       "      <td>0.131817</td>\n",
       "      <td>0.220734</td>\n",
       "      <td>7.080490</td>\n",
       "      <td>13326.0</td>\n",
       "      <td>CA</td>\n",
       "      <td>0.928179</td>\n",
       "      <td>-0.014668</td>\n",
       "      <td>0.000000</td>\n",
       "      <td>-0.114286</td>\n",
       "      <td>0.281573</td>\n",
       "      <td>5.023196</td>\n",
       "      <td>86051.0</td>\n",
       "      <td>0</td>\n",
       "      <td>2016-11-21</td>\n",
       "      <td>187740</td>\n",
       "      <td>110760</td>\n",
       "      <td>2016-187740-110760</td>\n",
       "      <td>2015-187740-110760</td>\n",
       "      <td>0.0218</td>\n",
       "      <td>NaN</td>\n",
       "      <td>NaN</td>\n",
       "      <td>False</td>\n",
       "    </tr>\n",
       "    <tr>\n",
       "      <th>21756</th>\n",
       "      <td>2015</td>\n",
       "      <td>2015</td>\n",
       "      <td>166593</td>\n",
       "      <td>20088</td>\n",
       "      <td>166593_184676_2016-12-06</td>\n",
       "      <td>NJ</td>\n",
       "      <td>1.265719</td>\n",
       "      <td>0.040016</td>\n",
       "      <td>0.134612</td>\n",
       "      <td>-0.158385</td>\n",
       "      <td>0.295034</td>\n",
       "      <td>6.922989</td>\n",
       "      <td>91366.0</td>\n",
       "      <td>CA</td>\n",
       "      <td>1.398558</td>\n",
       "      <td>-0.407946</td>\n",
       "      <td>0.038395</td>\n",
       "      <td>-0.007163</td>\n",
       "      <td>0.223025</td>\n",
       "      <td>6.209571</td>\n",
       "      <td>15145.0</td>\n",
       "      <td>0</td>\n",
       "      <td>2016-12-06</td>\n",
       "      <td>166593</td>\n",
       "      <td>20088</td>\n",
       "      <td>2015-166593-020088</td>\n",
       "      <td>2014-166593-020088</td>\n",
       "      <td>0.0353</td>\n",
       "      <td>NaN</td>\n",
       "      <td>NaN</td>\n",
       "      <td>False</td>\n",
       "    </tr>\n",
       "    <tr>\n",
       "      <th>21757</th>\n",
       "      <td>2015</td>\n",
       "      <td>2015</td>\n",
       "      <td>166593</td>\n",
       "      <td>26012</td>\n",
       "      <td>166593_184676_2016-12-06</td>\n",
       "      <td>NJ</td>\n",
       "      <td>1.265719</td>\n",
       "      <td>0.040016</td>\n",
       "      <td>0.134612</td>\n",
       "      <td>-0.158385</td>\n",
       "      <td>0.295034</td>\n",
       "      <td>6.922989</td>\n",
       "      <td>91366.0</td>\n",
       "      <td>PA</td>\n",
       "      <td>0.919604</td>\n",
       "      <td>-0.359614</td>\n",
       "      <td>0.389102</td>\n",
       "      <td>0.655055</td>\n",
       "      <td>0.333173</td>\n",
       "      <td>6.164985</td>\n",
       "      <td>78172.0</td>\n",
       "      <td>0</td>\n",
       "      <td>2016-12-06</td>\n",
       "      <td>166593</td>\n",
       "      <td>26012</td>\n",
       "      <td>2015-166593-026012</td>\n",
       "      <td>2014-166593-026012</td>\n",
       "      <td>NaN</td>\n",
       "      <td>NaN</td>\n",
       "      <td>NaN</td>\n",
       "      <td>False</td>\n",
       "    </tr>\n",
       "    <tr>\n",
       "      <th>21758</th>\n",
       "      <td>2015</td>\n",
       "      <td>2015</td>\n",
       "      <td>166593</td>\n",
       "      <td>122536</td>\n",
       "      <td>166593_184676_2016-12-06</td>\n",
       "      <td>NJ</td>\n",
       "      <td>1.265719</td>\n",
       "      <td>0.040016</td>\n",
       "      <td>0.134612</td>\n",
       "      <td>-0.158385</td>\n",
       "      <td>0.295034</td>\n",
       "      <td>6.922989</td>\n",
       "      <td>91366.0</td>\n",
       "      <td>PA</td>\n",
       "      <td>1.572675</td>\n",
       "      <td>-0.213443</td>\n",
       "      <td>0.002819</td>\n",
       "      <td>-0.380076</td>\n",
       "      <td>0.416921</td>\n",
       "      <td>6.109568</td>\n",
       "      <td>87167.0</td>\n",
       "      <td>0</td>\n",
       "      <td>2016-12-06</td>\n",
       "      <td>166593</td>\n",
       "      <td>122536</td>\n",
       "      <td>2015-166593-122536</td>\n",
       "      <td>2014-166593-122536</td>\n",
       "      <td>NaN</td>\n",
       "      <td>NaN</td>\n",
       "      <td>NaN</td>\n",
       "      <td>False</td>\n",
       "    </tr>\n",
       "    <tr>\n",
       "      <th>21759</th>\n",
       "      <td>2015</td>\n",
       "      <td>2015</td>\n",
       "      <td>166593</td>\n",
       "      <td>170444</td>\n",
       "      <td>166593_184676_2016-12-06</td>\n",
       "      <td>NJ</td>\n",
       "      <td>1.265719</td>\n",
       "      <td>0.040016</td>\n",
       "      <td>0.134612</td>\n",
       "      <td>-0.158385</td>\n",
       "      <td>0.295034</td>\n",
       "      <td>6.922989</td>\n",
       "      <td>91366.0</td>\n",
       "      <td>CA</td>\n",
       "      <td>1.222837</td>\n",
       "      <td>-0.058970</td>\n",
       "      <td>0.000000</td>\n",
       "      <td>-0.090054</td>\n",
       "      <td>0.282220</td>\n",
       "      <td>6.129632</td>\n",
       "      <td>13342.0</td>\n",
       "      <td>0</td>\n",
       "      <td>2016-12-06</td>\n",
       "      <td>166593</td>\n",
       "      <td>170444</td>\n",
       "      <td>2015-166593-170444</td>\n",
       "      <td>2014-166593-170444</td>\n",
       "      <td>0.0139</td>\n",
       "      <td>NaN</td>\n",
       "      <td>NaN</td>\n",
       "      <td>False</td>\n",
       "    </tr>\n",
       "    <tr>\n",
       "      <th>21760</th>\n",
       "      <td>2015</td>\n",
       "      <td>2015</td>\n",
       "      <td>166593</td>\n",
       "      <td>3382</td>\n",
       "      <td>166593_184676_2016-12-06</td>\n",
       "      <td>NJ</td>\n",
       "      <td>1.265719</td>\n",
       "      <td>0.040016</td>\n",
       "      <td>0.134612</td>\n",
       "      <td>-0.158385</td>\n",
       "      <td>0.295034</td>\n",
       "      <td>6.922989</td>\n",
       "      <td>91366.0</td>\n",
       "      <td>NY</td>\n",
       "      <td>1.296301</td>\n",
       "      <td>0.041678</td>\n",
       "      <td>0.000000</td>\n",
       "      <td>-0.531983</td>\n",
       "      <td>0.362131</td>\n",
       "      <td>6.150861</td>\n",
       "      <td>13625.0</td>\n",
       "      <td>0</td>\n",
       "      <td>2016-12-06</td>\n",
       "      <td>166593</td>\n",
       "      <td>3382</td>\n",
       "      <td>2015-166593-003382</td>\n",
       "      <td>2014-166593-003382</td>\n",
       "      <td>NaN</td>\n",
       "      <td>NaN</td>\n",
       "      <td>NaN</td>\n",
       "      <td>False</td>\n",
       "    </tr>\n",
       "    <tr>\n",
       "      <th>21761</th>\n",
       "      <td>2015</td>\n",
       "      <td>2015</td>\n",
       "      <td>64979</td>\n",
       "      <td>107325</td>\n",
       "      <td>064979_031242_2016-12-13</td>\n",
       "      <td>CA</td>\n",
       "      <td>1.402055</td>\n",
       "      <td>0.009143</td>\n",
       "      <td>0.367588</td>\n",
       "      <td>0.226197</td>\n",
       "      <td>0.249654</td>\n",
       "      <td>7.934028</td>\n",
       "      <td>85020.0</td>\n",
       "      <td>MI</td>\n",
       "      <td>1.062925</td>\n",
       "      <td>0.007397</td>\n",
       "      <td>0.401009</td>\n",
       "      <td>0.135087</td>\n",
       "      <td>0.123434</td>\n",
       "      <td>7.455670</td>\n",
       "      <td>87501.0</td>\n",
       "      <td>0</td>\n",
       "      <td>2016-12-13</td>\n",
       "      <td>64979</td>\n",
       "      <td>107325</td>\n",
       "      <td>2015-064979-107325</td>\n",
       "      <td>2014-064979-107325</td>\n",
       "      <td>0.0701</td>\n",
       "      <td>NaN</td>\n",
       "      <td>NaN</td>\n",
       "      <td>False</td>\n",
       "    </tr>\n",
       "    <tr>\n",
       "      <th>21762</th>\n",
       "      <td>2015</td>\n",
       "      <td>2015</td>\n",
       "      <td>64979</td>\n",
       "      <td>114956</td>\n",
       "      <td>064979_031242_2016-12-13</td>\n",
       "      <td>CA</td>\n",
       "      <td>1.402055</td>\n",
       "      <td>0.009143</td>\n",
       "      <td>0.367588</td>\n",
       "      <td>0.226197</td>\n",
       "      <td>0.249654</td>\n",
       "      <td>7.934028</td>\n",
       "      <td>85020.0</td>\n",
       "      <td>VA</td>\n",
       "      <td>1.094917</td>\n",
       "      <td>0.044994</td>\n",
       "      <td>0.147982</td>\n",
       "      <td>0.095238</td>\n",
       "      <td>0.559218</td>\n",
       "      <td>7.633341</td>\n",
       "      <td>91431.0</td>\n",
       "      <td>0</td>\n",
       "      <td>2016-12-13</td>\n",
       "      <td>64979</td>\n",
       "      <td>114956</td>\n",
       "      <td>2015-064979-114956</td>\n",
       "      <td>2014-064979-114956</td>\n",
       "      <td>0.0969</td>\n",
       "      <td>NaN</td>\n",
       "      <td>NaN</td>\n",
       "      <td>False</td>\n",
       "    </tr>\n",
       "    <tr>\n",
       "      <th>21763</th>\n",
       "      <td>2015</td>\n",
       "      <td>2015</td>\n",
       "      <td>64979</td>\n",
       "      <td>63725</td>\n",
       "      <td>064979_031242_2016-12-13</td>\n",
       "      <td>CA</td>\n",
       "      <td>1.402055</td>\n",
       "      <td>0.009143</td>\n",
       "      <td>0.367588</td>\n",
       "      <td>0.226197</td>\n",
       "      <td>0.249654</td>\n",
       "      <td>7.934028</td>\n",
       "      <td>85020.0</td>\n",
       "      <td>IA</td>\n",
       "      <td>1.041968</td>\n",
       "      <td>0.012434</td>\n",
       "      <td>0.319823</td>\n",
       "      <td>0.199571</td>\n",
       "      <td>0.121893</td>\n",
       "      <td>7.466594</td>\n",
       "      <td>89425.0</td>\n",
       "      <td>0</td>\n",
       "      <td>2016-12-13</td>\n",
       "      <td>64979</td>\n",
       "      <td>63725</td>\n",
       "      <td>2015-064979-063725</td>\n",
       "      <td>2014-064979-063725</td>\n",
       "      <td>0.1435</td>\n",
       "      <td>NaN</td>\n",
       "      <td>NaN</td>\n",
       "      <td>False</td>\n",
       "    </tr>\n",
       "    <tr>\n",
       "      <th>21764</th>\n",
       "      <td>2015</td>\n",
       "      <td>2015</td>\n",
       "      <td>64979</td>\n",
       "      <td>18110</td>\n",
       "      <td>064979_031242_2016-12-13</td>\n",
       "      <td>CA</td>\n",
       "      <td>1.402055</td>\n",
       "      <td>0.009143</td>\n",
       "      <td>0.367588</td>\n",
       "      <td>0.226197</td>\n",
       "      <td>0.249654</td>\n",
       "      <td>7.934028</td>\n",
       "      <td>85020.0</td>\n",
       "      <td>KY</td>\n",
       "      <td>0.959856</td>\n",
       "      <td>0.008442</td>\n",
       "      <td>0.500342</td>\n",
       "      <td>0.164019</td>\n",
       "      <td>0.235307</td>\n",
       "      <td>7.482091</td>\n",
       "      <td>10913.0</td>\n",
       "      <td>0</td>\n",
       "      <td>2016-12-13</td>\n",
       "      <td>64979</td>\n",
       "      <td>18110</td>\n",
       "      <td>2015-064979-018110</td>\n",
       "      <td>2014-064979-018110</td>\n",
       "      <td>0.0886</td>\n",
       "      <td>NaN</td>\n",
       "      <td>NaN</td>\n",
       "      <td>False</td>\n",
       "    </tr>\n",
       "    <tr>\n",
       "      <th>21765</th>\n",
       "      <td>2015</td>\n",
       "      <td>2015</td>\n",
       "      <td>64979</td>\n",
       "      <td>66394</td>\n",
       "      <td>064979_031242_2016-12-13</td>\n",
       "      <td>CA</td>\n",
       "      <td>1.402055</td>\n",
       "      <td>0.009143</td>\n",
       "      <td>0.367588</td>\n",
       "      <td>0.226197</td>\n",
       "      <td>0.249654</td>\n",
       "      <td>7.934028</td>\n",
       "      <td>85020.0</td>\n",
       "      <td>PA</td>\n",
       "      <td>0.994357</td>\n",
       "      <td>0.009743</td>\n",
       "      <td>0.259075</td>\n",
       "      <td>-0.208534</td>\n",
       "      <td>0.111319</td>\n",
       "      <td>7.506074</td>\n",
       "      <td>14604.0</td>\n",
       "      <td>0</td>\n",
       "      <td>2016-12-13</td>\n",
       "      <td>64979</td>\n",
       "      <td>66394</td>\n",
       "      <td>2015-064979-066394</td>\n",
       "      <td>2014-064979-066394</td>\n",
       "      <td>0.0869</td>\n",
       "      <td>NaN</td>\n",
       "      <td>NaN</td>\n",
       "      <td>False</td>\n",
       "    </tr>\n",
       "    <tr>\n",
       "      <th>21766</th>\n",
       "      <td>2015</td>\n",
       "      <td>2015</td>\n",
       "      <td>19355</td>\n",
       "      <td>20677</td>\n",
       "      <td>019355_029446_2016-12-14</td>\n",
       "      <td>AR</td>\n",
       "      <td>1.655143</td>\n",
       "      <td>0.009837</td>\n",
       "      <td>0.171657</td>\n",
       "      <td>0.287982</td>\n",
       "      <td>0.187082</td>\n",
       "      <td>8.930581</td>\n",
       "      <td>91855.0</td>\n",
       "      <td>CA</td>\n",
       "      <td>1.292417</td>\n",
       "      <td>0.005160</td>\n",
       "      <td>0.678607</td>\n",
       "      <td>0.300441</td>\n",
       "      <td>0.212300</td>\n",
       "      <td>7.860408</td>\n",
       "      <td>15064.0</td>\n",
       "      <td>0</td>\n",
       "      <td>2016-12-14</td>\n",
       "      <td>19355</td>\n",
       "      <td>20677</td>\n",
       "      <td>2015-019355-020677</td>\n",
       "      <td>2014-019355-020677</td>\n",
       "      <td>0.0520</td>\n",
       "      <td>NaN</td>\n",
       "      <td>NaN</td>\n",
       "      <td>False</td>\n",
       "    </tr>\n",
       "    <tr>\n",
       "      <th>21767</th>\n",
       "      <td>2015</td>\n",
       "      <td>2015</td>\n",
       "      <td>19355</td>\n",
       "      <td>17136</td>\n",
       "      <td>019355_029446_2016-12-14</td>\n",
       "      <td>AR</td>\n",
       "      <td>1.655143</td>\n",
       "      <td>0.009837</td>\n",
       "      <td>0.171657</td>\n",
       "      <td>0.287982</td>\n",
       "      <td>0.187082</td>\n",
       "      <td>8.930581</td>\n",
       "      <td>91855.0</td>\n",
       "      <td>NY</td>\n",
       "      <td>1.082072</td>\n",
       "      <td>0.008156</td>\n",
       "      <td>0.336132</td>\n",
       "      <td>0.263747</td>\n",
       "      <td>0.306926</td>\n",
       "      <td>7.681833</td>\n",
       "      <td>75509.0</td>\n",
       "      <td>0</td>\n",
       "      <td>2016-12-14</td>\n",
       "      <td>19355</td>\n",
       "      <td>17136</td>\n",
       "      <td>2015-019355-017136</td>\n",
       "      <td>2014-019355-017136</td>\n",
       "      <td>0.0973</td>\n",
       "      <td>NaN</td>\n",
       "      <td>NaN</td>\n",
       "      <td>False</td>\n",
       "    </tr>\n",
       "    <tr>\n",
       "      <th>21768</th>\n",
       "      <td>2015</td>\n",
       "      <td>2015</td>\n",
       "      <td>19355</td>\n",
       "      <td>63538</td>\n",
       "      <td>019355_029446_2016-12-14</td>\n",
       "      <td>AR</td>\n",
       "      <td>1.655143</td>\n",
       "      <td>0.009837</td>\n",
       "      <td>0.171657</td>\n",
       "      <td>0.287982</td>\n",
       "      <td>0.187082</td>\n",
       "      <td>8.930581</td>\n",
       "      <td>91855.0</td>\n",
       "      <td>NJ</td>\n",
       "      <td>0.808335</td>\n",
       "      <td>0.004623</td>\n",
       "      <td>0.324248</td>\n",
       "      <td>0.063918</td>\n",
       "      <td>0.421244</td>\n",
       "      <td>7.701012</td>\n",
       "      <td>83903.0</td>\n",
       "      <td>0</td>\n",
       "      <td>2016-12-14</td>\n",
       "      <td>19355</td>\n",
       "      <td>63538</td>\n",
       "      <td>2015-019355-063538</td>\n",
       "      <td>2014-019355-063538</td>\n",
       "      <td>0.0285</td>\n",
       "      <td>NaN</td>\n",
       "      <td>NaN</td>\n",
       "      <td>False</td>\n",
       "    </tr>\n",
       "    <tr>\n",
       "      <th>21769</th>\n",
       "      <td>2015</td>\n",
       "      <td>2015</td>\n",
       "      <td>19355</td>\n",
       "      <td>16668</td>\n",
       "      <td>019355_029446_2016-12-14</td>\n",
       "      <td>AR</td>\n",
       "      <td>1.655143</td>\n",
       "      <td>0.009837</td>\n",
       "      <td>0.171657</td>\n",
       "      <td>0.287982</td>\n",
       "      <td>0.187082</td>\n",
       "      <td>8.930581</td>\n",
       "      <td>91855.0</td>\n",
       "      <td>NY</td>\n",
       "      <td>1.036574</td>\n",
       "      <td>0.010082</td>\n",
       "      <td>0.338846</td>\n",
       "      <td>0.045941</td>\n",
       "      <td>0.203789</td>\n",
       "      <td>7.802286</td>\n",
       "      <td>15070.0</td>\n",
       "      <td>0</td>\n",
       "      <td>2016-12-14</td>\n",
       "      <td>19355</td>\n",
       "      <td>16668</td>\n",
       "      <td>2015-019355-016668</td>\n",
       "      <td>2014-019355-016668</td>\n",
       "      <td>0.0630</td>\n",
       "      <td>NaN</td>\n",
       "      <td>NaN</td>\n",
       "      <td>False</td>\n",
       "    </tr>\n",
       "    <tr>\n",
       "      <th>21770</th>\n",
       "      <td>2015</td>\n",
       "      <td>2015</td>\n",
       "      <td>19355</td>\n",
       "      <td>162489</td>\n",
       "      <td>019355_029446_2016-12-14</td>\n",
       "      <td>AR</td>\n",
       "      <td>1.655143</td>\n",
       "      <td>0.009837</td>\n",
       "      <td>0.171657</td>\n",
       "      <td>0.287982</td>\n",
       "      <td>0.187082</td>\n",
       "      <td>8.930581</td>\n",
       "      <td>91855.0</td>\n",
       "      <td>CO</td>\n",
       "      <td>1.079109</td>\n",
       "      <td>0.009480</td>\n",
       "      <td>0.481287</td>\n",
       "      <td>0.173840</td>\n",
       "      <td>0.432088</td>\n",
       "      <td>7.770023</td>\n",
       "      <td>90948.0</td>\n",
       "      <td>0</td>\n",
       "      <td>2016-12-14</td>\n",
       "      <td>19355</td>\n",
       "      <td>162489</td>\n",
       "      <td>2015-019355-162489</td>\n",
       "      <td>2014-019355-162489</td>\n",
       "      <td>0.0574</td>\n",
       "      <td>NaN</td>\n",
       "      <td>NaN</td>\n",
       "      <td>False</td>\n",
       "    </tr>\n",
       "    <tr>\n",
       "      <th>21771</th>\n",
       "      <td>2015</td>\n",
       "      <td>2015</td>\n",
       "      <td>175607</td>\n",
       "      <td>18037</td>\n",
       "      <td>175607_066148_2016-12-13</td>\n",
       "      <td>VA</td>\n",
       "      <td>1.179589</td>\n",
       "      <td>0.008965</td>\n",
       "      <td>0.345601</td>\n",
       "      <td>0.202021</td>\n",
       "      <td>0.294459</td>\n",
       "      <td>6.943226</td>\n",
       "      <td>91622.0</td>\n",
       "      <td>PA</td>\n",
       "      <td>1.000624</td>\n",
       "      <td>0.013463</td>\n",
       "      <td>0.265075</td>\n",
       "      <td>0.070734</td>\n",
       "      <td>0.093669</td>\n",
       "      <td>7.109403</td>\n",
       "      <td>90534.0</td>\n",
       "      <td>0</td>\n",
       "      <td>2016-12-13</td>\n",
       "      <td>175607</td>\n",
       "      <td>18037</td>\n",
       "      <td>2015-175607-018037</td>\n",
       "      <td>2014-175607-018037</td>\n",
       "      <td>NaN</td>\n",
       "      <td>NaN</td>\n",
       "      <td>NaN</td>\n",
       "      <td>False</td>\n",
       "    </tr>\n",
       "    <tr>\n",
       "      <th>21772</th>\n",
       "      <td>2015</td>\n",
       "      <td>2015</td>\n",
       "      <td>175607</td>\n",
       "      <td>65610</td>\n",
       "      <td>175607_066148_2016-12-13</td>\n",
       "      <td>VA</td>\n",
       "      <td>1.179589</td>\n",
       "      <td>0.008965</td>\n",
       "      <td>0.345601</td>\n",
       "      <td>0.202021</td>\n",
       "      <td>0.294459</td>\n",
       "      <td>6.943226</td>\n",
       "      <td>91622.0</td>\n",
       "      <td>VA</td>\n",
       "      <td>0.906761</td>\n",
       "      <td>0.006047</td>\n",
       "      <td>0.471957</td>\n",
       "      <td>0.052201</td>\n",
       "      <td>0.185350</td>\n",
       "      <td>7.166160</td>\n",
       "      <td>88635.0</td>\n",
       "      <td>0</td>\n",
       "      <td>2016-12-13</td>\n",
       "      <td>175607</td>\n",
       "      <td>65610</td>\n",
       "      <td>2015-175607-065610</td>\n",
       "      <td>2014-175607-065610</td>\n",
       "      <td>0.2010</td>\n",
       "      <td>NaN</td>\n",
       "      <td>NaN</td>\n",
       "      <td>True</td>\n",
       "    </tr>\n",
       "    <tr>\n",
       "      <th>21773</th>\n",
       "      <td>2015</td>\n",
       "      <td>2015</td>\n",
       "      <td>175607</td>\n",
       "      <td>111819</td>\n",
       "      <td>175607_066148_2016-12-13</td>\n",
       "      <td>VA</td>\n",
       "      <td>1.179589</td>\n",
       "      <td>0.008965</td>\n",
       "      <td>0.345601</td>\n",
       "      <td>0.202021</td>\n",
       "      <td>0.294459</td>\n",
       "      <td>6.943226</td>\n",
       "      <td>91622.0</td>\n",
       "      <td>PA</td>\n",
       "      <td>1.013605</td>\n",
       "      <td>0.006091</td>\n",
       "      <td>0.435042</td>\n",
       "      <td>0.062669</td>\n",
       "      <td>0.234002</td>\n",
       "      <td>7.164578</td>\n",
       "      <td>92919.0</td>\n",
       "      <td>0</td>\n",
       "      <td>2016-12-13</td>\n",
       "      <td>175607</td>\n",
       "      <td>111819</td>\n",
       "      <td>2015-175607-111819</td>\n",
       "      <td>2014-175607-111819</td>\n",
       "      <td>0.1098</td>\n",
       "      <td>NaN</td>\n",
       "      <td>NaN</td>\n",
       "      <td>False</td>\n",
       "    </tr>\n",
       "    <tr>\n",
       "      <th>21774</th>\n",
       "      <td>2015</td>\n",
       "      <td>2015</td>\n",
       "      <td>175607</td>\n",
       "      <td>63224</td>\n",
       "      <td>175607_066148_2016-12-13</td>\n",
       "      <td>VA</td>\n",
       "      <td>1.179589</td>\n",
       "      <td>0.008965</td>\n",
       "      <td>0.345601</td>\n",
       "      <td>0.202021</td>\n",
       "      <td>0.294459</td>\n",
       "      <td>6.943226</td>\n",
       "      <td>91622.0</td>\n",
       "      <td>CA</td>\n",
       "      <td>1.033758</td>\n",
       "      <td>0.008588</td>\n",
       "      <td>0.037505</td>\n",
       "      <td>0.102771</td>\n",
       "      <td>0.299479</td>\n",
       "      <td>7.152062</td>\n",
       "      <td>90082.0</td>\n",
       "      <td>0</td>\n",
       "      <td>2016-12-13</td>\n",
       "      <td>175607</td>\n",
       "      <td>63224</td>\n",
       "      <td>2015-175607-063224</td>\n",
       "      <td>2014-175607-063224</td>\n",
       "      <td>0.0702</td>\n",
       "      <td>NaN</td>\n",
       "      <td>NaN</td>\n",
       "      <td>False</td>\n",
       "    </tr>\n",
       "    <tr>\n",
       "      <th>21775</th>\n",
       "      <td>2015</td>\n",
       "      <td>2015</td>\n",
       "      <td>175607</td>\n",
       "      <td>162293</td>\n",
       "      <td>175607_066148_2016-12-13</td>\n",
       "      <td>VA</td>\n",
       "      <td>1.179589</td>\n",
       "      <td>0.008965</td>\n",
       "      <td>0.345601</td>\n",
       "      <td>0.202021</td>\n",
       "      <td>0.294459</td>\n",
       "      <td>6.943226</td>\n",
       "      <td>91622.0</td>\n",
       "      <td>IN</td>\n",
       "      <td>1.343822</td>\n",
       "      <td>0.007031</td>\n",
       "      <td>0.613052</td>\n",
       "      <td>0.730456</td>\n",
       "      <td>0.177061</td>\n",
       "      <td>7.146670</td>\n",
       "      <td>13797.0</td>\n",
       "      <td>0</td>\n",
       "      <td>2016-12-13</td>\n",
       "      <td>175607</td>\n",
       "      <td>162293</td>\n",
       "      <td>2015-175607-162293</td>\n",
       "      <td>2014-175607-162293</td>\n",
       "      <td>0.1043</td>\n",
       "      <td>NaN</td>\n",
       "      <td>NaN</td>\n",
       "      <td>False</td>\n",
       "    </tr>\n",
       "  </tbody>\n",
       "</table>\n",
       "<p>16477 rows × 31 columns</p>\n",
       "</div>"
      ],
      "text/plain": [
       "       acq_FYEAR  target_FYEAR  acq_gvkey  target_gvkey  \\\n",
       "347         1996          1996      25495         23743   \n",
       "379         1996          1996       1976          8517   \n",
       "383         1996          1996      16766         17018   \n",
       "388         1996          1996      28994         14126   \n",
       "412         1996          1996      61058          2304   \n",
       "413         1996          1996      25138          3289   \n",
       "414         1996          1996      29356         62834   \n",
       "415         1996          1996      27747         12232   \n",
       "416         1996          1996       2051         29373   \n",
       "417         1996          1996       6304         27919   \n",
       "419         1996          1996      22260         23826   \n",
       "420         1996          1996      24975         30867   \n",
       "421         1996          1996      28733         25994   \n",
       "422         1996          1996      25877          1910   \n",
       "423         1996          1996       1998         25323   \n",
       "424         1996          1995      25279         24867   \n",
       "425         1996          1996      31549         30630   \n",
       "426         1996          1996      29849         27782   \n",
       "427         1996          1996      63229         29766   \n",
       "428         1996          1996      11550          4220   \n",
       "429         1996          1996       5693          7182   \n",
       "430         1996          1996      24988         61605   \n",
       "431         1996          1995       7241         13961   \n",
       "432         1996          1996      14362         17046   \n",
       "433         1996          1996      15312          6513   \n",
       "434         1996          1996      27867         12124   \n",
       "435         1996          1996      17130         21060   \n",
       "436         1996          1996      17239         30396   \n",
       "437         1996          1995      61694         61517   \n",
       "438         1996          1996       5399         61751   \n",
       "...          ...           ...        ...           ...   \n",
       "21746       2015          2015     184167        164059   \n",
       "21747       2015          2015     184167         28967   \n",
       "21748       2015          2015     184167         20677   \n",
       "21749       2015          2015     184167        162489   \n",
       "21750       2015          2015     184167         16668   \n",
       "21751       2016          2015     187740        160213   \n",
       "21752       2016          2015     187740         64637   \n",
       "21753       2016          2015     187740        187450   \n",
       "21754       2016          2015     187740        178865   \n",
       "21755       2016          2015     187740        110760   \n",
       "21756       2015          2015     166593         20088   \n",
       "21757       2015          2015     166593         26012   \n",
       "21758       2015          2015     166593        122536   \n",
       "21759       2015          2015     166593        170444   \n",
       "21760       2015          2015     166593          3382   \n",
       "21761       2015          2015      64979        107325   \n",
       "21762       2015          2015      64979        114956   \n",
       "21763       2015          2015      64979         63725   \n",
       "21764       2015          2015      64979         18110   \n",
       "21765       2015          2015      64979         66394   \n",
       "21766       2015          2015      19355         20677   \n",
       "21767       2015          2015      19355         17136   \n",
       "21768       2015          2015      19355         63538   \n",
       "21769       2015          2015      19355         16668   \n",
       "21770       2015          2015      19355        162489   \n",
       "21771       2015          2015     175607         18037   \n",
       "21772       2015          2015     175607         65610   \n",
       "21773       2015          2015     175607        111819   \n",
       "21774       2015          2015     175607         63224   \n",
       "21775       2015          2015     175607        162293   \n",
       "\n",
       "                         dealID acq_STATE  acq_salegr  acq_profit  \\\n",
       "347    025495_023743_1997-02-18        TX    1.980444    0.027066   \n",
       "379    001976_008517_1997-02-26        TX    1.147970    0.053482   \n",
       "383    016766_017018_1997-02-13        NH    1.692686    0.008171   \n",
       "388    028994_014126_1997-04-03        SC    1.848127    0.018818   \n",
       "412    061058_002304_1997-01-07        OK    1.168392    0.037616   \n",
       "413    025138_003289_1997-01-07        TX    1.103781    0.026641   \n",
       "414    029356_062834_1997-01-13        CA    1.498319    0.204390   \n",
       "415    027747_012232_1997-01-13        CA    1.907900   -0.092917   \n",
       "416    002051_029373_1997-01-14        FL    1.037031    0.013691   \n",
       "417    006304_027919_1997-01-14        CA    1.570619    0.169597   \n",
       "419    022260_023826_1997-01-15        TN    1.125120    0.070750   \n",
       "420    024975_030867_1997-01-16        CA    1.331450    0.057951   \n",
       "421    028733_025994_1997-01-16        IL    1.230060    0.035208   \n",
       "422    025877_001910_1997-01-17        TX    1.443646    0.039285   \n",
       "423    001998_025323_1997-01-20        OH    1.145080    0.014006   \n",
       "424    025279_024867_1997-01-20        MA    1.321106    0.110510   \n",
       "425    031549_030630_1997-01-21        AL    6.632786   -0.039644   \n",
       "426    029849_027782_1997-01-22        TX    1.160398    0.045157   \n",
       "427    063229_029766_1997-12-19        TX    2.239107   -0.081559   \n",
       "428    011550_004220_1997-01-23        WI    1.001884    0.045592   \n",
       "429    005693_007182_1997-01-27        NJ    1.086209    0.073307   \n",
       "430    024988_061605_1997-01-27        CA    1.422244   -0.099432   \n",
       "431    007241_013961_1997-01-27        RI    0.570551    0.084610   \n",
       "432    014362_017046_1997-01-28        CT    1.311702    0.009722   \n",
       "433    015312_006513_1997-02-03        IL    1.098930    0.065550   \n",
       "434    027867_012124_1997-02-05        NY    1.137906    0.022431   \n",
       "435    017130_021060_1997-02-06        PA    1.239126    0.005456   \n",
       "436    017239_030396_1997-02-10        KY    1.109222    0.024382   \n",
       "437    061694_061517_1997-02-11        CA    1.675632   -0.162005   \n",
       "438    005399_061751_1997-02-11        GA    1.607316    0.087113   \n",
       "...                         ...       ...         ...         ...   \n",
       "21746  184167_029613_2016-11-17        MT    1.071756    0.009944   \n",
       "21747  184167_029613_2016-11-17        MT    1.071756    0.009944   \n",
       "21748  184167_029613_2016-11-17        MT    1.071756    0.009944   \n",
       "21749  184167_029613_2016-11-17        MT    1.071756    0.009944   \n",
       "21750  184167_029613_2016-11-17        MT    1.071756    0.009944   \n",
       "21751  187740_065904_2016-11-21        MA    1.349867   -0.003019   \n",
       "21752  187740_065904_2016-11-21        MA    1.349867   -0.003019   \n",
       "21753  187740_065904_2016-11-21        MA    1.349867   -0.003019   \n",
       "21754  187740_065904_2016-11-21        MA    1.349867   -0.003019   \n",
       "21755  187740_065904_2016-11-21        MA    1.349867   -0.003019   \n",
       "21756  166593_184676_2016-12-06        NJ    1.265719    0.040016   \n",
       "21757  166593_184676_2016-12-06        NJ    1.265719    0.040016   \n",
       "21758  166593_184676_2016-12-06        NJ    1.265719    0.040016   \n",
       "21759  166593_184676_2016-12-06        NJ    1.265719    0.040016   \n",
       "21760  166593_184676_2016-12-06        NJ    1.265719    0.040016   \n",
       "21761  064979_031242_2016-12-13        CA    1.402055    0.009143   \n",
       "21762  064979_031242_2016-12-13        CA    1.402055    0.009143   \n",
       "21763  064979_031242_2016-12-13        CA    1.402055    0.009143   \n",
       "21764  064979_031242_2016-12-13        CA    1.402055    0.009143   \n",
       "21765  064979_031242_2016-12-13        CA    1.402055    0.009143   \n",
       "21766  019355_029446_2016-12-14        AR    1.655143    0.009837   \n",
       "21767  019355_029446_2016-12-14        AR    1.655143    0.009837   \n",
       "21768  019355_029446_2016-12-14        AR    1.655143    0.009837   \n",
       "21769  019355_029446_2016-12-14        AR    1.655143    0.009837   \n",
       "21770  019355_029446_2016-12-14        AR    1.655143    0.009837   \n",
       "21771  175607_066148_2016-12-13        VA    1.179589    0.008965   \n",
       "21772  175607_066148_2016-12-13        VA    1.179589    0.008965   \n",
       "21773  175607_066148_2016-12-13        VA    1.179589    0.008965   \n",
       "21774  175607_066148_2016-12-13        VA    1.179589    0.008965   \n",
       "21775  175607_066148_2016-12-13        VA    1.179589    0.008965   \n",
       "\n",
       "       acq_mleverage  acq_pastret  acq_io_top5   acq_size  acq_PERMNO  \\\n",
       "347         0.221037     1.627930     0.042639   8.339694     81594.0   \n",
       "379         0.133323     0.517013     0.253640   8.100887     75034.0   \n",
       "383         0.545954     0.082930     0.049167   7.344132     11120.0   \n",
       "388         0.247289     0.168831     0.333854   6.199295     79701.0   \n",
       "412         0.206753     0.142857     0.063638   4.863225     81859.0   \n",
       "413         0.000000    -0.608392     0.194350   4.717632     77505.0   \n",
       "414         0.000000     0.963816     0.279692   3.866837     80055.0   \n",
       "415         0.056090    -0.087500     0.310244   4.603258     78815.0   \n",
       "416         0.280167     0.437741     0.115589  10.626955     61284.0   \n",
       "417         0.002621    -0.398058     0.346431   6.569162     46886.0   \n",
       "419         0.203287     0.207147     0.187840   9.965147     76171.0   \n",
       "420         0.014557     0.500000     0.331972   6.013634     77357.0   \n",
       "421         0.372806     0.441652     0.373198   8.001733     79547.0   \n",
       "422         0.018816     0.625541     0.291688   6.614429     78033.0   \n",
       "423         0.498947     0.302682     0.129749  11.531237     65138.0   \n",
       "424         0.021973     0.218274     0.126912   7.321273     77605.0   \n",
       "425         0.186870    -0.371212     0.230953   7.725758     81262.0   \n",
       "426         0.126042     0.403465     0.500064   7.931240     80410.0   \n",
       "427         0.241974     1.365385     0.403824   6.129379     83766.0   \n",
       "428         0.358257    -0.073799     0.080310   8.478626     23536.0   \n",
       "429         0.104259     0.377523     0.171892   8.611284     18374.0   \n",
       "430         0.000000     0.008264     0.394093   4.277208     77387.0   \n",
       "431         0.068374     0.578423     0.280876   7.948668     17005.0   \n",
       "432         0.642118     0.229865     0.180670   7.246232     11064.0   \n",
       "433         0.235233     0.346860     0.270421   5.646379     75482.0   \n",
       "434         0.640283     0.431441     0.188442  10.655224     78946.0   \n",
       "435         0.831261     0.371985     0.178930   9.151986     10562.0   \n",
       "436         0.259946    -0.026923     0.247168   7.585208     75819.0   \n",
       "437         0.000000    -0.548077     0.097313   4.043560     82727.0   \n",
       "438         0.000093     0.551858     0.283568   6.743997     40484.0   \n",
       "...              ...          ...          ...        ...         ...   \n",
       "21746       0.319840     0.076659     0.216093   9.074314     93304.0   \n",
       "21747       0.319840     0.076659     0.216093   9.074314     93304.0   \n",
       "21748       0.319840     0.076659     0.216093   9.074314     93304.0   \n",
       "21749       0.319840     0.076659     0.216093   9.074314     93304.0   \n",
       "21750       0.319840     0.076659     0.216093   9.074314     93304.0   \n",
       "21751       0.204283     0.131817     0.220734   7.080490     13326.0   \n",
       "21752       0.204283     0.131817     0.220734   7.080490     13326.0   \n",
       "21753       0.204283     0.131817     0.220734   7.080490     13326.0   \n",
       "21754       0.204283     0.131817     0.220734   7.080490     13326.0   \n",
       "21755       0.204283     0.131817     0.220734   7.080490     13326.0   \n",
       "21756       0.134612    -0.158385     0.295034   6.922989     91366.0   \n",
       "21757       0.134612    -0.158385     0.295034   6.922989     91366.0   \n",
       "21758       0.134612    -0.158385     0.295034   6.922989     91366.0   \n",
       "21759       0.134612    -0.158385     0.295034   6.922989     91366.0   \n",
       "21760       0.134612    -0.158385     0.295034   6.922989     91366.0   \n",
       "21761       0.367588     0.226197     0.249654   7.934028     85020.0   \n",
       "21762       0.367588     0.226197     0.249654   7.934028     85020.0   \n",
       "21763       0.367588     0.226197     0.249654   7.934028     85020.0   \n",
       "21764       0.367588     0.226197     0.249654   7.934028     85020.0   \n",
       "21765       0.367588     0.226197     0.249654   7.934028     85020.0   \n",
       "21766       0.171657     0.287982     0.187082   8.930581     91855.0   \n",
       "21767       0.171657     0.287982     0.187082   8.930581     91855.0   \n",
       "21768       0.171657     0.287982     0.187082   8.930581     91855.0   \n",
       "21769       0.171657     0.287982     0.187082   8.930581     91855.0   \n",
       "21770       0.171657     0.287982     0.187082   8.930581     91855.0   \n",
       "21771       0.345601     0.202021     0.294459   6.943226     91622.0   \n",
       "21772       0.345601     0.202021     0.294459   6.943226     91622.0   \n",
       "21773       0.345601     0.202021     0.294459   6.943226     91622.0   \n",
       "21774       0.345601     0.202021     0.294459   6.943226     91622.0   \n",
       "21775       0.345601     0.202021     0.294459   6.943226     91622.0   \n",
       "\n",
       "      target_STATE  target_salegr  target_profit  target_mleverage  \\\n",
       "347             TX       0.900882       0.037337          0.057868   \n",
       "379             MO       0.988561       0.063068          0.106269   \n",
       "383             NH       1.021503       0.021935          0.000000   \n",
       "388             CA       1.953173       0.209476          0.000000   \n",
       "412             OK       1.208697      -0.013772          0.126423   \n",
       "413             CA       0.777861      -0.225408          0.151568   \n",
       "414             CA       1.613852      -0.011605          0.002685   \n",
       "415             CA       0.000000      -1.068043          0.011826   \n",
       "416             NY       1.239438       0.012452          0.800840   \n",
       "417             CA       1.220998       0.126519          0.034763   \n",
       "419             CT       1.050968       0.058416          0.076951   \n",
       "420             CA       1.756549      -0.176635          0.000000   \n",
       "421             NY       1.006193       0.029965          0.457186   \n",
       "422             MD       1.100518       0.056453          0.305002   \n",
       "423             TX       1.509412       0.032008          0.583751   \n",
       "424             CA       1.469121       0.102402          0.000000   \n",
       "425             FL       1.255671       0.089457          0.002979   \n",
       "426             IA       1.080702      -0.082353          0.288548   \n",
       "427             LA       2.013941      -0.414372          0.047209   \n",
       "428             MI       1.017777       0.048954          0.374385   \n",
       "429             CA       1.240916       0.109615          0.058653   \n",
       "430             CA       1.260169      -0.086984          0.005820   \n",
       "431             OH       1.147973       0.035716          0.260596   \n",
       "432             CT       1.041517       0.005175          0.240606   \n",
       "433             MI       1.061266       0.012440          0.178879   \n",
       "434             NY       1.440596       0.005238          0.944294   \n",
       "435             NJ       1.194163       0.009889          0.711413   \n",
       "436             GA       1.245019       0.058956          0.457609   \n",
       "437             CA       1.658418       0.078027          0.000000   \n",
       "438             MD       1.460912       0.105784          0.000000   \n",
       "...            ...            ...            ...               ...   \n",
       "21746           CA       1.619947       0.008060          0.052342   \n",
       "21747           IL       1.064349       0.006528          0.608577   \n",
       "21748           CA       1.292417       0.005160          0.678607   \n",
       "21749           CO       1.079109       0.009480          0.481287   \n",
       "21750           NY       1.036574       0.010082          0.338846   \n",
       "21751           CA       0.985756      -0.020370          0.000000   \n",
       "21752           CA       0.467364      -0.014120          0.000000   \n",
       "21753           CA       1.038804      -0.133403          0.095596   \n",
       "21754           IL       0.521353      -0.652706          0.047762   \n",
       "21755           CA       0.928179      -0.014668          0.000000   \n",
       "21756           CA       1.398558      -0.407946          0.038395   \n",
       "21757           PA       0.919604      -0.359614          0.389102   \n",
       "21758           PA       1.572675      -0.213443          0.002819   \n",
       "21759           CA       1.222837      -0.058970          0.000000   \n",
       "21760           NY       1.296301       0.041678          0.000000   \n",
       "21761           MI       1.062925       0.007397          0.401009   \n",
       "21762           VA       1.094917       0.044994          0.147982   \n",
       "21763           IA       1.041968       0.012434          0.319823   \n",
       "21764           KY       0.959856       0.008442          0.500342   \n",
       "21765           PA       0.994357       0.009743          0.259075   \n",
       "21766           CA       1.292417       0.005160          0.678607   \n",
       "21767           NY       1.082072       0.008156          0.336132   \n",
       "21768           NJ       0.808335       0.004623          0.324248   \n",
       "21769           NY       1.036574       0.010082          0.338846   \n",
       "21770           CO       1.079109       0.009480          0.481287   \n",
       "21771           PA       1.000624       0.013463          0.265075   \n",
       "21772           VA       0.906761       0.006047          0.471957   \n",
       "21773           PA       1.013605       0.006091          0.435042   \n",
       "21774           CA       1.033758       0.008588          0.037505   \n",
       "21775           IN       1.343822       0.007031          0.613052   \n",
       "\n",
       "       target_pastret  target_io_top5  target_size  target_PERMNO  deal  \\\n",
       "347          0.136364        0.100922     7.043287        76593.0     1   \n",
       "379          0.423754        0.215980     5.709721        62384.0     1   \n",
       "383         -0.014896        0.177036     5.604216        11921.0     1   \n",
       "388          0.913067        0.040700     3.769883        75251.0     1   \n",
       "412          0.478571        0.000000     2.333211        18738.0     1   \n",
       "413         -0.390000        0.201034     4.105120        25604.0     1   \n",
       "414         -0.309859        0.092065     3.783007        83542.0     1   \n",
       "415          0.676471        0.270589     2.963725        10328.0     1   \n",
       "416          0.309859        0.185577     7.326902        80009.0     1   \n",
       "417          0.082051        0.264825     6.182950        79015.0     1   \n",
       "419         -0.290909        0.274117     7.004178        76615.0     1   \n",
       "420          0.030928        0.437026     4.003526        80976.0     1   \n",
       "421          0.147731        0.139830     6.628424        78090.0     1   \n",
       "422          0.008438        0.278844     5.382962        50446.0     1   \n",
       "423          0.245430        0.323740     8.950079        77634.0     1   \n",
       "424          2.321918        0.320667     4.738608        77283.0     1   \n",
       "425         -0.250000        0.166047     4.982092        80824.0     1   \n",
       "426         -0.561688        0.399423     5.147872        78901.0     1   \n",
       "427         -0.081081        0.012630     2.942015        80260.0     1   \n",
       "428          0.146887        0.186489     4.045784        31625.0     1   \n",
       "429         -0.106523        0.256858     5.820424        59942.0     1   \n",
       "430         -0.278689        0.255479     3.220435        82559.0     1   \n",
       "431          0.117647        0.406974     7.665519        77641.0     1   \n",
       "432          0.376575        0.116400     5.881728        10654.0     1   \n",
       "433          0.378999        0.196150     5.829493        41136.0     1   \n",
       "434          0.414148        0.126655    12.188143        69032.0     1   \n",
       "435          0.280544        0.136974     7.807829        76105.0     1   \n",
       "436         -0.145833        0.201178     5.954079        80666.0     1   \n",
       "437         -0.140351        0.109404     3.623647        82574.0     1   \n",
       "438         -0.105263        0.209487     3.793285        82666.0     1   \n",
       "...               ...             ...          ...            ...   ...   \n",
       "21746        0.169202        0.264207     7.876503        13640.0     0   \n",
       "21747        0.364766        0.178032     7.860647        79731.0     0   \n",
       "21748        0.300441        0.212300     7.860408        15064.0     0   \n",
       "21749        0.173840        0.432088     7.770023        90948.0     0   \n",
       "21750        0.045941        0.203789     7.802286        15070.0     0   \n",
       "21751        0.666667        0.224950     4.668427        91901.0     0   \n",
       "21752        0.156604        0.310056     5.080827        84607.0     0   \n",
       "21753       -0.754374        0.240994     5.109140        13323.0     0   \n",
       "21754       -0.750547        0.511091     4.781155        92448.0     0   \n",
       "21755       -0.114286        0.281573     5.023196        86051.0     0   \n",
       "21756       -0.007163        0.223025     6.209571        15145.0     0   \n",
       "21757        0.655055        0.333173     6.164985        78172.0     0   \n",
       "21758       -0.380076        0.416921     6.109568        87167.0     0   \n",
       "21759       -0.090054        0.282220     6.129632        13342.0     0   \n",
       "21760       -0.531983        0.362131     6.150861        13625.0     0   \n",
       "21761        0.135087        0.123434     7.455670        87501.0     0   \n",
       "21762        0.095238        0.559218     7.633341        91431.0     0   \n",
       "21763        0.199571        0.121893     7.466594        89425.0     0   \n",
       "21764        0.164019        0.235307     7.482091        10913.0     0   \n",
       "21765       -0.208534        0.111319     7.506074        14604.0     0   \n",
       "21766        0.300441        0.212300     7.860408        15064.0     0   \n",
       "21767        0.263747        0.306926     7.681833        75509.0     0   \n",
       "21768        0.063918        0.421244     7.701012        83903.0     0   \n",
       "21769        0.045941        0.203789     7.802286        15070.0     0   \n",
       "21770        0.173840        0.432088     7.770023        90948.0     0   \n",
       "21771        0.070734        0.093669     7.109403        90534.0     0   \n",
       "21772        0.052201        0.185350     7.166160        88635.0     0   \n",
       "21773        0.062669        0.234002     7.164578        92919.0     0   \n",
       "21774        0.102771        0.299479     7.152062        90082.0     0   \n",
       "21775        0.730456        0.177061     7.146670        13797.0     0   \n",
       "\n",
       "      Date_Announced  acquirer_gvkey2  target_gvkey2         search_key1  \\\n",
       "347       1997-02-18            25495          23743  1996-025495-023743   \n",
       "379       1997-02-26             1976           8517  1996-001976-008517   \n",
       "383       1997-02-13            16766          17018  1996-016766-017018   \n",
       "388       1997-04-03            28994          14126  1996-028994-014126   \n",
       "412       1997-01-07            61058           2304  1996-061058-002304   \n",
       "413       1997-01-07            25138           3289  1996-025138-003289   \n",
       "414       1997-01-13            29356          62834  1996-029356-062834   \n",
       "415       1997-01-13            27747          12232  1996-027747-012232   \n",
       "416       1997-01-14             2051          29373  1996-002051-029373   \n",
       "417       1997-01-14             6304          27919  1996-006304-027919   \n",
       "419       1997-01-15            22260          23826  1996-022260-023826   \n",
       "420       1997-01-16            24975          30867  1996-024975-030867   \n",
       "421       1997-01-16            28733          25994  1996-028733-025994   \n",
       "422       1997-01-17            25877           1910  1996-025877-001910   \n",
       "423       1997-01-20             1998          25323  1996-001998-025323   \n",
       "424       1997-01-20            25279          24867  1996-025279-024867   \n",
       "425       1997-01-21            31549          30630  1996-031549-030630   \n",
       "426       1997-01-22            29849          27782  1996-029849-027782   \n",
       "427       1997-12-19            63229          29766  1996-063229-029766   \n",
       "428       1997-01-23            11550           4220  1996-011550-004220   \n",
       "429       1997-01-27             5693           7182  1996-005693-007182   \n",
       "430       1997-01-27            24988          61605  1996-024988-061605   \n",
       "431       1997-01-27             7241          13961  1996-007241-013961   \n",
       "432       1997-01-28            14362          17046  1996-014362-017046   \n",
       "433       1997-02-03            15312           6513  1996-015312-006513   \n",
       "434       1997-02-05            27867          12124  1996-027867-012124   \n",
       "435       1997-02-06            17130          21060  1996-017130-021060   \n",
       "436       1997-02-10            17239          30396  1996-017239-030396   \n",
       "437       1997-02-11            61694          61517  1996-061694-061517   \n",
       "438       1997-02-11             5399          61751  1996-005399-061751   \n",
       "...              ...              ...            ...                 ...   \n",
       "21746     2016-11-17           184167         164059  2015-184167-164059   \n",
       "21747     2016-11-17           184167          28967  2015-184167-028967   \n",
       "21748     2016-11-17           184167          20677  2015-184167-020677   \n",
       "21749     2016-11-17           184167         162489  2015-184167-162489   \n",
       "21750     2016-11-17           184167          16668  2015-184167-016668   \n",
       "21751     2016-11-21           187740         160213  2016-187740-160213   \n",
       "21752     2016-11-21           187740          64637  2016-187740-064637   \n",
       "21753     2016-11-21           187740         187450  2016-187740-187450   \n",
       "21754     2016-11-21           187740         178865  2016-187740-178865   \n",
       "21755     2016-11-21           187740         110760  2016-187740-110760   \n",
       "21756     2016-12-06           166593          20088  2015-166593-020088   \n",
       "21757     2016-12-06           166593          26012  2015-166593-026012   \n",
       "21758     2016-12-06           166593         122536  2015-166593-122536   \n",
       "21759     2016-12-06           166593         170444  2015-166593-170444   \n",
       "21760     2016-12-06           166593           3382  2015-166593-003382   \n",
       "21761     2016-12-13            64979         107325  2015-064979-107325   \n",
       "21762     2016-12-13            64979         114956  2015-064979-114956   \n",
       "21763     2016-12-13            64979          63725  2015-064979-063725   \n",
       "21764     2016-12-13            64979          18110  2015-064979-018110   \n",
       "21765     2016-12-13            64979          66394  2015-064979-066394   \n",
       "21766     2016-12-14            19355          20677  2015-019355-020677   \n",
       "21767     2016-12-14            19355          17136  2015-019355-017136   \n",
       "21768     2016-12-14            19355          63538  2015-019355-063538   \n",
       "21769     2016-12-14            19355          16668  2015-019355-016668   \n",
       "21770     2016-12-14            19355         162489  2015-019355-162489   \n",
       "21771     2016-12-13           175607          18037  2015-175607-018037   \n",
       "21772     2016-12-13           175607          65610  2015-175607-065610   \n",
       "21773     2016-12-13           175607         111819  2015-175607-111819   \n",
       "21774     2016-12-13           175607          63224  2015-175607-063224   \n",
       "21775     2016-12-13           175607         162293  2015-175607-162293   \n",
       "\n",
       "              search_key2  HPs_similarity  RWMD_similarity  LDA_similarity  \\\n",
       "347    1995-025495-023743             NaN              NaN             NaN   \n",
       "379    1995-001976-008517             NaN         0.487075             NaN   \n",
       "383    1995-016766-017018          0.2267         0.542035        1.000000   \n",
       "388    1995-028994-014126             NaN              NaN             NaN   \n",
       "412    1995-061058-002304             NaN         0.638155        0.647508   \n",
       "413    1995-025138-003289          0.1144              NaN             NaN   \n",
       "414    1995-029356-062834          0.1137         0.813304        0.204321   \n",
       "415    1995-027747-012232          0.0954              NaN             NaN   \n",
       "416    1995-002051-029373             NaN              NaN             NaN   \n",
       "417    1995-006304-027919          0.1206         0.764627             NaN   \n",
       "419    1995-022260-023826          0.0112              NaN             NaN   \n",
       "420    1995-024975-030867          0.1737         0.827048        0.216950   \n",
       "421    1995-028733-025994          0.1610         0.751907             NaN   \n",
       "422    1995-025877-001910          0.0930         0.636103        0.897795   \n",
       "423    1995-001998-025323             NaN         0.778905        0.131514   \n",
       "424    1995-025279-024867          0.0900              NaN             NaN   \n",
       "425    1995-031549-030630          0.0864         0.787711        0.653321   \n",
       "426    1995-029849-027782          0.0384              NaN             NaN   \n",
       "427    1995-063229-029766          0.0187         0.805140        0.997475   \n",
       "428    1995-011550-004220          0.0931         0.673851        0.015555   \n",
       "429    1995-005693-007182          0.0028              NaN             NaN   \n",
       "430    1995-024988-061605          0.1667         0.828493        0.951237   \n",
       "431    1995-007241-013961          0.1560         0.705518             NaN   \n",
       "432    1995-014362-017046             NaN              NaN             NaN   \n",
       "433    1995-015312-006513             NaN              NaN             NaN   \n",
       "434    1995-027867-012124          0.7648              NaN             NaN   \n",
       "435    1995-017130-021060          0.0522         0.515670             NaN   \n",
       "436    1995-017239-030396          0.1313              NaN             NaN   \n",
       "437    1995-061694-061517          0.1819              NaN             NaN   \n",
       "438    1995-005399-061751          0.0325         0.753515        0.730120   \n",
       "...                   ...             ...              ...             ...   \n",
       "21746  2014-184167-164059          0.0987              NaN             NaN   \n",
       "21747  2014-184167-028967             NaN              NaN             NaN   \n",
       "21748  2014-184167-020677          0.2231              NaN             NaN   \n",
       "21749  2014-184167-162489          0.1976              NaN             NaN   \n",
       "21750  2014-184167-016668          0.1131              NaN             NaN   \n",
       "21751  2015-187740-160213          0.0162              NaN             NaN   \n",
       "21752  2015-187740-064637          0.0954              NaN             NaN   \n",
       "21753  2015-187740-187450             NaN              NaN             NaN   \n",
       "21754  2015-187740-178865             NaN              NaN             NaN   \n",
       "21755  2015-187740-110760          0.0218              NaN             NaN   \n",
       "21756  2014-166593-020088          0.0353              NaN             NaN   \n",
       "21757  2014-166593-026012             NaN              NaN             NaN   \n",
       "21758  2014-166593-122536             NaN              NaN             NaN   \n",
       "21759  2014-166593-170444          0.0139              NaN             NaN   \n",
       "21760  2014-166593-003382             NaN              NaN             NaN   \n",
       "21761  2014-064979-107325          0.0701              NaN             NaN   \n",
       "21762  2014-064979-114956          0.0969              NaN             NaN   \n",
       "21763  2014-064979-063725          0.1435              NaN             NaN   \n",
       "21764  2014-064979-018110          0.0886              NaN             NaN   \n",
       "21765  2014-064979-066394          0.0869              NaN             NaN   \n",
       "21766  2014-019355-020677          0.0520              NaN             NaN   \n",
       "21767  2014-019355-017136          0.0973              NaN             NaN   \n",
       "21768  2014-019355-063538          0.0285              NaN             NaN   \n",
       "21769  2014-019355-016668          0.0630              NaN             NaN   \n",
       "21770  2014-019355-162489          0.0574              NaN             NaN   \n",
       "21771  2014-175607-018037             NaN              NaN             NaN   \n",
       "21772  2014-175607-065610          0.2010              NaN             NaN   \n",
       "21773  2014-175607-111819          0.1098              NaN             NaN   \n",
       "21774  2014-175607-063224          0.0702              NaN             NaN   \n",
       "21775  2014-175607-162293          0.1043              NaN             NaN   \n",
       "\n",
       "       state_match  \n",
       "347           True  \n",
       "379          False  \n",
       "383           True  \n",
       "388          False  \n",
       "412           True  \n",
       "413          False  \n",
       "414           True  \n",
       "415           True  \n",
       "416          False  \n",
       "417           True  \n",
       "419          False  \n",
       "420           True  \n",
       "421          False  \n",
       "422          False  \n",
       "423          False  \n",
       "424          False  \n",
       "425          False  \n",
       "426          False  \n",
       "427          False  \n",
       "428          False  \n",
       "429          False  \n",
       "430           True  \n",
       "431          False  \n",
       "432           True  \n",
       "433          False  \n",
       "434           True  \n",
       "435          False  \n",
       "436          False  \n",
       "437           True  \n",
       "438          False  \n",
       "...            ...  \n",
       "21746        False  \n",
       "21747        False  \n",
       "21748        False  \n",
       "21749        False  \n",
       "21750        False  \n",
       "21751        False  \n",
       "21752        False  \n",
       "21753        False  \n",
       "21754        False  \n",
       "21755        False  \n",
       "21756        False  \n",
       "21757        False  \n",
       "21758        False  \n",
       "21759        False  \n",
       "21760        False  \n",
       "21761        False  \n",
       "21762        False  \n",
       "21763        False  \n",
       "21764        False  \n",
       "21765        False  \n",
       "21766        False  \n",
       "21767        False  \n",
       "21768        False  \n",
       "21769        False  \n",
       "21770        False  \n",
       "21771        False  \n",
       "21772         True  \n",
       "21773        False  \n",
       "21774        False  \n",
       "21775        False  \n",
       "\n",
       "[16477 rows x 31 columns]"
      ]
     },
     "execution_count": 219,
     "metadata": {},
     "output_type": "execute_result"
    }
   ],
   "source": [
    "#add state_match\n",
    "def state_match(x,y):\n",
    "    if (pd.isna(x)) or (pd.isna(y)):# if nan random fill it\n",
    "        return np.random.choice([True, False])\n",
    "    elif(pd.notna(x) and pd.notna(y) and (x!=y)): \n",
    "        return False\n",
    "    elif(pd.notna(x) and pd.notna(y) and (x==y)):\n",
    "         return True                    \n",
    "\n",
    "df2['state_match'] = df2.apply(lambda row: state_match(row['acq_STATE'], row['target_STATE']),axis=1)\n",
    "df2"
   ]
  },
  {
   "cell_type": "code",
   "execution_count": 220,
   "metadata": {
    "scrolled": true
   },
   "outputs": [
    {
     "data": {
      "text/plain": [
       "False    14038\n",
       "True      2439\n",
       "Name: state_match, dtype: int64"
      ]
     },
     "execution_count": 220,
     "metadata": {},
     "output_type": "execute_result"
    }
   ],
   "source": [
    "df2['state_match'].value_counts()"
   ]
  },
  {
   "cell_type": "code",
   "execution_count": 188,
   "metadata": {},
   "outputs": [],
   "source": [
    "#df1['state_match'].fillna(pd.Series(np.random.choice([True, False], p=[0.15,0.85], size=len(df1))), inplace =True)"
   ]
  },
  {
   "cell_type": "code",
   "execution_count": 222,
   "metadata": {},
   "outputs": [
    {
     "name": "stderr",
     "output_type": "stream",
     "text": [
      "/Users/jiahuibi/anaconda/lib/python3.6/site-packages/ipykernel_launcher.py:1: SettingWithCopyWarning: \n",
      "A value is trying to be set on a copy of a slice from a DataFrame.\n",
      "Try using .loc[row_indexer,col_indexer] = value instead\n",
      "\n",
      "See the caveats in the documentation: http://pandas.pydata.org/pandas-docs/stable/indexing.html#indexing-view-versus-copy\n",
      "  \"\"\"Entry point for launching an IPython kernel.\n"
     ]
    }
   ],
   "source": [
    "df2['state_match']=df2['state_match'].astype(int)"
   ]
  },
  {
   "cell_type": "code",
   "execution_count": 223,
   "metadata": {
    "scrolled": false
   },
   "outputs": [
    {
     "data": {
      "text/plain": [
       "<Figure size 1440x648 with 0 Axes>"
      ]
     },
     "execution_count": 223,
     "metadata": {},
     "output_type": "execute_result"
    },
    {
     "data": {
      "text/plain": [
       "<matplotlib.axes._subplots.AxesSubplot at 0x1a26c43a90>"
      ]
     },
     "execution_count": 223,
     "metadata": {},
     "output_type": "execute_result"
    },
    {
     "data": {
      "text/plain": [
       "Text(0.5,1,'HPs_similarity')"
      ]
     },
     "execution_count": 223,
     "metadata": {},
     "output_type": "execute_result"
    },
    {
     "data": {
      "text/plain": [
       "<matplotlib.axes._subplots.AxesSubplot at 0x1a26c43a90>"
      ]
     },
     "execution_count": 223,
     "metadata": {},
     "output_type": "execute_result"
    },
    {
     "data": {
      "text/plain": [
       "<matplotlib.axes._subplots.AxesSubplot at 0x1a170be4a8>"
      ]
     },
     "execution_count": 223,
     "metadata": {},
     "output_type": "execute_result"
    },
    {
     "data": {
      "text/plain": [
       "Text(0.5,1,'RWMD_similarity')"
      ]
     },
     "execution_count": 223,
     "metadata": {},
     "output_type": "execute_result"
    },
    {
     "data": {
      "text/plain": [
       "<matplotlib.axes._subplots.AxesSubplot at 0x1a170be4a8>"
      ]
     },
     "execution_count": 223,
     "metadata": {},
     "output_type": "execute_result"
    },
    {
     "data": {
      "text/plain": [
       "<matplotlib.axes._subplots.AxesSubplot at 0x1a204a5550>"
      ]
     },
     "execution_count": 223,
     "metadata": {},
     "output_type": "execute_result"
    },
    {
     "data": {
      "text/plain": [
       "Text(0.5,1,'LDA_similarity')"
      ]
     },
     "execution_count": 223,
     "metadata": {},
     "output_type": "execute_result"
    },
    {
     "data": {
      "text/plain": [
       "<matplotlib.axes._subplots.AxesSubplot at 0x1a204a5550>"
      ]
     },
     "execution_count": 223,
     "metadata": {},
     "output_type": "execute_result"
    },
    {
     "data": {
      "image/png": "[encoded data removed]",
      "text/plain": [
       "<Figure size 1440x648 with 3 Axes>"
      ]
     },
     "metadata": {},
     "output_type": "display_data"
    }
   ],
   "source": [
    "#similarity distribution\n",
    "%matplotlib inline\n",
    "plt.figure(figsize=(20,9))\n",
    "plt.subplots_adjust(wspace=0.5, hspace=0.5)\n",
    "plt.subplot(1,3,1)\n",
    "plt.title(\"HPs_similarity\")\n",
    "df2['HPs_similarity'].hist(bins=25)\n",
    "plt.subplot(1,3,2)\n",
    "plt.title(\"RWMD_similarity\")\n",
    "df2['RWMD_similarity'].hist(bins=25)\n",
    "plt.subplot(1,3,3)\n",
    "plt.title(\"LDA_similarity\")\n",
    "df2['LDA_similarity'].hist(bins=25)\n"
   ]
  },
  {
   "cell_type": "code",
   "execution_count": 224,
   "metadata": {},
   "outputs": [
    {
     "data": {
      "text/plain": [
       "4791"
      ]
     },
     "execution_count": 224,
     "metadata": {},
     "output_type": "execute_result"
    },
    {
     "data": {
      "text/plain": [
       "Index(['acq_FYEAR', 'target_FYEAR', 'acq_gvkey', 'target_gvkey', 'dealID',\n",
       "       'acq_STATE', 'acq_salegr', 'acq_profit', 'acq_mleverage', 'acq_pastret',\n",
       "       'acq_io_top5', 'acq_size', 'acq_PERMNO', 'target_STATE',\n",
       "       'target_salegr', 'target_profit', 'target_mleverage', 'target_pastret',\n",
       "       'target_io_top5', 'target_size', 'target_PERMNO', 'deal',\n",
       "       'Date_Announced', 'acquirer_gvkey2', 'target_gvkey2', 'search_key1',\n",
       "       'search_key2', 'HPs_similarity', 'RWMD_similarity', 'LDA_similarity',\n",
       "       'state_match'],\n",
       "      dtype='object')"
      ]
     },
     "execution_count": 224,
     "metadata": {},
     "output_type": "execute_result"
    }
   ],
   "source": [
    "#version1 remove missing valus for similarity\n",
    "df3 = df2.dropna(how='any', subset=['HPs_similarity','RWMD_similarity','LDA_similarity'])\n",
    "len(df3)\n",
    "df3.columns"
   ]
  },
  {
   "cell_type": "code",
   "execution_count": 225,
   "metadata": {},
   "outputs": [
    {
     "data": {
      "text/plain": [
       "0    3673\n",
       "1    1118\n",
       "Name: deal, dtype: int64"
      ]
     },
     "execution_count": 225,
     "metadata": {},
     "output_type": "execute_result"
    }
   ],
   "source": [
    "df3['deal'].value_counts()"
   ]
  },
  {
   "cell_type": "code",
   "execution_count": 238,
   "metadata": {},
   "outputs": [
    {
     "data": {
      "text/plain": [
       "LogisticRegression(C=1.0, class_weight=None, dual=False, fit_intercept=True,\n",
       "          intercept_scaling=1, max_iter=100, multi_class='ovr', n_jobs=1,\n",
       "          penalty='l2', random_state=None, solver='liblinear', tol=0.0001,\n",
       "          verbose=0, warm_start=False)"
      ]
     },
     "execution_count": 238,
     "metadata": {},
     "output_type": "execute_result"
    },
    {
     "data": {
      "text/plain": [
       "[<matplotlib.lines.Line2D at 0x1a26c39da0>]"
      ]
     },
     "execution_count": 238,
     "metadata": {},
     "output_type": "execute_result"
    },
    {
     "data": {
      "text/plain": [
       "<matplotlib.legend.Legend at 0x1a120060b8>"
      ]
     },
     "execution_count": 238,
     "metadata": {},
     "output_type": "execute_result"
    },
    {
     "data": {
      "text/plain": [
       "GaussianNB(priors=None)"
      ]
     },
     "execution_count": 238,
     "metadata": {},
     "output_type": "execute_result"
    },
    {
     "data": {
      "text/plain": [
       "[<matplotlib.lines.Line2D at 0x1a26b6ea58>]"
      ]
     },
     "execution_count": 238,
     "metadata": {},
     "output_type": "execute_result"
    },
    {
     "data": {
      "text/plain": [
       "<matplotlib.legend.Legend at 0x1a26b6e080>"
      ]
     },
     "execution_count": 238,
     "metadata": {},
     "output_type": "execute_result"
    },
    {
     "data": {
      "text/plain": [
       "RandomForestClassifier(bootstrap=True, class_weight=None, criterion='gini',\n",
       "            max_depth=None, max_features='auto', max_leaf_nodes=None,\n",
       "            min_impurity_decrease=0.0, min_impurity_split=None,\n",
       "            min_samples_leaf=1, min_samples_split=2,\n",
       "            min_weight_fraction_leaf=0.0, n_estimators=10, n_jobs=1,\n",
       "            oob_score=False, random_state=None, verbose=0,\n",
       "            warm_start=False)"
      ]
     },
     "execution_count": 238,
     "metadata": {},
     "output_type": "execute_result"
    },
    {
     "data": {
      "text/plain": [
       "[<matplotlib.lines.Line2D at 0x1a26b63b00>]"
      ]
     },
     "execution_count": 238,
     "metadata": {},
     "output_type": "execute_result"
    },
    {
     "data": {
      "text/plain": [
       "<matplotlib.legend.Legend at 0x1a26b63780>"
      ]
     },
     "execution_count": 238,
     "metadata": {},
     "output_type": "execute_result"
    },
    {
     "data": {
      "text/plain": [
       "SVC(C=1.0, cache_size=200, class_weight=None, coef0=0.0,\n",
       "  decision_function_shape='ovr', degree=3, gamma='auto', kernel='rbf',\n",
       "  max_iter=-1, probability=True, random_state=None, shrinking=True,\n",
       "  tol=0.001, verbose=False)"
      ]
     },
     "execution_count": 238,
     "metadata": {},
     "output_type": "execute_result"
    },
    {
     "data": {
      "text/plain": [
       "[<matplotlib.lines.Line2D at 0x1a2721fcf8>]"
      ]
     },
     "execution_count": 238,
     "metadata": {},
     "output_type": "execute_result"
    },
    {
     "data": {
      "text/plain": [
       "<matplotlib.legend.Legend at 0x1a2721f668>"
      ]
     },
     "execution_count": 238,
     "metadata": {},
     "output_type": "execute_result"
    },
    {
     "data": {
      "text/plain": [
       "<Figure size 504x360 with 0 Axes>"
      ]
     },
     "execution_count": 238,
     "metadata": {},
     "output_type": "execute_result"
    },
    {
     "data": {
      "text/plain": [
       "<BarContainer object of 4 artists>"
      ]
     },
     "execution_count": 238,
     "metadata": {},
     "output_type": "execute_result"
    },
    {
     "data": {
      "text/plain": [
       "(0, 1)"
      ]
     },
     "execution_count": 238,
     "metadata": {},
     "output_type": "execute_result"
    },
    {
     "data": {
      "text/plain": [
       "Text(0,0.676062,'0.66')"
      ]
     },
     "execution_count": 238,
     "metadata": {},
     "output_type": "execute_result"
    },
    {
     "data": {
      "text/plain": [
       "Text(1,0.689758,'0.67')"
      ]
     },
     "execution_count": 238,
     "metadata": {},
     "output_type": "execute_result"
    },
    {
     "data": {
      "text/plain": [
       "Text(2,0.695568,'0.68')"
      ]
     },
     "execution_count": 238,
     "metadata": {},
     "output_type": "execute_result"
    },
    {
     "data": {
      "text/plain": [
       "Text(3,0.707403,'0.69')"
      ]
     },
     "execution_count": 238,
     "metadata": {},
     "output_type": "execute_result"
    },
    {
     "data": {
      "text/plain": [
       "([<matplotlib.axis.XTick at 0x1a28739128>,\n",
       "  <matplotlib.axis.XTick at 0x1a28739f98>,\n",
       "  <matplotlib.axis.XTick at 0x1a28739278>,\n",
       "  <matplotlib.axis.XTick at 0x1a0e864208>],\n",
       " <a list of 4 Text xticklabel objects>)"
      ]
     },
     "execution_count": 238,
     "metadata": {},
     "output_type": "execute_result"
    },
    {
     "data": {
      "text/plain": [
       "Text(0.5,0,'Estimator')"
      ]
     },
     "execution_count": 238,
     "metadata": {},
     "output_type": "execute_result"
    },
    {
     "data": {
      "text/plain": [
       "Text(0,0.5,'AUC')"
      ]
     },
     "execution_count": 238,
     "metadata": {},
     "output_type": "execute_result"
    },
    {
     "data": {
      "text/plain": [
       "Text(0.5,1,'AUC for HPs_similarity')"
      ]
     },
     "execution_count": 238,
     "metadata": {},
     "output_type": "execute_result"
    },
    {
     "data": {
      "image/png": "[encoded data removed]",
      "text/plain": [
       "<Figure size 432x288 with 1 Axes>"
      ]
     },
     "metadata": {},
     "output_type": "display_data"
    },
    {
     "data": {
      "image/png": "[encoded data removed]",
      "text/plain": [
       "<Figure size 504x360 with 1 Axes>"
      ]
     },
     "metadata": {},
     "output_type": "display_data"
    }
   ],
   "source": [
    "ests = [LogisticRegression(), GaussianNB(), RandomForestClassifier(), SVC(probability=True) ]\n",
    "ests_labels = np.array(['Logistic', 'NB', 'RF',  'SVM'])\n",
    "errvals = np.array([])\n",
    "df3columns=df3[['acq_salegr', 'acq_profit', 'acq_mleverage', 'acq_pastret',\n",
    "       'acq_io_top5', 'acq_size', 'target_salegr', 'target_profit', 'target_mleverage', 'target_pastret',\n",
    "       'target_io_top5', 'target_size', 'HPs_similarity','state_match']]\n",
    "X_train, X_test, y_train, y_test = train_test_split(df3columns,\n",
    "                                                    df3.deal, test_size=0.2,stratify = df3.deal, random_state=20)\n",
    "\n",
    "for e in ests:\n",
    "    e.fit(X_train, y_train)\n",
    "    fpr, tpr, thresholds = metrics.roc_curve(y_test,  e.predict_proba(X_test)[:,1], pos_label=1)\n",
    "    #this_err = metrics.accuracy_score(y_test, e.predict(X_test))\n",
    "    plt.plot(fpr, tpr,label=ests_labels[ests.index(e)])\n",
    "    plt.legend(loc='upper left')\n",
    "    this_err = metrics.auc(fpr,tpr)\n",
    "    errvals = np.append(errvals, this_err)\n",
    "\n",
    "pos = np.arange(errvals.shape[0])\n",
    "srt = np.argsort(errvals)\n",
    "plt.figure(figsize=(7,5))\n",
    "plt.bar(pos, errvals[srt],width=0.5, align='center')\n",
    "plt.ylim(0,1)\n",
    "for x,y in zip(pos, errvals[srt]):\n",
    "    plt.text(x, y+0.02, '%.2f' % y, ha='center', va= 'bottom')\n",
    "plt.xticks(pos, ests_labels[srt])\n",
    "plt.xlabel('Estimator')\n",
    "plt.ylabel('AUC')\n",
    "plt.title('AUC for HPs_similarity')\n",
    "plt.grid(color='#95a5a6',linestyle='--', linewidth=1,axis='y',alpha=0.4)\n",
    "plt.show()"
   ]
  },
  {
   "cell_type": "code",
   "execution_count": 239,
   "metadata": {},
   "outputs": [
    {
     "data": {
      "text/plain": [
       "LogisticRegression(C=1.0, class_weight=None, dual=False, fit_intercept=True,\n",
       "          intercept_scaling=1, max_iter=100, multi_class='ovr', n_jobs=1,\n",
       "          penalty='l2', random_state=None, solver='liblinear', tol=0.0001,\n",
       "          verbose=0, warm_start=False)"
      ]
     },
     "execution_count": 239,
     "metadata": {},
     "output_type": "execute_result"
    },
    {
     "data": {
      "text/plain": [
       "[<matplotlib.lines.Line2D at 0x1a2046cd68>]"
      ]
     },
     "execution_count": 239,
     "metadata": {},
     "output_type": "execute_result"
    },
    {
     "data": {
      "text/plain": [
       "<matplotlib.legend.Legend at 0x1a2046ceb8>"
      ]
     },
     "execution_count": 239,
     "metadata": {},
     "output_type": "execute_result"
    },
    {
     "data": {
      "text/plain": [
       "GaussianNB(priors=None)"
      ]
     },
     "execution_count": 239,
     "metadata": {},
     "output_type": "execute_result"
    },
    {
     "data": {
      "text/plain": [
       "[<matplotlib.lines.Line2D at 0x1a20460668>]"
      ]
     },
     "execution_count": 239,
     "metadata": {},
     "output_type": "execute_result"
    },
    {
     "data": {
      "text/plain": [
       "<matplotlib.legend.Legend at 0x1a20460f60>"
      ]
     },
     "execution_count": 239,
     "metadata": {},
     "output_type": "execute_result"
    },
    {
     "data": {
      "text/plain": [
       "RandomForestClassifier(bootstrap=True, class_weight=None, criterion='gini',\n",
       "            max_depth=None, max_features='auto', max_leaf_nodes=None,\n",
       "            min_impurity_decrease=0.0, min_impurity_split=None,\n",
       "            min_samples_leaf=1, min_samples_split=2,\n",
       "            min_weight_fraction_leaf=0.0, n_estimators=10, n_jobs=1,\n",
       "            oob_score=False, random_state=None, verbose=0,\n",
       "            warm_start=False)"
      ]
     },
     "execution_count": 239,
     "metadata": {},
     "output_type": "execute_result"
    },
    {
     "data": {
      "text/plain": [
       "[<matplotlib.lines.Line2D at 0x1a0dff76d8>]"
      ]
     },
     "execution_count": 239,
     "metadata": {},
     "output_type": "execute_result"
    },
    {
     "data": {
      "text/plain": [
       "<matplotlib.legend.Legend at 0x1a0dff74a8>"
      ]
     },
     "execution_count": 239,
     "metadata": {},
     "output_type": "execute_result"
    },
    {
     "data": {
      "text/plain": [
       "SVC(C=1.0, cache_size=200, class_weight=None, coef0=0.0,\n",
       "  decision_function_shape='ovr', degree=3, gamma='auto', kernel='rbf',\n",
       "  max_iter=-1, probability=True, random_state=None, shrinking=True,\n",
       "  tol=0.001, verbose=False)"
      ]
     },
     "execution_count": 239,
     "metadata": {},
     "output_type": "execute_result"
    },
    {
     "data": {
      "text/plain": [
       "[<matplotlib.lines.Line2D at 0x1a0e01dba8>]"
      ]
     },
     "execution_count": 239,
     "metadata": {},
     "output_type": "execute_result"
    },
    {
     "data": {
      "text/plain": [
       "<matplotlib.legend.Legend at 0x1a0e01dbe0>"
      ]
     },
     "execution_count": 239,
     "metadata": {},
     "output_type": "execute_result"
    },
    {
     "data": {
      "text/plain": [
       "<Figure size 504x360 with 0 Axes>"
      ]
     },
     "execution_count": 239,
     "metadata": {},
     "output_type": "execute_result"
    },
    {
     "data": {
      "text/plain": [
       "<BarContainer object of 4 artists>"
      ]
     },
     "execution_count": 239,
     "metadata": {},
     "output_type": "execute_result"
    },
    {
     "data": {
      "text/plain": [
       "(0, 1)"
      ]
     },
     "execution_count": 239,
     "metadata": {},
     "output_type": "execute_result"
    },
    {
     "data": {
      "text/plain": [
       "Text(0,0.647478,'0.63')"
      ]
     },
     "execution_count": 239,
     "metadata": {},
     "output_type": "execute_result"
    },
    {
     "data": {
      "text/plain": [
       "Text(1,0.68872,'0.67')"
      ]
     },
     "execution_count": 239,
     "metadata": {},
     "output_type": "execute_result"
    },
    {
     "data": {
      "text/plain": [
       "Text(2,0.694411,'0.67')"
      ]
     },
     "execution_count": 239,
     "metadata": {},
     "output_type": "execute_result"
    },
    {
     "data": {
      "text/plain": [
       "Text(3,0.710576,'0.69')"
      ]
     },
     "execution_count": 239,
     "metadata": {},
     "output_type": "execute_result"
    },
    {
     "data": {
      "text/plain": [
       "([<matplotlib.axis.XTick at 0x1a2870b908>,\n",
       "  <matplotlib.axis.XTick at 0x1a2870b198>,\n",
       "  <matplotlib.axis.XTick at 0x1a28717ac8>,\n",
       "  <matplotlib.axis.XTick at 0x1a286ee358>],\n",
       " <a list of 4 Text xticklabel objects>)"
      ]
     },
     "execution_count": 239,
     "metadata": {},
     "output_type": "execute_result"
    },
    {
     "data": {
      "text/plain": [
       "Text(0.5,0,'Estimator')"
      ]
     },
     "execution_count": 239,
     "metadata": {},
     "output_type": "execute_result"
    },
    {
     "data": {
      "text/plain": [
       "Text(0,0.5,'AUC')"
      ]
     },
     "execution_count": 239,
     "metadata": {},
     "output_type": "execute_result"
    },
    {
     "data": {
      "text/plain": [
       "Text(0.5,1,'AUC for RWMD_similarity')"
      ]
     },
     "execution_count": 239,
     "metadata": {},
     "output_type": "execute_result"
    },
    {
     "data": {
      "image/png": "[encoded data removed]",
      "text/plain": [
       "<Figure size 432x288 with 1 Axes>"
      ]
     },
     "metadata": {},
     "output_type": "display_data"
    },
    {
     "data": {
      "image/png": "[encoded data removed]",
      "text/plain": [
       "<Figure size 504x360 with 1 Axes>"
      ]
     },
     "metadata": {},
     "output_type": "display_data"
    }
   ],
   "source": [
    "ests = [LogisticRegression(), GaussianNB(), RandomForestClassifier(), SVC(probability=True) ]\n",
    "ests_labels = np.array(['Logistic', 'NB', 'RF',  'SVM'])\n",
    "errvals = np.array([])\n",
    "df3columns=df3[['acq_salegr', 'acq_profit', 'acq_mleverage', 'acq_pastret',\n",
    "       'acq_io_top5', 'acq_size', 'target_salegr', 'target_profit', 'target_mleverage', 'target_pastret',\n",
    "       'target_io_top5', 'target_size', 'RWMD_similarity','state_match']]\n",
    "X_train, X_test, y_train, y_test = train_test_split(df3columns,\n",
    "                                                    df3.deal, test_size=0.2,stratify = df3.deal, random_state=20)\n",
    "\n",
    "for e in ests:\n",
    "    e.fit(X_train, y_train)\n",
    "    fpr, tpr, thresholds = metrics.roc_curve(y_test,  e.predict_proba(X_test)[:,1], pos_label=1)\n",
    "    #this_err = metrics.accuracy_score(y_test, e.predict(X_test))\n",
    "    plt.plot(fpr, tpr,label=ests_labels[ests.index(e)])\n",
    "    plt.legend(loc='upper left')\n",
    "    this_err = metrics.auc(fpr,tpr)\n",
    "    errvals = np.append(errvals, this_err)\n",
    "\n",
    "pos = np.arange(errvals.shape[0])\n",
    "srt = np.argsort(errvals)\n",
    "plt.figure(figsize=(7,5))\n",
    "plt.bar(pos, errvals[srt],width=0.5, align='center')\n",
    "plt.ylim(0,1)\n",
    "for x,y in zip(pos, errvals[srt]):\n",
    "    plt.text(x, y+0.02, '%.2f' % y, ha='center', va= 'bottom')\n",
    "plt.xticks(pos, ests_labels[srt])\n",
    "plt.xlabel('Estimator')\n",
    "plt.ylabel('AUC')\n",
    "plt.title('AUC for RWMD_similarity')\n",
    "plt.grid(color='#95a5a6',linestyle='--', linewidth=1,axis='y',alpha=0.4)\n",
    "plt.show()"
   ]
  },
  {
   "cell_type": "code",
   "execution_count": 240,
   "metadata": {},
   "outputs": [
    {
     "data": {
      "text/plain": [
       "LogisticRegression(C=1.0, class_weight=None, dual=False, fit_intercept=True,\n",
       "          intercept_scaling=1, max_iter=100, multi_class='ovr', n_jobs=1,\n",
       "          penalty='l2', random_state=None, solver='liblinear', tol=0.0001,\n",
       "          verbose=0, warm_start=False)"
      ]
     },
     "execution_count": 240,
     "metadata": {},
     "output_type": "execute_result"
    },
    {
     "data": {
      "text/plain": [
       "[<matplotlib.lines.Line2D at 0x1a2104dcc0>]"
      ]
     },
     "execution_count": 240,
     "metadata": {},
     "output_type": "execute_result"
    },
    {
     "data": {
      "text/plain": [
       "<matplotlib.legend.Legend at 0x1a283bc3c8>"
      ]
     },
     "execution_count": 240,
     "metadata": {},
     "output_type": "execute_result"
    },
    {
     "data": {
      "text/plain": [
       "GaussianNB(priors=None)"
      ]
     },
     "execution_count": 240,
     "metadata": {},
     "output_type": "execute_result"
    },
    {
     "data": {
      "text/plain": [
       "[<matplotlib.lines.Line2D at 0x1a283bce48>]"
      ]
     },
     "execution_count": 240,
     "metadata": {},
     "output_type": "execute_result"
    },
    {
     "data": {
      "text/plain": [
       "<matplotlib.legend.Legend at 0x1a283c2048>"
      ]
     },
     "execution_count": 240,
     "metadata": {},
     "output_type": "execute_result"
    },
    {
     "data": {
      "text/plain": [
       "RandomForestClassifier(bootstrap=True, class_weight=None, criterion='gini',\n",
       "            max_depth=None, max_features='auto', max_leaf_nodes=None,\n",
       "            min_impurity_decrease=0.0, min_impurity_split=None,\n",
       "            min_samples_leaf=1, min_samples_split=2,\n",
       "            min_weight_fraction_leaf=0.0, n_estimators=10, n_jobs=1,\n",
       "            oob_score=False, random_state=None, verbose=0,\n",
       "            warm_start=False)"
      ]
     },
     "execution_count": 240,
     "metadata": {},
     "output_type": "execute_result"
    },
    {
     "data": {
      "text/plain": [
       "[<matplotlib.lines.Line2D at 0x1a283c76a0>]"
      ]
     },
     "execution_count": 240,
     "metadata": {},
     "output_type": "execute_result"
    },
    {
     "data": {
      "text/plain": [
       "<matplotlib.legend.Legend at 0x1a283c74a8>"
      ]
     },
     "execution_count": 240,
     "metadata": {},
     "output_type": "execute_result"
    },
    {
     "data": {
      "text/plain": [
       "SVC(C=1.0, cache_size=200, class_weight=None, coef0=0.0,\n",
       "  decision_function_shape='ovr', degree=3, gamma='auto', kernel='rbf',\n",
       "  max_iter=-1, probability=True, random_state=None, shrinking=True,\n",
       "  tol=0.001, verbose=False)"
      ]
     },
     "execution_count": 240,
     "metadata": {},
     "output_type": "execute_result"
    },
    {
     "data": {
      "text/plain": [
       "[<matplotlib.lines.Line2D at 0x1a283d0f28>]"
      ]
     },
     "execution_count": 240,
     "metadata": {},
     "output_type": "execute_result"
    },
    {
     "data": {
      "text/plain": [
       "<matplotlib.legend.Legend at 0x1a283c7400>"
      ]
     },
     "execution_count": 240,
     "metadata": {},
     "output_type": "execute_result"
    },
    {
     "data": {
      "text/plain": [
       "<Figure size 504x360 with 0 Axes>"
      ]
     },
     "execution_count": 240,
     "metadata": {},
     "output_type": "execute_result"
    },
    {
     "data": {
      "text/plain": [
       "<BarContainer object of 4 artists>"
      ]
     },
     "execution_count": 240,
     "metadata": {},
     "output_type": "execute_result"
    },
    {
     "data": {
      "text/plain": [
       "(0, 1)"
      ]
     },
     "execution_count": 240,
     "metadata": {},
     "output_type": "execute_result"
    },
    {
     "data": {
      "text/plain": [
       "Text(0,0.645067,'0.63')"
      ]
     },
     "execution_count": 240,
     "metadata": {},
     "output_type": "execute_result"
    },
    {
     "data": {
      "text/plain": [
       "Text(1,0.687201,'0.67')"
      ]
     },
     "execution_count": 240,
     "metadata": {},
     "output_type": "execute_result"
    },
    {
     "data": {
      "text/plain": [
       "Text(2,0.688641,'0.67')"
      ]
     },
     "execution_count": 240,
     "metadata": {},
     "output_type": "execute_result"
    },
    {
     "data": {
      "text/plain": [
       "Text(3,0.697873,'0.68')"
      ]
     },
     "execution_count": 240,
     "metadata": {},
     "output_type": "execute_result"
    },
    {
     "data": {
      "text/plain": [
       "([<matplotlib.axis.XTick at 0x1a283ef940>,\n",
       "  <matplotlib.axis.XTick at 0x1a283ef240>,\n",
       "  <matplotlib.axis.XTick at 0x1a283ef128>,\n",
       "  <matplotlib.axis.XTick at 0x1a22f3f358>],\n",
       " <a list of 4 Text xticklabel objects>)"
      ]
     },
     "execution_count": 240,
     "metadata": {},
     "output_type": "execute_result"
    },
    {
     "data": {
      "text/plain": [
       "Text(0.5,0,'Estimator')"
      ]
     },
     "execution_count": 240,
     "metadata": {},
     "output_type": "execute_result"
    },
    {
     "data": {
      "text/plain": [
       "Text(0,0.5,'AUC')"
      ]
     },
     "execution_count": 240,
     "metadata": {},
     "output_type": "execute_result"
    },
    {
     "data": {
      "text/plain": [
       "Text(0.5,1,'AUC for LDA_similarity')"
      ]
     },
     "execution_count": 240,
     "metadata": {},
     "output_type": "execute_result"
    },
    {
     "data": {
      "image/png": "[encoded data removed]",
      "text/plain": [
       "<Figure size 432x288 with 1 Axes>"
      ]
     },
     "metadata": {},
     "output_type": "display_data"
    },
    {
     "data": {
      "image/png": "[encoded data removed]",
      "text/plain": [
       "<Figure size 504x360 with 1 Axes>"
      ]
     },
     "metadata": {},
     "output_type": "display_data"
    }
   ],
   "source": [
    "ests = [LogisticRegression(), GaussianNB(), RandomForestClassifier(), SVC(probability=True) ]\n",
    "ests_labels = np.array(['Logistic', 'NB', 'RF',  'SVM'])\n",
    "errvals = np.array([])\n",
    "df3columns=df3[['acq_salegr', 'acq_profit', 'acq_mleverage', 'acq_pastret',\n",
    "       'acq_io_top5', 'acq_size', 'target_salegr', 'target_profit', 'target_mleverage', 'target_pastret',\n",
    "       'target_io_top5', 'target_size', 'LDA_similarity','state_match']]\n",
    "X_train, X_test, y_train, y_test = train_test_split(df3columns,\n",
    "                                                    df3.deal, test_size=0.2,stratify = df3.deal, random_state=20)\n",
    "\n",
    "for e in ests:\n",
    "    e.fit(X_train, y_train)\n",
    "    fpr, tpr, thresholds = metrics.roc_curve(y_test,  e.predict_proba(X_test)[:,1], pos_label=1)\n",
    "    #this_err = metrics.accuracy_score(y_test, e.predict(X_test))\n",
    "    plt.plot(fpr, tpr,label=ests_labels[ests.index(e)])\n",
    "    plt.legend(loc='upper left')\n",
    "    this_err = metrics.auc(fpr,tpr)\n",
    "    errvals = np.append(errvals, this_err)\n",
    "\n",
    "pos = np.arange(errvals.shape[0])\n",
    "srt = np.argsort(errvals)\n",
    "plt.figure(figsize=(7,5))\n",
    "plt.bar(pos, errvals[srt],width=0.5, align='center')\n",
    "plt.ylim(0,1)\n",
    "for x,y in zip(pos, errvals[srt]):\n",
    "    plt.text(x, y+0.02, '%.2f' % y, ha='center', va= 'bottom')\n",
    "plt.xticks(pos, ests_labels[srt])\n",
    "plt.xlabel('Estimator')\n",
    "plt.ylabel('AUC')\n",
    "plt.title('AUC for LDA_similarity')\n",
    "plt.grid(color='#95a5a6',linestyle='--', linewidth=1,axis='y',alpha=0.4)\n",
    "plt.show()"
   ]
  },
  {
   "cell_type": "markdown",
   "metadata": {},
   "source": [
    "## fillna = 0 for similarity"
   ]
  },
  {
   "cell_type": "code",
   "execution_count": 233,
   "metadata": {},
   "outputs": [],
   "source": [
    "df4=df2.copy()\n",
    "#'HPs_similarity', 'RWMD_similarity', 'LDA_similarity'\n",
    "df4['HPs_similarity'].fillna(0,inplace = True)\n",
    "df4['RWMD_similarity'].fillna(0,inplace = True)\n",
    "df4['LDA_similarity'].fillna(0,inplace = True)"
   ]
  },
  {
   "cell_type": "code",
   "execution_count": 234,
   "metadata": {},
   "outputs": [
    {
     "data": {
      "text/plain": [
       "0    13932\n",
       "1     2545\n",
       "Name: deal, dtype: int64"
      ]
     },
     "execution_count": 234,
     "metadata": {},
     "output_type": "execute_result"
    }
   ],
   "source": [
    "df4['deal'].value_counts()"
   ]
  },
  {
   "cell_type": "markdown",
   "metadata": {},
   "source": [
    "### baseline(no similarity)"
   ]
  },
  {
   "cell_type": "code",
   "execution_count": 260,
   "metadata": {},
   "outputs": [
    {
     "data": {
      "text/plain": [
       "LogisticRegression(C=1.0, class_weight=None, dual=False, fit_intercept=True,\n",
       "          intercept_scaling=1, max_iter=100, multi_class='ovr', n_jobs=1,\n",
       "          penalty='l2', random_state=None, solver='liblinear', tol=0.0001,\n",
       "          verbose=0, warm_start=False)"
      ]
     },
     "execution_count": 260,
     "metadata": {},
     "output_type": "execute_result"
    },
    {
     "data": {
      "text/plain": [
       "[<matplotlib.lines.Line2D at 0x1a26d718d0>]"
      ]
     },
     "execution_count": 260,
     "metadata": {},
     "output_type": "execute_result"
    },
    {
     "data": {
      "text/plain": [
       "<matplotlib.legend.Legend at 0x1a26d71320>"
      ]
     },
     "execution_count": 260,
     "metadata": {},
     "output_type": "execute_result"
    },
    {
     "data": {
      "text/plain": [
       "GaussianNB(priors=None)"
      ]
     },
     "execution_count": 260,
     "metadata": {},
     "output_type": "execute_result"
    },
    {
     "data": {
      "text/plain": [
       "[<matplotlib.lines.Line2D at 0x1a28634b70>]"
      ]
     },
     "execution_count": 260,
     "metadata": {},
     "output_type": "execute_result"
    },
    {
     "data": {
      "text/plain": [
       "<matplotlib.legend.Legend at 0x1a1f76f5c0>"
      ]
     },
     "execution_count": 260,
     "metadata": {},
     "output_type": "execute_result"
    },
    {
     "data": {
      "text/plain": [
       "RandomForestClassifier(bootstrap=True, class_weight=None, criterion='gini',\n",
       "            max_depth=None, max_features='auto', max_leaf_nodes=None,\n",
       "            min_impurity_decrease=0.0, min_impurity_split=None,\n",
       "            min_samples_leaf=1, min_samples_split=2,\n",
       "            min_weight_fraction_leaf=0.0, n_estimators=10, n_jobs=1,\n",
       "            oob_score=False, random_state=None, verbose=0,\n",
       "            warm_start=False)"
      ]
     },
     "execution_count": 260,
     "metadata": {},
     "output_type": "execute_result"
    },
    {
     "data": {
      "text/plain": [
       "[<matplotlib.lines.Line2D at 0x1a27401438>]"
      ]
     },
     "execution_count": 260,
     "metadata": {},
     "output_type": "execute_result"
    },
    {
     "data": {
      "text/plain": [
       "<matplotlib.legend.Legend at 0x1a27401940>"
      ]
     },
     "execution_count": 260,
     "metadata": {},
     "output_type": "execute_result"
    },
    {
     "data": {
      "text/plain": [
       "SVC(C=1.0, cache_size=200, class_weight=None, coef0=0.0,\n",
       "  decision_function_shape='ovr', degree=3, gamma='auto', kernel='rbf',\n",
       "  max_iter=-1, probability=True, random_state=None, shrinking=True,\n",
       "  tol=0.001, verbose=False)"
      ]
     },
     "execution_count": 260,
     "metadata": {},
     "output_type": "execute_result"
    },
    {
     "data": {
      "text/plain": [
       "[<matplotlib.lines.Line2D at 0x1a0e00e748>]"
      ]
     },
     "execution_count": 260,
     "metadata": {},
     "output_type": "execute_result"
    },
    {
     "data": {
      "text/plain": [
       "<matplotlib.legend.Legend at 0x1a0e00ec50>"
      ]
     },
     "execution_count": 260,
     "metadata": {},
     "output_type": "execute_result"
    },
    {
     "data": {
      "text/plain": [
       "<Figure size 504x360 with 0 Axes>"
      ]
     },
     "execution_count": 260,
     "metadata": {},
     "output_type": "execute_result"
    },
    {
     "data": {
      "text/plain": [
       "<BarContainer object of 4 artists>"
      ]
     },
     "execution_count": 260,
     "metadata": {},
     "output_type": "execute_result"
    },
    {
     "data": {
      "text/plain": [
       "(0, 1)"
      ]
     },
     "execution_count": 260,
     "metadata": {},
     "output_type": "execute_result"
    },
    {
     "data": {
      "text/plain": [
       "Text(0,0.61308,'0.59')"
      ]
     },
     "execution_count": 260,
     "metadata": {},
     "output_type": "execute_result"
    },
    {
     "data": {
      "text/plain": [
       "Text(1,0.620017,'0.60')"
      ]
     },
     "execution_count": 260,
     "metadata": {},
     "output_type": "execute_result"
    },
    {
     "data": {
      "text/plain": [
       "Text(2,0.634844,'0.61')"
      ]
     },
     "execution_count": 260,
     "metadata": {},
     "output_type": "execute_result"
    },
    {
     "data": {
      "text/plain": [
       "Text(3,0.669771,'0.65')"
      ]
     },
     "execution_count": 260,
     "metadata": {},
     "output_type": "execute_result"
    },
    {
     "data": {
      "text/plain": [
       "([<matplotlib.axis.XTick at 0x1a26b78c18>,\n",
       "  <matplotlib.axis.XTick at 0x1a1f3cc4e0>,\n",
       "  <matplotlib.axis.XTick at 0x1a1f3cc128>,\n",
       "  <matplotlib.axis.XTick at 0x1a287024e0>],\n",
       " <a list of 4 Text xticklabel objects>)"
      ]
     },
     "execution_count": 260,
     "metadata": {},
     "output_type": "execute_result"
    },
    {
     "data": {
      "text/plain": [
       "Text(0.5,0,'Estimator')"
      ]
     },
     "execution_count": 260,
     "metadata": {},
     "output_type": "execute_result"
    },
    {
     "data": {
      "text/plain": [
       "Text(0,0.5,'AUC')"
      ]
     },
     "execution_count": 260,
     "metadata": {},
     "output_type": "execute_result"
    },
    {
     "data": {
      "text/plain": [
       "Text(0.5,1,'AUC for baseline')"
      ]
     },
     "execution_count": 260,
     "metadata": {},
     "output_type": "execute_result"
    },
    {
     "data": {
      "image/png": "[encoded data removed]",
      "text/plain": [
       "<Figure size 432x288 with 1 Axes>"
      ]
     },
     "metadata": {},
     "output_type": "display_data"
    },
    {
     "data": {
      "image/png": "[encoded data removed]",
      "text/plain": [
       "<Figure size 504x360 with 1 Axes>"
      ]
     },
     "metadata": {},
     "output_type": "display_data"
    }
   ],
   "source": [
    "ests = [LogisticRegression(), GaussianNB(), RandomForestClassifier(), SVC(probability=True) ]\n",
    "ests_labels = np.array(['Logistic', 'NB', 'RF',  'SVM'])\n",
    "errvals = np.array([])\n",
    "df4_rwmd=df4[['acq_salegr', 'acq_profit', 'acq_mleverage', 'acq_pastret',\n",
    "       'acq_io_top5', 'acq_size', 'target_salegr', 'target_profit', 'target_mleverage', 'target_pastret',\n",
    "       'target_io_top5', 'target_size', 'state_match']]\n",
    "X_train, X_test, y_train, y_test = train_test_split(df4_rwmd,\n",
    "                                                    df4.deal, test_size=0.2,stratify = df4.deal, random_state=20)\n",
    "\n",
    "for e in ests:\n",
    "    e.fit(X_train, y_train)\n",
    "    fpr, tpr, thresholds = metrics.roc_curve(y_test,  e.predict_proba(X_test)[:,1], pos_label=1)\n",
    "    #this_err = metrics.accuracy_score(y_test, e.predict(X_test))\n",
    "    plt.plot(fpr, tpr,label=ests_labels[ests.index(e)])\n",
    "    plt.legend(loc='upper left')\n",
    "    this_err = metrics.auc(fpr,tpr)\n",
    "    errvals = np.append(errvals, this_err)\n",
    "\n",
    "pos = np.arange(errvals.shape[0])\n",
    "srt = np.argsort(errvals)\n",
    "plt.figure(figsize=(7,5))\n",
    "plt.bar(pos, errvals[srt],width=0.5, align='center')\n",
    "plt.ylim(0,1)\n",
    "for x,y in zip(pos, errvals[srt]):\n",
    "    plt.text(x, y+0.02, '%.2f' % y, ha='center', va= 'bottom')\n",
    "plt.xticks(pos, ests_labels[srt])\n",
    "plt.xlabel('Estimator')\n",
    "plt.ylabel('AUC')\n",
    "plt.title('AUC for baseline')\n",
    "plt.grid(color='#95a5a6',linestyle='--', linewidth=1,axis='y',alpha=0.4)\n",
    "plt.show()"
   ]
  },
  {
   "cell_type": "markdown",
   "metadata": {},
   "source": [
    "### add RWMD_similarity"
   ]
  },
  {
   "cell_type": "code",
   "execution_count": 244,
   "metadata": {},
   "outputs": [
    {
     "data": {
      "text/plain": [
       "LogisticRegression(C=1.0, class_weight=None, dual=False, fit_intercept=True,\n",
       "          intercept_scaling=1, max_iter=100, multi_class='ovr', n_jobs=1,\n",
       "          penalty='l2', random_state=None, solver='liblinear', tol=0.0001,\n",
       "          verbose=0, warm_start=False)"
      ]
     },
     "execution_count": 244,
     "metadata": {},
     "output_type": "execute_result"
    },
    {
     "data": {
      "text/plain": [
       "[<matplotlib.lines.Line2D at 0x1c2c7b4e10>]"
      ]
     },
     "execution_count": 244,
     "metadata": {},
     "output_type": "execute_result"
    },
    {
     "data": {
      "text/plain": [
       "<matplotlib.legend.Legend at 0x1c2c7b4f60>"
      ]
     },
     "execution_count": 244,
     "metadata": {},
     "output_type": "execute_result"
    },
    {
     "data": {
      "text/plain": [
       "GaussianNB(priors=None)"
      ]
     },
     "execution_count": 244,
     "metadata": {},
     "output_type": "execute_result"
    },
    {
     "data": {
      "text/plain": [
       "[<matplotlib.lines.Line2D at 0x1a22607eb8>]"
      ]
     },
     "execution_count": 244,
     "metadata": {},
     "output_type": "execute_result"
    },
    {
     "data": {
      "text/plain": [
       "<matplotlib.legend.Legend at 0x1a2261b358>"
      ]
     },
     "execution_count": 244,
     "metadata": {},
     "output_type": "execute_result"
    },
    {
     "data": {
      "text/plain": [
       "RandomForestClassifier(bootstrap=True, class_weight=None, criterion='gini',\n",
       "            max_depth=None, max_features='auto', max_leaf_nodes=None,\n",
       "            min_impurity_decrease=0.0, min_impurity_split=None,\n",
       "            min_samples_leaf=1, min_samples_split=2,\n",
       "            min_weight_fraction_leaf=0.0, n_estimators=10, n_jobs=1,\n",
       "            oob_score=False, random_state=None, verbose=0,\n",
       "            warm_start=False)"
      ]
     },
     "execution_count": 244,
     "metadata": {},
     "output_type": "execute_result"
    },
    {
     "data": {
      "text/plain": [
       "[<matplotlib.lines.Line2D at 0x1a22613748>]"
      ]
     },
     "execution_count": 244,
     "metadata": {},
     "output_type": "execute_result"
    },
    {
     "data": {
      "text/plain": [
       "<matplotlib.legend.Legend at 0x1a22613588>"
      ]
     },
     "execution_count": 244,
     "metadata": {},
     "output_type": "execute_result"
    },
    {
     "data": {
      "text/plain": [
       "SVC(C=1.0, cache_size=200, class_weight=None, coef0=0.0,\n",
       "  decision_function_shape='ovr', degree=3, gamma='auto', kernel='rbf',\n",
       "  max_iter=-1, probability=True, random_state=None, shrinking=True,\n",
       "  tol=0.001, verbose=False)"
      ]
     },
     "execution_count": 244,
     "metadata": {},
     "output_type": "execute_result"
    },
    {
     "data": {
      "text/plain": [
       "[<matplotlib.lines.Line2D at 0x1a2261f6d8>]"
      ]
     },
     "execution_count": 244,
     "metadata": {},
     "output_type": "execute_result"
    },
    {
     "data": {
      "text/plain": [
       "<matplotlib.legend.Legend at 0x1a2261f710>"
      ]
     },
     "execution_count": 244,
     "metadata": {},
     "output_type": "execute_result"
    },
    {
     "data": {
      "text/plain": [
       "<Figure size 504x360 with 0 Axes>"
      ]
     },
     "execution_count": 244,
     "metadata": {},
     "output_type": "execute_result"
    },
    {
     "data": {
      "text/plain": [
       "<BarContainer object of 4 artists>"
      ]
     },
     "execution_count": 244,
     "metadata": {},
     "output_type": "execute_result"
    },
    {
     "data": {
      "text/plain": [
       "(0, 1)"
      ]
     },
     "execution_count": 244,
     "metadata": {},
     "output_type": "execute_result"
    },
    {
     "data": {
      "text/plain": [
       "Text(0,0.630756,'0.61')"
      ]
     },
     "execution_count": 244,
     "metadata": {},
     "output_type": "execute_result"
    },
    {
     "data": {
      "text/plain": [
       "Text(1,0.659061,'0.64')"
      ]
     },
     "execution_count": 244,
     "metadata": {},
     "output_type": "execute_result"
    },
    {
     "data": {
      "text/plain": [
       "Text(2,0.671543,'0.65')"
      ]
     },
     "execution_count": 244,
     "metadata": {},
     "output_type": "execute_result"
    },
    {
     "data": {
      "text/plain": [
       "Text(3,0.680778,'0.66')"
      ]
     },
     "execution_count": 244,
     "metadata": {},
     "output_type": "execute_result"
    },
    {
     "data": {
      "text/plain": [
       "([<matplotlib.axis.XTick at 0x1a290188d0>,\n",
       "  <matplotlib.axis.XTick at 0x1a29018208>,\n",
       "  <matplotlib.axis.XTick at 0x1a290180f0>,\n",
       "  <matplotlib.axis.XTick at 0x1a22613390>],\n",
       " <a list of 4 Text xticklabel objects>)"
      ]
     },
     "execution_count": 244,
     "metadata": {},
     "output_type": "execute_result"
    },
    {
     "data": {
      "text/plain": [
       "Text(0.5,0,'Estimator')"
      ]
     },
     "execution_count": 244,
     "metadata": {},
     "output_type": "execute_result"
    },
    {
     "data": {
      "text/plain": [
       "Text(0,0.5,'AUC')"
      ]
     },
     "execution_count": 244,
     "metadata": {},
     "output_type": "execute_result"
    },
    {
     "data": {
      "text/plain": [
       "Text(0.5,1,'AUC for RWMD_similarity')"
      ]
     },
     "execution_count": 244,
     "metadata": {},
     "output_type": "execute_result"
    },
    {
     "data": {
      "image/png": "[encoded data removed]",
      "text/plain": [
       "<Figure size 432x288 with 1 Axes>"
      ]
     },
     "metadata": {},
     "output_type": "display_data"
    },
    {
     "data": {
      "image/png": "[encoded data removed]",
      "text/plain": [
       "<Figure size 504x360 with 1 Axes>"
      ]
     },
     "metadata": {},
     "output_type": "display_data"
    }
   ],
   "source": [
    "ests = [LogisticRegression(), GaussianNB(), RandomForestClassifier(), SVC(probability=True) ]\n",
    "ests_labels = np.array(['Logistic', 'NB', 'RF',  'SVM'])\n",
    "errvals = np.array([])\n",
    "df4_rwmd=df4[['acq_salegr', 'acq_profit', 'acq_mleverage', 'acq_pastret',\n",
    "       'acq_io_top5', 'acq_size', 'target_salegr', 'target_profit', 'target_mleverage', 'target_pastret',\n",
    "       'target_io_top5', 'target_size', 'RWMD_similarity','state_match']]\n",
    "X_train, X_test, y_train, y_test = train_test_split(df4_rwmd,\n",
    "                                                    df4.deal, test_size=0.2,stratify = df4.deal, random_state=20)\n",
    "\n",
    "for e in ests:\n",
    "    e.fit(X_train, y_train)\n",
    "    fpr, tpr, thresholds = metrics.roc_curve(y_test,  e.predict_proba(X_test)[:,1], pos_label=1)\n",
    "    #this_err = metrics.accuracy_score(y_test, e.predict(X_test))\n",
    "    plt.plot(fpr, tpr,label=ests_labels[ests.index(e)])\n",
    "    plt.legend(loc='upper left')\n",
    "    this_err = metrics.auc(fpr,tpr)\n",
    "    errvals = np.append(errvals, this_err)\n",
    "\n",
    "pos = np.arange(errvals.shape[0])\n",
    "srt = np.argsort(errvals)\n",
    "plt.figure(figsize=(7,5))\n",
    "plt.bar(pos, errvals[srt],width=0.5, align='center')\n",
    "plt.ylim(0,1)\n",
    "for x,y in zip(pos, errvals[srt]):\n",
    "    plt.text(x, y+0.02, '%.2f' % y, ha='center', va= 'bottom')\n",
    "plt.xticks(pos, ests_labels[srt])\n",
    "plt.xlabel('Estimator')\n",
    "plt.ylabel('AUC')\n",
    "plt.title('AUC for RWMD_similarity')\n",
    "plt.grid(color='#95a5a6',linestyle='--', linewidth=1,axis='y',alpha=0.4)\n",
    "plt.show()"
   ]
  },
  {
   "cell_type": "markdown",
   "metadata": {},
   "source": [
    "### add LDA_similarity"
   ]
  },
  {
   "cell_type": "code",
   "execution_count": 246,
   "metadata": {
    "scrolled": false
   },
   "outputs": [
    {
     "data": {
      "text/plain": [
       "LogisticRegression(C=1.0, class_weight=None, dual=False, fit_intercept=True,\n",
       "          intercept_scaling=1, max_iter=100, multi_class='ovr', n_jobs=1,\n",
       "          penalty='l2', random_state=None, solver='liblinear', tol=0.0001,\n",
       "          verbose=0, warm_start=False)"
      ]
     },
     "execution_count": 246,
     "metadata": {},
     "output_type": "execute_result"
    },
    {
     "data": {
      "text/plain": [
       "[<matplotlib.lines.Line2D at 0x1a297bbe10>]"
      ]
     },
     "execution_count": 246,
     "metadata": {},
     "output_type": "execute_result"
    },
    {
     "data": {
      "text/plain": [
       "<matplotlib.legend.Legend at 0x1a297bbc50>"
      ]
     },
     "execution_count": 246,
     "metadata": {},
     "output_type": "execute_result"
    },
    {
     "data": {
      "text/plain": [
       "GaussianNB(priors=None)"
      ]
     },
     "execution_count": 246,
     "metadata": {},
     "output_type": "execute_result"
    },
    {
     "data": {
      "text/plain": [
       "[<matplotlib.lines.Line2D at 0x1a290452b0>]"
      ]
     },
     "execution_count": 246,
     "metadata": {},
     "output_type": "execute_result"
    },
    {
     "data": {
      "text/plain": [
       "<matplotlib.legend.Legend at 0x1a29045940>"
      ]
     },
     "execution_count": 246,
     "metadata": {},
     "output_type": "execute_result"
    },
    {
     "data": {
      "text/plain": [
       "RandomForestClassifier(bootstrap=True, class_weight=None, criterion='gini',\n",
       "            max_depth=None, max_features='auto', max_leaf_nodes=None,\n",
       "            min_impurity_decrease=0.0, min_impurity_split=None,\n",
       "            min_samples_leaf=1, min_samples_split=2,\n",
       "            min_weight_fraction_leaf=0.0, n_estimators=10, n_jobs=1,\n",
       "            oob_score=False, random_state=None, verbose=0,\n",
       "            warm_start=False)"
      ]
     },
     "execution_count": 246,
     "metadata": {},
     "output_type": "execute_result"
    },
    {
     "data": {
      "text/plain": [
       "[<matplotlib.lines.Line2D at 0x1a29041390>]"
      ]
     },
     "execution_count": 246,
     "metadata": {},
     "output_type": "execute_result"
    },
    {
     "data": {
      "text/plain": [
       "<matplotlib.legend.Legend at 0x1a29041860>"
      ]
     },
     "execution_count": 246,
     "metadata": {},
     "output_type": "execute_result"
    },
    {
     "data": {
      "text/plain": [
       "SVC(C=1.0, cache_size=200, class_weight=None, coef0=0.0,\n",
       "  decision_function_shape='ovr', degree=3, gamma='auto', kernel='rbf',\n",
       "  max_iter=-1, probability=True, random_state=None, shrinking=True,\n",
       "  tol=0.001, verbose=False)"
      ]
     },
     "execution_count": 246,
     "metadata": {},
     "output_type": "execute_result"
    },
    {
     "data": {
      "text/plain": [
       "[<matplotlib.lines.Line2D at 0x1a2261be80>]"
      ]
     },
     "execution_count": 246,
     "metadata": {},
     "output_type": "execute_result"
    },
    {
     "data": {
      "text/plain": [
       "<matplotlib.legend.Legend at 0x1a2261b898>"
      ]
     },
     "execution_count": 246,
     "metadata": {},
     "output_type": "execute_result"
    },
    {
     "data": {
      "text/plain": [
       "<Figure size 504x360 with 0 Axes>"
      ]
     },
     "execution_count": 246,
     "metadata": {},
     "output_type": "execute_result"
    },
    {
     "data": {
      "text/plain": [
       "<BarContainer object of 4 artists>"
      ]
     },
     "execution_count": 246,
     "metadata": {},
     "output_type": "execute_result"
    },
    {
     "data": {
      "text/plain": [
       "(0, 1)"
      ]
     },
     "execution_count": 246,
     "metadata": {},
     "output_type": "execute_result"
    },
    {
     "data": {
      "text/plain": [
       "Text(0,0.638545,'0.62')"
      ]
     },
     "execution_count": 246,
     "metadata": {},
     "output_type": "execute_result"
    },
    {
     "data": {
      "text/plain": [
       "Text(1,0.640166,'0.62')"
      ]
     },
     "execution_count": 246,
     "metadata": {},
     "output_type": "execute_result"
    },
    {
     "data": {
      "text/plain": [
       "Text(2,0.64516,'0.63')"
      ]
     },
     "execution_count": 246,
     "metadata": {},
     "output_type": "execute_result"
    },
    {
     "data": {
      "text/plain": [
       "Text(3,0.699696,'0.68')"
      ]
     },
     "execution_count": 246,
     "metadata": {},
     "output_type": "execute_result"
    },
    {
     "data": {
      "text/plain": [
       "([<matplotlib.axis.XTick at 0x1a226136a0>,\n",
       "  <matplotlib.axis.XTick at 0x1a226136d8>,\n",
       "  <matplotlib.axis.XTick at 0x1a2262c2e8>,\n",
       "  <matplotlib.axis.XTick at 0x1a2922d7b8>],\n",
       " <a list of 4 Text xticklabel objects>)"
      ]
     },
     "execution_count": 246,
     "metadata": {},
     "output_type": "execute_result"
    },
    {
     "data": {
      "text/plain": [
       "Text(0.5,0,'Estimator')"
      ]
     },
     "execution_count": 246,
     "metadata": {},
     "output_type": "execute_result"
    },
    {
     "data": {
      "text/plain": [
       "Text(0,0.5,'AUC')"
      ]
     },
     "execution_count": 246,
     "metadata": {},
     "output_type": "execute_result"
    },
    {
     "data": {
      "text/plain": [
       "Text(0.5,1,'AUC for LDA_similarity')"
      ]
     },
     "execution_count": 246,
     "metadata": {},
     "output_type": "execute_result"
    },
    {
     "data": {
      "image/png": "[encoded data removed]",
      "text/plain": [
       "<Figure size 432x288 with 1 Axes>"
      ]
     },
     "metadata": {},
     "output_type": "display_data"
    },
    {
     "data": {
      "image/png": "[encoded data removed]",
      "text/plain": [
       "<Figure size 504x360 with 1 Axes>"
      ]
     },
     "metadata": {},
     "output_type": "display_data"
    }
   ],
   "source": [
    "ests = [LogisticRegression(), GaussianNB(), RandomForestClassifier(), SVC(probability=True) ]\n",
    "ests_labels = np.array(['Logistic', 'NB', 'RF',  'SVM'])\n",
    "errvals = np.array([])\n",
    "df4_lda=df4[['acq_salegr', 'acq_profit', 'acq_mleverage', 'acq_pastret',\n",
    "       'acq_io_top5', 'acq_size', 'target_salegr', 'target_profit', 'target_mleverage', 'target_pastret',\n",
    "       'target_io_top5', 'target_size', 'LDA_similarity','state_match']]\n",
    "X_train, X_test, y_train, y_test = train_test_split(df4_lda,\n",
    "                                                    df4.deal, test_size=0.2,stratify = df4.deal, random_state=20)\n",
    "\n",
    "for e in ests:\n",
    "    e.fit(X_train, y_train)\n",
    "    fpr, tpr, thresholds = metrics.roc_curve(y_test,  e.predict_proba(X_test)[:,1], pos_label=1)\n",
    "    #this_err = metrics.accuracy_score(y_test, e.predict(X_test))\n",
    "    plt.plot(fpr, tpr,label=ests_labels[ests.index(e)])\n",
    "    plt.legend(loc='upper left')\n",
    "    this_err = metrics.auc(fpr,tpr)\n",
    "    errvals = np.append(errvals, this_err)\n",
    "\n",
    "pos = np.arange(errvals.shape[0])\n",
    "srt = np.argsort(errvals)\n",
    "plt.figure(figsize=(7,5))\n",
    "plt.bar(pos, errvals[srt],width=0.5, align='center')\n",
    "plt.ylim(0,1)\n",
    "for x,y in zip(pos, errvals[srt]):\n",
    "    plt.text(x, y+0.02, '%.2f' % y, ha='center', va= 'bottom')\n",
    "plt.xticks(pos, ests_labels[srt])\n",
    "plt.xlabel('Estimator')\n",
    "plt.ylabel('AUC')\n",
    "plt.title('AUC for LDA_similarity')\n",
    "plt.grid(color='#95a5a6',linestyle='--', linewidth=1,axis='y',alpha=0.4)\n",
    "plt.show()"
   ]
  },
  {
   "cell_type": "markdown",
   "metadata": {},
   "source": [
    "### add HPs_similarity"
   ]
  },
  {
   "cell_type": "code",
   "execution_count": 245,
   "metadata": {},
   "outputs": [
    {
     "data": {
      "text/plain": [
       "LogisticRegression(C=1.0, class_weight=None, dual=False, fit_intercept=True,\n",
       "          intercept_scaling=1, max_iter=100, multi_class='ovr', n_jobs=1,\n",
       "          penalty='l2', random_state=None, solver='liblinear', tol=0.0001,\n",
       "          verbose=0, warm_start=False)"
      ]
     },
     "execution_count": 245,
     "metadata": {},
     "output_type": "execute_result"
    },
    {
     "data": {
      "text/plain": [
       "[<matplotlib.lines.Line2D at 0x1a28fbbdd8>]"
      ]
     },
     "execution_count": 245,
     "metadata": {},
     "output_type": "execute_result"
    },
    {
     "data": {
      "text/plain": [
       "<matplotlib.legend.Legend at 0x1a28fbbf28>"
      ]
     },
     "execution_count": 245,
     "metadata": {},
     "output_type": "execute_result"
    },
    {
     "data": {
      "text/plain": [
       "GaussianNB(priors=None)"
      ]
     },
     "execution_count": 245,
     "metadata": {},
     "output_type": "execute_result"
    },
    {
     "data": {
      "text/plain": [
       "[<matplotlib.lines.Line2D at 0x1a28fc4ef0>]"
      ]
     },
     "execution_count": 245,
     "metadata": {},
     "output_type": "execute_result"
    },
    {
     "data": {
      "text/plain": [
       "<matplotlib.legend.Legend at 0x1a28fc4fd0>"
      ]
     },
     "execution_count": 245,
     "metadata": {},
     "output_type": "execute_result"
    },
    {
     "data": {
      "text/plain": [
       "RandomForestClassifier(bootstrap=True, class_weight=None, criterion='gini',\n",
       "            max_depth=None, max_features='auto', max_leaf_nodes=None,\n",
       "            min_impurity_decrease=0.0, min_impurity_split=None,\n",
       "            min_samples_leaf=1, min_samples_split=2,\n",
       "            min_weight_fraction_leaf=0.0, n_estimators=10, n_jobs=1,\n",
       "            oob_score=False, random_state=None, verbose=0,\n",
       "            warm_start=False)"
      ]
     },
     "execution_count": 245,
     "metadata": {},
     "output_type": "execute_result"
    },
    {
     "data": {
      "text/plain": [
       "[<matplotlib.lines.Line2D at 0x1a28fcf048>]"
      ]
     },
     "execution_count": 245,
     "metadata": {},
     "output_type": "execute_result"
    },
    {
     "data": {
      "text/plain": [
       "<matplotlib.legend.Legend at 0x1a28fcf4a8>"
      ]
     },
     "execution_count": 245,
     "metadata": {},
     "output_type": "execute_result"
    },
    {
     "data": {
      "text/plain": [
       "SVC(C=1.0, cache_size=200, class_weight=None, coef0=0.0,\n",
       "  decision_function_shape='ovr', degree=3, gamma='auto', kernel='rbf',\n",
       "  max_iter=-1, probability=True, random_state=None, shrinking=True,\n",
       "  tol=0.001, verbose=False)"
      ]
     },
     "execution_count": 245,
     "metadata": {},
     "output_type": "execute_result"
    },
    {
     "data": {
      "text/plain": [
       "[<matplotlib.lines.Line2D at 0x1a28fda9b0>]"
      ]
     },
     "execution_count": 245,
     "metadata": {},
     "output_type": "execute_result"
    },
    {
     "data": {
      "text/plain": [
       "<matplotlib.legend.Legend at 0x1a28fda5f8>"
      ]
     },
     "execution_count": 245,
     "metadata": {},
     "output_type": "execute_result"
    },
    {
     "data": {
      "text/plain": [
       "<Figure size 504x360 with 0 Axes>"
      ]
     },
     "execution_count": 245,
     "metadata": {},
     "output_type": "execute_result"
    },
    {
     "data": {
      "text/plain": [
       "<BarContainer object of 4 artists>"
      ]
     },
     "execution_count": 245,
     "metadata": {},
     "output_type": "execute_result"
    },
    {
     "data": {
      "text/plain": [
       "(0, 1)"
      ]
     },
     "execution_count": 245,
     "metadata": {},
     "output_type": "execute_result"
    },
    {
     "data": {
      "text/plain": [
       "Text(0,0.643692,'0.62')"
      ]
     },
     "execution_count": 245,
     "metadata": {},
     "output_type": "execute_result"
    },
    {
     "data": {
      "text/plain": [
       "Text(1,0.726171,'0.71')"
      ]
     },
     "execution_count": 245,
     "metadata": {},
     "output_type": "execute_result"
    },
    {
     "data": {
      "text/plain": [
       "Text(2,0.729348,'0.71')"
      ]
     },
     "execution_count": 245,
     "metadata": {},
     "output_type": "execute_result"
    },
    {
     "data": {
      "text/plain": [
       "Text(3,0.743327,'0.72')"
      ]
     },
     "execution_count": 245,
     "metadata": {},
     "output_type": "execute_result"
    },
    {
     "data": {
      "text/plain": [
       "([<matplotlib.axis.XTick at 0x1a298cf908>,\n",
       "  <matplotlib.axis.XTick at 0x1a298cf240>,\n",
       "  <matplotlib.axis.XTick at 0x1a298cf128>,\n",
       "  <matplotlib.axis.XTick at 0x1a29fcf320>],\n",
       " <a list of 4 Text xticklabel objects>)"
      ]
     },
     "execution_count": 245,
     "metadata": {},
     "output_type": "execute_result"
    },
    {
     "data": {
      "text/plain": [
       "Text(0.5,0,'Estimator')"
      ]
     },
     "execution_count": 245,
     "metadata": {},
     "output_type": "execute_result"
    },
    {
     "data": {
      "text/plain": [
       "Text(0,0.5,'AUC')"
      ]
     },
     "execution_count": 245,
     "metadata": {},
     "output_type": "execute_result"
    },
    {
     "data": {
      "text/plain": [
       "Text(0.5,1,'AUC for HPs_similarity')"
      ]
     },
     "execution_count": 245,
     "metadata": {},
     "output_type": "execute_result"
    },
    {
     "data": {
      "image/png": "[encoded data removed]",
      "text/plain": [
       "<Figure size 432x288 with 1 Axes>"
      ]
     },
     "metadata": {},
     "output_type": "display_data"
    },
    {
     "data": {
      "image/png": "[encoded data removed]",
      "text/plain": [
       "<Figure size 504x360 with 1 Axes>"
      ]
     },
     "metadata": {},
     "output_type": "display_data"
    }
   ],
   "source": [
    "ests = [LogisticRegression(), GaussianNB(), RandomForestClassifier(), SVC(probability=True) ]\n",
    "ests_labels = np.array(['Logistic', 'NB', 'RF',  'SVM'])\n",
    "errvals = np.array([])\n",
    "df4_hps=df4[['acq_salegr', 'acq_profit', 'acq_mleverage', 'acq_pastret',\n",
    "       'acq_io_top5', 'acq_size', 'target_salegr', 'target_profit', 'target_mleverage', 'target_pastret',\n",
    "       'target_io_top5', 'target_size', 'HPs_similarity','state_match']]\n",
    "X_train, X_test, y_train, y_test = train_test_split(df4_hps,\n",
    "                                                    df4.deal, test_size=0.2,stratify = df4.deal, random_state=20)\n",
    "\n",
    "for e in ests:\n",
    "    e.fit(X_train, y_train)\n",
    "    fpr, tpr, thresholds = metrics.roc_curve(y_test,  e.predict_proba(X_test)[:,1], pos_label=1)\n",
    "    #this_err = metrics.accuracy_score(y_test, e.predict(X_test))\n",
    "    plt.plot(fpr, tpr,label=ests_labels[ests.index(e)])\n",
    "    plt.legend(loc='upper left')\n",
    "    this_err = metrics.auc(fpr,tpr)\n",
    "    errvals = np.append(errvals, this_err)\n",
    "\n",
    "pos = np.arange(errvals.shape[0])\n",
    "srt = np.argsort(errvals)\n",
    "plt.figure(figsize=(7,5))\n",
    "plt.bar(pos, errvals[srt],width=0.5, align='center')\n",
    "plt.ylim(0,1)\n",
    "for x,y in zip(pos, errvals[srt]):\n",
    "    plt.text(x, y+0.02, '%.2f' % y, ha='center', va= 'bottom')\n",
    "plt.xticks(pos, ests_labels[srt])\n",
    "plt.xlabel('Estimator')\n",
    "plt.ylabel('AUC')\n",
    "plt.title('AUC for HPs_similarity')\n",
    "plt.grid(color='#95a5a6',linestyle='--', linewidth=1,axis='y',alpha=0.4)\n",
    "plt.show()"
   ]
  },
  {
   "cell_type": "markdown",
   "metadata": {},
   "source": [
    "### logit  regression "
   ]
  },
  {
   "cell_type": "markdown",
   "metadata": {},
   "source": [
    "### lda"
   ]
  },
  {
   "cell_type": "code",
   "execution_count": 252,
   "metadata": {},
   "outputs": [
    {
     "name": "stdout",
     "output_type": "stream",
     "text": [
      "Optimization terminated successfully.\n",
      "         Current function value: 0.402900\n",
      "         Iterations 8\n"
     ]
    },
    {
     "data": {
      "text/plain": [
       "array([-3.46076767,  0.25127163, -0.25160372, -0.53594671,  0.19644615,\n",
       "       -0.27686899,  0.09998059,  0.15452583, -0.32471105,  0.24548305,\n",
       "        0.00597852,  0.42806322,  0.00576921,  0.8461417 ,  1.12868857])"
      ]
     },
     "execution_count": 252,
     "metadata": {},
     "output_type": "execute_result"
    }
   ],
   "source": [
    "import statsmodels.api as sm\n",
    "x2 = sm.add_constant(df4_lda)\n",
    "est_lda = sm.Logit(df4.deal,x2).fit()\n",
    "est_lda.params.values"
   ]
  },
  {
   "cell_type": "code",
   "execution_count": 256,
   "metadata": {},
   "outputs": [
    {
     "data": {
      "text/html": [
       "<table class=\"simpletable\">\n",
       "<tr>\n",
       "        <td>Model:</td>              <td>Logit</td>       <td>No. Iterations:</td>    <td>8.0000</td>  \n",
       "</tr>\n",
       "<tr>\n",
       "  <td>Dependent Variable:</td>       <td>deal</td>       <td>Pseudo R-squared:</td>    <td>0.064</td>  \n",
       "</tr>\n",
       "<tr>\n",
       "         <td>Date:</td>        <td>2018-07-17 13:40</td>       <td>AIC:</td>        <td>13307.1553</td>\n",
       "</tr>\n",
       "<tr>\n",
       "   <td>No. Observations:</td>        <td>16477</td>            <td>BIC:</td>        <td>13422.8011</td>\n",
       "</tr>\n",
       "<tr>\n",
       "       <td>Df Model:</td>             <td>14</td>         <td>Log-Likelihood:</td>    <td>-6638.6</td> \n",
       "</tr>\n",
       "<tr>\n",
       "     <td>Df Residuals:</td>          <td>16462</td>          <td>LL-Null:</td>        <td>-7091.1</td> \n",
       "</tr>\n",
       "<tr>\n",
       "      <td>Converged:</td>           <td>1.0000</td>           <td>Scale:</td>         <td>1.0000</td>  \n",
       "</tr>\n",
       "</table>\n",
       "<table class=\"simpletable\">\n",
       "<tr>\n",
       "          <td></td>          <th>Coef.</th>  <th>Std.Err.</th>     <th>z</th>     <th>P>|z|</th> <th>[0.025</th>  <th>0.975]</th> \n",
       "</tr>\n",
       "<tr>\n",
       "  <th>const</th>            <td>-3.4608</td>  <td>0.1404</td>  <td>-24.6423</td> <td>0.0000</td> <td>-3.7360</td> <td>-3.1855</td>\n",
       "</tr>\n",
       "<tr>\n",
       "  <th>acq_salegr</th>       <td>0.2513</td>   <td>0.0363</td>   <td>6.9166</td>  <td>0.0000</td> <td>0.1801</td>  <td>0.3225</td> \n",
       "</tr>\n",
       "<tr>\n",
       "  <th>acq_profit</th>       <td>-0.2516</td>  <td>0.1634</td>   <td>-1.5397</td> <td>0.1236</td> <td>-0.5719</td> <td>0.0687</td> \n",
       "</tr>\n",
       "<tr>\n",
       "  <th>acq_mleverage</th>    <td>-0.5359</td>  <td>0.1211</td>   <td>-4.4248</td> <td>0.0000</td> <td>-0.7733</td> <td>-0.2985</td>\n",
       "</tr>\n",
       "<tr>\n",
       "  <th>acq_pastret</th>      <td>0.1964</td>   <td>0.0341</td>   <td>5.7610</td>  <td>0.0000</td> <td>0.1296</td>  <td>0.2633</td> \n",
       "</tr>\n",
       "<tr>\n",
       "  <th>acq_io_top5</th>      <td>-0.2769</td>  <td>0.2102</td>   <td>-1.3169</td> <td>0.1879</td> <td>-0.6889</td> <td>0.1352</td> \n",
       "</tr>\n",
       "<tr>\n",
       "  <th>acq_size</th>         <td>0.1000</td>   <td>0.0169</td>   <td>5.9104</td>  <td>0.0000</td> <td>0.0668</td>  <td>0.1331</td> \n",
       "</tr>\n",
       "<tr>\n",
       "  <th>target_salegr</th>    <td>0.1545</td>   <td>0.0322</td>   <td>4.8025</td>  <td>0.0000</td> <td>0.0915</td>  <td>0.2176</td> \n",
       "</tr>\n",
       "<tr>\n",
       "  <th>target_profit</th>    <td>-0.3247</td>  <td>0.1024</td>   <td>-3.1725</td> <td>0.0015</td> <td>-0.5253</td> <td>-0.1241</td>\n",
       "</tr>\n",
       "<tr>\n",
       "  <th>target_mleverage</th> <td>0.2455</td>   <td>0.1077</td>   <td>2.2785</td>  <td>0.0227</td> <td>0.0343</td>  <td>0.4566</td> \n",
       "</tr>\n",
       "<tr>\n",
       "  <th>target_pastret</th>   <td>0.0060</td>   <td>0.0330</td>   <td>0.1811</td>  <td>0.8563</td> <td>-0.0587</td> <td>0.0707</td> \n",
       "</tr>\n",
       "<tr>\n",
       "  <th>target_io_top5</th>   <td>0.4281</td>   <td>0.1783</td>   <td>2.4002</td>  <td>0.0164</td> <td>0.0785</td>  <td>0.7776</td> \n",
       "</tr>\n",
       "<tr>\n",
       "  <th>target_size</th>      <td>0.0058</td>   <td>0.0199</td>   <td>0.2897</td>  <td>0.7720</td> <td>-0.0333</td> <td>0.0448</td> \n",
       "</tr>\n",
       "<tr>\n",
       "  <th>LDA_similarity</th>   <td>0.8461</td>   <td>0.0615</td>   <td>13.7504</td> <td>0.0000</td> <td>0.7255</td>  <td>0.9667</td> \n",
       "</tr>\n",
       "<tr>\n",
       "  <th>state_match</th>      <td>1.1287</td>   <td>0.0518</td>   <td>21.7986</td> <td>0.0000</td> <td>1.0272</td>  <td>1.2302</td> \n",
       "</tr>\n",
       "</table>"
      ],
      "text/plain": [
       "<class 'statsmodels.iolib.summary2.Summary'>\n",
       "\"\"\"\n",
       "                         Results: Logit\n",
       "=================================================================\n",
       "Model:              Logit            No. Iterations:   8.0000    \n",
       "Dependent Variable: deal             Pseudo R-squared: 0.064     \n",
       "Date:               2018-07-17 13:40 AIC:              13307.1553\n",
       "No. Observations:   16477            BIC:              13422.8011\n",
       "Df Model:           14               Log-Likelihood:   -6638.6   \n",
       "Df Residuals:       16462            LL-Null:          -7091.1   \n",
       "Converged:          1.0000           Scale:            1.0000    \n",
       "-----------------------------------------------------------------\n",
       "                  Coef.  Std.Err.    z     P>|z|   [0.025  0.975]\n",
       "-----------------------------------------------------------------\n",
       "const            -3.4608   0.1404 -24.6423 0.0000 -3.7360 -3.1855\n",
       "acq_salegr        0.2513   0.0363   6.9166 0.0000  0.1801  0.3225\n",
       "acq_profit       -0.2516   0.1634  -1.5397 0.1236 -0.5719  0.0687\n",
       "acq_mleverage    -0.5359   0.1211  -4.4248 0.0000 -0.7733 -0.2985\n",
       "acq_pastret       0.1964   0.0341   5.7610 0.0000  0.1296  0.2633\n",
       "acq_io_top5      -0.2769   0.2102  -1.3169 0.1879 -0.6889  0.1352\n",
       "acq_size          0.1000   0.0169   5.9104 0.0000  0.0668  0.1331\n",
       "target_salegr     0.1545   0.0322   4.8025 0.0000  0.0915  0.2176\n",
       "target_profit    -0.3247   0.1024  -3.1725 0.0015 -0.5253 -0.1241\n",
       "target_mleverage  0.2455   0.1077   2.2785 0.0227  0.0343  0.4566\n",
       "target_pastret    0.0060   0.0330   0.1811 0.8563 -0.0587  0.0707\n",
       "target_io_top5    0.4281   0.1783   2.4002 0.0164  0.0785  0.7776\n",
       "target_size       0.0058   0.0199   0.2897 0.7720 -0.0333  0.0448\n",
       "LDA_similarity    0.8461   0.0615  13.7504 0.0000  0.7255  0.9667\n",
       "state_match       1.1287   0.0518  21.7986 0.0000  1.0272  1.2302\n",
       "=================================================================\n",
       "\n",
       "\"\"\""
      ]
     },
     "execution_count": 256,
     "metadata": {},
     "output_type": "execute_result"
    }
   ],
   "source": [
    "est_lda.summary2()"
   ]
  },
  {
   "cell_type": "markdown",
   "metadata": {},
   "source": [
    "### rwmd"
   ]
  },
  {
   "cell_type": "code",
   "execution_count": 258,
   "metadata": {},
   "outputs": [
    {
     "name": "stdout",
     "output_type": "stream",
     "text": [
      "Optimization terminated successfully.\n",
      "         Current function value: 0.408322\n",
      "         Iterations 8\n"
     ]
    },
    {
     "data": {
      "text/plain": [
       "array([-3.15244236,  0.24430025, -0.32282742, -0.41693799,  0.2029203 ,\n",
       "       -0.33186198,  0.08576406,  0.15606212, -0.33157749,  0.29520776,\n",
       "        0.01467466,  0.25858355,  0.02004862, -0.1131583 ,  1.15955168])"
      ]
     },
     "execution_count": 258,
     "metadata": {},
     "output_type": "execute_result"
    },
    {
     "data": {
      "text/html": [
       "<table class=\"simpletable\">\n",
       "<tr>\n",
       "        <td>Model:</td>              <td>Logit</td>       <td>No. Iterations:</td>    <td>8.0000</td>  \n",
       "</tr>\n",
       "<tr>\n",
       "  <td>Dependent Variable:</td>       <td>deal</td>       <td>Pseudo R-squared:</td>    <td>0.051</td>  \n",
       "</tr>\n",
       "<tr>\n",
       "         <td>Date:</td>        <td>2018-07-17 13:40</td>       <td>AIC:</td>        <td>13485.8454</td>\n",
       "</tr>\n",
       "<tr>\n",
       "   <td>No. Observations:</td>        <td>16477</td>            <td>BIC:</td>        <td>13601.4912</td>\n",
       "</tr>\n",
       "<tr>\n",
       "       <td>Df Model:</td>             <td>14</td>         <td>Log-Likelihood:</td>    <td>-6727.9</td> \n",
       "</tr>\n",
       "<tr>\n",
       "     <td>Df Residuals:</td>          <td>16462</td>          <td>LL-Null:</td>        <td>-7091.1</td> \n",
       "</tr>\n",
       "<tr>\n",
       "      <td>Converged:</td>           <td>1.0000</td>           <td>Scale:</td>         <td>1.0000</td>  \n",
       "</tr>\n",
       "</table>\n",
       "<table class=\"simpletable\">\n",
       "<tr>\n",
       "          <td></td>          <th>Coef.</th>  <th>Std.Err.</th>     <th>z</th>     <th>P>|z|</th> <th>[0.025</th>  <th>0.975]</th> \n",
       "</tr>\n",
       "<tr>\n",
       "  <th>const</th>            <td>-3.1524</td>  <td>0.1434</td>  <td>-21.9907</td> <td>0.0000</td> <td>-3.4334</td> <td>-2.8715</td>\n",
       "</tr>\n",
       "<tr>\n",
       "  <th>acq_salegr</th>       <td>0.2443</td>   <td>0.0359</td>   <td>6.8042</td>  <td>0.0000</td> <td>0.1739</td>  <td>0.3147</td> \n",
       "</tr>\n",
       "<tr>\n",
       "  <th>acq_profit</th>       <td>-0.3228</td>  <td>0.1612</td>   <td>-2.0026</td> <td>0.0452</td> <td>-0.6388</td> <td>-0.0069</td>\n",
       "</tr>\n",
       "<tr>\n",
       "  <th>acq_mleverage</th>    <td>-0.4169</td>  <td>0.1190</td>   <td>-3.5030</td> <td>0.0005</td> <td>-0.6502</td> <td>-0.1837</td>\n",
       "</tr>\n",
       "<tr>\n",
       "  <th>acq_pastret</th>      <td>0.2029</td>   <td>0.0341</td>   <td>5.9559</td>  <td>0.0000</td> <td>0.1361</td>  <td>0.2697</td> \n",
       "</tr>\n",
       "<tr>\n",
       "  <th>acq_io_top5</th>      <td>-0.3319</td>  <td>0.2082</td>   <td>-1.5937</td> <td>0.1110</td> <td>-0.7400</td> <td>0.0763</td> \n",
       "</tr>\n",
       "<tr>\n",
       "  <th>acq_size</th>         <td>0.0858</td>   <td>0.0166</td>   <td>5.1523</td>  <td>0.0000</td> <td>0.0531</td>  <td>0.1184</td> \n",
       "</tr>\n",
       "<tr>\n",
       "  <th>target_salegr</th>    <td>0.1561</td>   <td>0.0322</td>   <td>4.8501</td>  <td>0.0000</td> <td>0.0930</td>  <td>0.2191</td> \n",
       "</tr>\n",
       "<tr>\n",
       "  <th>target_profit</th>    <td>-0.3316</td>  <td>0.1013</td>   <td>-3.2737</td> <td>0.0011</td> <td>-0.5301</td> <td>-0.1331</td>\n",
       "</tr>\n",
       "<tr>\n",
       "  <th>target_mleverage</th> <td>0.2952</td>   <td>0.1066</td>   <td>2.7688</td>  <td>0.0056</td> <td>0.0862</td>  <td>0.5042</td> \n",
       "</tr>\n",
       "<tr>\n",
       "  <th>target_pastret</th>   <td>0.0147</td>   <td>0.0327</td>   <td>0.4487</td>  <td>0.6536</td> <td>-0.0494</td> <td>0.0788</td> \n",
       "</tr>\n",
       "<tr>\n",
       "  <th>target_io_top5</th>   <td>0.2586</td>   <td>0.1773</td>   <td>1.4588</td>  <td>0.1446</td> <td>-0.0888</td> <td>0.6060</td> \n",
       "</tr>\n",
       "<tr>\n",
       "  <th>target_size</th>      <td>0.0200</td>   <td>0.0196</td>   <td>1.0231</td>  <td>0.3062</td> <td>-0.0184</td> <td>0.0585</td> \n",
       "</tr>\n",
       "<tr>\n",
       "  <th>RWMD_similarity</th>  <td>-0.1132</td>  <td>0.0704</td>   <td>-1.6078</td> <td>0.1079</td> <td>-0.2511</td> <td>0.0248</td> \n",
       "</tr>\n",
       "<tr>\n",
       "  <th>state_match</th>      <td>1.1596</td>   <td>0.0513</td>   <td>22.5897</td> <td>0.0000</td> <td>1.0589</td>  <td>1.2602</td> \n",
       "</tr>\n",
       "</table>"
      ],
      "text/plain": [
       "<class 'statsmodels.iolib.summary2.Summary'>\n",
       "\"\"\"\n",
       "                         Results: Logit\n",
       "=================================================================\n",
       "Model:              Logit            No. Iterations:   8.0000    \n",
       "Dependent Variable: deal             Pseudo R-squared: 0.051     \n",
       "Date:               2018-07-17 13:40 AIC:              13485.8454\n",
       "No. Observations:   16477            BIC:              13601.4912\n",
       "Df Model:           14               Log-Likelihood:   -6727.9   \n",
       "Df Residuals:       16462            LL-Null:          -7091.1   \n",
       "Converged:          1.0000           Scale:            1.0000    \n",
       "-----------------------------------------------------------------\n",
       "                  Coef.  Std.Err.    z     P>|z|   [0.025  0.975]\n",
       "-----------------------------------------------------------------\n",
       "const            -3.1524   0.1434 -21.9907 0.0000 -3.4334 -2.8715\n",
       "acq_salegr        0.2443   0.0359   6.8042 0.0000  0.1739  0.3147\n",
       "acq_profit       -0.3228   0.1612  -2.0026 0.0452 -0.6388 -0.0069\n",
       "acq_mleverage    -0.4169   0.1190  -3.5030 0.0005 -0.6502 -0.1837\n",
       "acq_pastret       0.2029   0.0341   5.9559 0.0000  0.1361  0.2697\n",
       "acq_io_top5      -0.3319   0.2082  -1.5937 0.1110 -0.7400  0.0763\n",
       "acq_size          0.0858   0.0166   5.1523 0.0000  0.0531  0.1184\n",
       "target_salegr     0.1561   0.0322   4.8501 0.0000  0.0930  0.2191\n",
       "target_profit    -0.3316   0.1013  -3.2737 0.0011 -0.5301 -0.1331\n",
       "target_mleverage  0.2952   0.1066   2.7688 0.0056  0.0862  0.5042\n",
       "target_pastret    0.0147   0.0327   0.4487 0.6536 -0.0494  0.0788\n",
       "target_io_top5    0.2586   0.1773   1.4588 0.1446 -0.0888  0.6060\n",
       "target_size       0.0200   0.0196   1.0231 0.3062 -0.0184  0.0585\n",
       "RWMD_similarity  -0.1132   0.0704  -1.6078 0.1079 -0.2511  0.0248\n",
       "state_match       1.1596   0.0513  22.5897 0.0000  1.0589  1.2602\n",
       "=================================================================\n",
       "\n",
       "\"\"\""
      ]
     },
     "execution_count": 258,
     "metadata": {},
     "output_type": "execute_result"
    }
   ],
   "source": [
    "x2 = sm.add_constant(df4_rwmd)\n",
    "est_rwmd = sm.Logit(df4.deal,x2).fit()\n",
    "est_rwmd.params.values\n",
    "est_rwmd.summary2()"
   ]
  },
  {
   "cell_type": "markdown",
   "metadata": {},
   "source": [
    "### hps"
   ]
  },
  {
   "cell_type": "code",
   "execution_count": 259,
   "metadata": {},
   "outputs": [
    {
     "name": "stdout",
     "output_type": "stream",
     "text": [
      "Optimization terminated successfully.\n",
      "         Current function value: 0.385371\n",
      "         Iterations 8\n"
     ]
    },
    {
     "data": {
      "text/plain": [
       "array([-3.55186685,  0.24889019, -0.30484308, -1.02468683,  0.20761853,\n",
       "        0.09072665,  0.14850411,  0.15046304, -0.22483491,  0.02751109,\n",
       "       -0.02003192,  0.80929045, -0.07298078,  9.15116456,  1.02156194])"
      ]
     },
     "execution_count": 259,
     "metadata": {},
     "output_type": "execute_result"
    },
    {
     "data": {
      "text/html": [
       "<table class=\"simpletable\">\n",
       "<tr>\n",
       "        <td>Model:</td>              <td>Logit</td>       <td>No. Iterations:</td>    <td>8.0000</td>  \n",
       "</tr>\n",
       "<tr>\n",
       "  <td>Dependent Variable:</td>       <td>deal</td>       <td>Pseudo R-squared:</td>    <td>0.105</td>  \n",
       "</tr>\n",
       "<tr>\n",
       "         <td>Date:</td>        <td>2018-07-17 13:40</td>       <td>AIC:</td>        <td>12729.5021</td>\n",
       "</tr>\n",
       "<tr>\n",
       "   <td>No. Observations:</td>        <td>16477</td>            <td>BIC:</td>        <td>12845.1479</td>\n",
       "</tr>\n",
       "<tr>\n",
       "       <td>Df Model:</td>             <td>14</td>         <td>Log-Likelihood:</td>    <td>-6349.8</td> \n",
       "</tr>\n",
       "<tr>\n",
       "     <td>Df Residuals:</td>          <td>16462</td>          <td>LL-Null:</td>        <td>-7091.1</td> \n",
       "</tr>\n",
       "<tr>\n",
       "      <td>Converged:</td>           <td>1.0000</td>           <td>Scale:</td>         <td>1.0000</td>  \n",
       "</tr>\n",
       "</table>\n",
       "<table class=\"simpletable\">\n",
       "<tr>\n",
       "          <td></td>          <th>Coef.</th>  <th>Std.Err.</th>     <th>z</th>     <th>P>|z|</th> <th>[0.025</th>  <th>0.975]</th> \n",
       "</tr>\n",
       "<tr>\n",
       "  <th>const</th>            <td>-3.5519</td>  <td>0.1461</td>  <td>-24.3071</td> <td>0.0000</td> <td>-3.8383</td> <td>-3.2655</td>\n",
       "</tr>\n",
       "<tr>\n",
       "  <th>acq_salegr</th>       <td>0.2489</td>   <td>0.0377</td>   <td>6.6036</td>  <td>0.0000</td> <td>0.1750</td>  <td>0.3228</td> \n",
       "</tr>\n",
       "<tr>\n",
       "  <th>acq_profit</th>       <td>-0.3048</td>  <td>0.1695</td>   <td>-1.7982</td> <td>0.0722</td> <td>-0.6371</td> <td>0.0274</td> \n",
       "</tr>\n",
       "<tr>\n",
       "  <th>acq_mleverage</th>    <td>-1.0247</td>  <td>0.1301</td>   <td>-7.8735</td> <td>0.0000</td> <td>-1.2798</td> <td>-0.7696</td>\n",
       "</tr>\n",
       "<tr>\n",
       "  <th>acq_pastret</th>      <td>0.2076</td>   <td>0.0355</td>   <td>5.8463</td>  <td>0.0000</td> <td>0.1380</td>  <td>0.2772</td> \n",
       "</tr>\n",
       "<tr>\n",
       "  <th>acq_io_top5</th>      <td>0.0907</td>   <td>0.2165</td>   <td>0.4191</td>  <td>0.6751</td> <td>-0.3336</td> <td>0.5150</td> \n",
       "</tr>\n",
       "<tr>\n",
       "  <th>acq_size</th>         <td>0.1485</td>   <td>0.0176</td>   <td>8.4423</td>  <td>0.0000</td> <td>0.1140</td>  <td>0.1830</td> \n",
       "</tr>\n",
       "<tr>\n",
       "  <th>target_salegr</th>    <td>0.1505</td>   <td>0.0334</td>   <td>4.5022</td>  <td>0.0000</td> <td>0.0850</td>  <td>0.2160</td> \n",
       "</tr>\n",
       "<tr>\n",
       "  <th>target_profit</th>    <td>-0.2248</td>  <td>0.1060</td>   <td>-2.1220</td> <td>0.0338</td> <td>-0.4325</td> <td>-0.0172</td>\n",
       "</tr>\n",
       "<tr>\n",
       "  <th>target_mleverage</th> <td>0.0275</td>   <td>0.1133</td>   <td>0.2428</td>  <td>0.8081</td> <td>-0.1945</td> <td>0.2495</td> \n",
       "</tr>\n",
       "<tr>\n",
       "  <th>target_pastret</th>   <td>-0.0200</td>  <td>0.0338</td>   <td>-0.5927</td> <td>0.5534</td> <td>-0.0863</td> <td>0.0462</td> \n",
       "</tr>\n",
       "<tr>\n",
       "  <th>target_io_top5</th>   <td>0.8093</td>   <td>0.1824</td>   <td>4.4371</td>  <td>0.0000</td> <td>0.4518</td>  <td>1.1668</td> \n",
       "</tr>\n",
       "<tr>\n",
       "  <th>target_size</th>      <td>-0.0730</td>  <td>0.0209</td>   <td>-3.4910</td> <td>0.0005</td> <td>-0.1140</td> <td>-0.0320</td>\n",
       "</tr>\n",
       "<tr>\n",
       "  <th>HPs_similarity</th>   <td>9.1512</td>   <td>0.3598</td>   <td>25.4331</td> <td>0.0000</td> <td>8.4459</td>  <td>9.8564</td> \n",
       "</tr>\n",
       "<tr>\n",
       "  <th>state_match</th>      <td>1.0216</td>   <td>0.0537</td>   <td>19.0374</td> <td>0.0000</td> <td>0.9164</td>  <td>1.1267</td> \n",
       "</tr>\n",
       "</table>"
      ],
      "text/plain": [
       "<class 'statsmodels.iolib.summary2.Summary'>\n",
       "\"\"\"\n",
       "                         Results: Logit\n",
       "=================================================================\n",
       "Model:              Logit            No. Iterations:   8.0000    \n",
       "Dependent Variable: deal             Pseudo R-squared: 0.105     \n",
       "Date:               2018-07-17 13:40 AIC:              12729.5021\n",
       "No. Observations:   16477            BIC:              12845.1479\n",
       "Df Model:           14               Log-Likelihood:   -6349.8   \n",
       "Df Residuals:       16462            LL-Null:          -7091.1   \n",
       "Converged:          1.0000           Scale:            1.0000    \n",
       "-----------------------------------------------------------------\n",
       "                  Coef.  Std.Err.    z     P>|z|   [0.025  0.975]\n",
       "-----------------------------------------------------------------\n",
       "const            -3.5519   0.1461 -24.3071 0.0000 -3.8383 -3.2655\n",
       "acq_salegr        0.2489   0.0377   6.6036 0.0000  0.1750  0.3228\n",
       "acq_profit       -0.3048   0.1695  -1.7982 0.0722 -0.6371  0.0274\n",
       "acq_mleverage    -1.0247   0.1301  -7.8735 0.0000 -1.2798 -0.7696\n",
       "acq_pastret       0.2076   0.0355   5.8463 0.0000  0.1380  0.2772\n",
       "acq_io_top5       0.0907   0.2165   0.4191 0.6751 -0.3336  0.5150\n",
       "acq_size          0.1485   0.0176   8.4423 0.0000  0.1140  0.1830\n",
       "target_salegr     0.1505   0.0334   4.5022 0.0000  0.0850  0.2160\n",
       "target_profit    -0.2248   0.1060  -2.1220 0.0338 -0.4325 -0.0172\n",
       "target_mleverage  0.0275   0.1133   0.2428 0.8081 -0.1945  0.2495\n",
       "target_pastret   -0.0200   0.0338  -0.5927 0.5534 -0.0863  0.0462\n",
       "target_io_top5    0.8093   0.1824   4.4371 0.0000  0.4518  1.1668\n",
       "target_size      -0.0730   0.0209  -3.4910 0.0005 -0.1140 -0.0320\n",
       "HPs_similarity    9.1512   0.3598  25.4331 0.0000  8.4459  9.8564\n",
       "state_match       1.0216   0.0537  19.0374 0.0000  0.9164  1.1267\n",
       "=================================================================\n",
       "\n",
       "\"\"\""
      ]
     },
     "execution_count": 259,
     "metadata": {},
     "output_type": "execute_result"
    }
   ],
   "source": [
    "x2 = sm.add_constant(df4_hps)\n",
    "est_hps = sm.Logit(df4.deal,x2).fit()\n",
    "est_hps.params.values\n",
    "est_hps.summary2()"
   ]
  },
  {
   "cell_type": "code",
   "execution_count": 168,
   "metadata": {},
   "outputs": [
    {
     "name": "stdout",
     "output_type": "stream",
     "text": [
      "parameters:\n",
      "{'max_features': [4, 7, 'auto'],\n",
      " 'min_samples_leaf': [40, 60],\n",
      " 'min_samples_split': [20, 40],\n",
      " 'n_estimators': [200, 300]}\n"
     ]
    },
    {
     "data": {
      "text/plain": [
       "GridSearchCV(cv=10, error_score='raise',\n",
       "       estimator=RandomForestClassifier(bootstrap=True, class_weight=None, criterion='gini',\n",
       "            max_depth=None, max_features='auto', max_leaf_nodes=None,\n",
       "            min_impurity_decrease=0.0, min_impurity_split=None,\n",
       "            min_samples_leaf=1, min_samples_split=2,\n",
       "            min_weight_fraction_leaf=0.0, n_estimators=10, n_jobs=1,\n",
       "            oob_score=False, random_state=123, verbose=0, warm_start=False),\n",
       "       fit_params={}, iid=True, n_jobs=1,\n",
       "       param_grid={'n_estimators': [200, 300], 'max_features': [4, 7, 'auto'], 'min_samples_split': [20, 40], 'min_samples_leaf': [40, 60]},\n",
       "       pre_dispatch='2*n_jobs', refit=True, scoring='roc_auc', verbose=0)"
      ]
     },
     "execution_count": 168,
     "metadata": {},
     "output_type": "execute_result"
    },
    {
     "name": "stdout",
     "output_type": "stream",
     "text": [
      "Best score: 0.782\n",
      "Best parameters set:\n",
      "\tmax_features: 7\n",
      "\tmin_samples_leaf: 40\n",
      "\tmin_samples_split: 20\n",
      "\tn_estimators: 200\n"
     ]
    }
   ],
   "source": [
    "#GridSearch\n",
    "from sklearn.grid_search import GridSearchCV\n",
    "from pprint import pprint\n",
    "clf=RandomForestClassifier(random_state=123)\n",
    "parameters = {'n_estimators': [200,300], \n",
    "              'max_features':[4,7,'auto'], \n",
    "              'min_samples_split':[20,40],\n",
    "              'min_samples_leaf':[40,60]\n",
    "             }\n",
    "grid_search = GridSearchCV(estimator=clf,param_grid=parameters, cv=10, scoring='roc_auc')\n",
    "print(\"parameters:\")\n",
    "pprint(parameters)\n",
    "grid_search.fit(X_train,y_train)\n",
    "print(\"Best score: %0.3f\" % grid_search.best_score_)\n",
    "print(\"Best parameters set:\")\n",
    "best_parameters=grid_search.best_estimator_.get_params()\n",
    "for param_name in sorted(parameters.keys()):\n",
    "    print(\"\\t%s: %r\" % (param_name, best_parameters[param_name]))\n"
   ]
  },
  {
   "cell_type": "code",
   "execution_count": 169,
   "metadata": {},
   "outputs": [
    {
     "data": {
      "text/plain": [
       "RandomForestClassifier(bootstrap=True, class_weight=None, criterion='gini',\n",
       "            max_depth=None, max_features=7, max_leaf_nodes=None,\n",
       "            min_impurity_decrease=0.0, min_impurity_split=None,\n",
       "            min_samples_leaf=40, min_samples_split=20,\n",
       "            min_weight_fraction_leaf=0.0, n_estimators=200, n_jobs=1,\n",
       "            oob_score=False, random_state=123, verbose=0, warm_start=False)"
      ]
     },
     "execution_count": 169,
     "metadata": {},
     "output_type": "execute_result"
    },
    {
     "data": {
      "text/plain": [
       "[<matplotlib.lines.Line2D at 0x1a0d6faeb8>]"
      ]
     },
     "execution_count": 169,
     "metadata": {},
     "output_type": "execute_result"
    },
    {
     "data": {
      "text/plain": [
       "0.75926870748299313"
      ]
     },
     "execution_count": 169,
     "metadata": {},
     "output_type": "execute_result"
    },
    {
     "data": {
      "image/png": "[encoded data removed]",
      "text/plain": [
       "<Figure size 432x288 with 1 Axes>"
      ]
     },
     "metadata": {},
     "output_type": "display_data"
    }
   ],
   "source": [
    "best_model=grid_search.best_estimator_\n",
    "\n",
    "best_model.fit(X_train, y_train)\n",
    "fpr, tpr, thresholds = metrics.roc_curve(y_test,  best_model.predict_proba(X_test)[:,1], pos_label=1)\n",
    "    #this_err = metrics.accuracy_score(y_test, e.predict(X_test))\n",
    "plt.plot(fpr, tpr,label=ests_labels[ests.index(e)])\n",
    "this_err = metrics.auc(fpr,tpr)\n",
    "this_err"
   ]
  },
  {
   "cell_type": "code",
   "execution_count": null,
   "metadata": {},
   "outputs": [],
   "source": []
  }
 ],
 "metadata": {
  "kernelspec": {
   "display_name": "Python 3",
   "language": "python",
   "name": "python3"
  },
  "language_info": {
   "codemirror_mode": {
    "name": "ipython",
    "version": 3
   },
   "file_extension": ".py",
   "mimetype": "text/x-python",
   "name": "python",
   "nbconvert_exporter": "python",
   "pygments_lexer": "ipython3",
   "version": "3.6.4"
  },
  "toc": {
   "nav_menu": {},
   "number_sections": false,
   "sideBar": true,
   "skip_h1_title": false,
   "title_cell": "Table of Contents",
   "title_sidebar": "Contents",
   "toc_cell": false,
   "toc_position": {},
   "toc_section_display": true,
   "toc_window_display": false
  }
 },
 "nbformat": 4,
 "nbformat_minor": 2
}
