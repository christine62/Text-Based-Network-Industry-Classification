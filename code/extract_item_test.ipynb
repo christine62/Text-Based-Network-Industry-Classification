{
 "cells": [
  {
   "cell_type": "markdown",
   "metadata": {},
   "source": [
    "# extract items and cik from 10-k"
   ]
  },
  {
   "cell_type": "code",
   "execution_count": 1,
   "metadata": {},
   "outputs": [],
   "source": [
    "import re"
   ]
  },
  {
   "cell_type": "code",
   "execution_count": 2,
   "metadata": {},
   "outputs": [],
   "source": [
    "info_reg_stack = {\"comp_name\": r'\\s+company conformed name:\\s+(.{3,100})',\n",
    "                 \"SIC\": r'\\s+standard industrial classification:\\s+(.{3,100})',\n",
    "                 'CIK': r'\\s+central index key:\\s+(\\d{10})',\n",
    "                 \"date\": r'\\s+conformed period of report:\\s+(\\d{8})'}"
   ]
  },
  {
   "cell_type": "code",
   "execution_count": 3,
   "metadata": {},
   "outputs": [],
   "source": [
    "def getInfo(filepath):\n",
    "    import re\n",
    "    result_dic = {}\n",
    "    \n",
    "    pattern = '(\\s\\sitem\\s+\\d+[a-zA-Z]?\\.)'\n",
    "    with open(filepath) as f:\n",
    "        content = re.split(pattern, f.read().lower().replace('*',''))\n",
    "\n",
    "    # extract items\n",
    "    i = len(content)-1\n",
    "    while i >= 0 :\n",
    "        match = re.match(pattern,content[i])\n",
    "        if match:\n",
    "            key = match.group()[2:].replace(' ','')\n",
    "            value = content[i+1].replace('\\n','')\n",
    "            \n",
    "            if key not in result_dic: #and len(value) > 500:\n",
    "                result_dic[key] = value\n",
    "        i = i - 1\n",
    "        \n",
    "    # extract info\n",
    "    for key, item in info_reg_stack.items():\n",
    "        if re.search(item,content[0]):\n",
    "            result_dic[key]=re.search(item,content[0]).group(1)\n",
    "    \n",
    "    return result_dic"
   ]
  },
  {
   "cell_type": "code",
   "execution_count": 4,
   "metadata": {},
   "outputs": [],
   "source": [
    "def getInfo1(filepath):\n",
    "    import re\n",
    "    result_dic = {}\n",
    "    \n",
    "    pattern = '(\\s\\sitem\\s+\\d+[a-zA-Z]?\\.)'\n",
    "    with open(filepath) as f:\n",
    "        \n",
    "        content = re.split(pattern, f.read().lower().replace('_',''))\n",
    "\n",
    "    # extract items\n",
    "    i = len(content)-1\n",
    "    while i >= 0 :\n",
    "        match = re.match(pattern,content[i])\n",
    "        if match:\n",
    "            key = match.group()[2:].replace(' ','')\n",
    "            value = content[i+1].replace('\\n','')\n",
    "            \n",
    "            if key not in result_dic: #and len(value) > 500:\n",
    "                result_dic[key] = value\n",
    "        i = i - 1\n",
    "        \n",
    "    # extract info\n",
    "    for key, item in info_reg_stack.items():\n",
    "        if re.search(item,content[0]):\n",
    "            result_dic[key]=re.search(item,content[0]).group(1)\n",
    "    \n",
    "    return result_dic"
   ]
  },
  {
   "cell_type": "code",
   "execution_count": 9,
   "metadata": {},
   "outputs": [],
   "source": [
    "case = getInfo1('/Users/jiahuibi/Documents/projects/untitled folder/edgar_text/edgar/data/1750/0001047469-17-004528.txt')"
   ]
  },
  {
   "cell_type": "code",
   "execution_count": 10,
   "metadata": {},
   "outputs": [
    {
     "data": {
      "text/plain": [
       "dict_keys(['item16.', 'item15.', 'item14.', 'item13.', 'item12.', 'item11.', 'item10.', 'item9b.', 'item9a.', 'item9.', 'item8.', 'item7a.', 'item7.', 'item6.', 'item5.', 'item4.', 'item3.', 'item2.', 'item1b.', 'item1a.', 'item1.', 'comp_name', 'SIC', 'CIK', 'date'])"
      ]
     },
     "execution_count": 10,
     "metadata": {},
     "output_type": "execute_result"
    }
   ],
   "source": [
    "case.keys()"
   ]
  },
  {
   "cell_type": "code",
   "execution_count": 11,
   "metadata": {},
   "outputs": [
    {
     "data": {
      "text/plain": [
       "\"management's discussion and analysis of financial condition and results of operations21\""
      ]
     },
     "execution_count": 11,
     "metadata": {},
     "output_type": "execute_result"
    }
   ],
   "source": [
    "case['item7.']"
   ]
  },
  {
   "cell_type": "code",
   "execution_count": 12,
   "metadata": {
    "scrolled": true
   },
   "outputs": [
    {
     "data": {
      "text/plain": [
       "'business2'"
      ]
     },
     "execution_count": 12,
     "metadata": {},
     "output_type": "execute_result"
    }
   ],
   "source": [
    "case['item1.']"
   ]
  },
  {
   "cell_type": "markdown",
   "metadata": {},
   "source": [
    "---------------------------------------"
   ]
  },
  {
   "cell_type": "markdown",
   "metadata": {},
   "source": [
    "# get label"
   ]
  },
  {
   "cell_type": "code",
   "execution_count": 13,
   "metadata": {},
   "outputs": [],
   "source": [
    "import pandas as pd\n",
    "df = pd.read_csv('../../data/sec_index_complete_small_2018-01-22.csv')"
   ]
  },
  {
   "cell_type": "code",
   "execution_count": 14,
   "metadata": {},
   "outputs": [
    {
     "data": {
      "text/html": [
       "<div>\n",
       "<style scoped>\n",
       "    .dataframe tbody tr th:only-of-type {\n",
       "        vertical-align: middle;\n",
       "    }\n",
       "\n",
       "    .dataframe tbody tr th {\n",
       "        vertical-align: top;\n",
       "    }\n",
       "\n",
       "    .dataframe thead th {\n",
       "        text-align: right;\n",
       "    }\n",
       "</style>\n",
       "<table border=\"1\" class=\"dataframe\">\n",
       "  <thead>\n",
       "    <tr style=\"text-align: right;\">\n",
       "      <th></th>\n",
       "      <th>gvkey</th>\n",
       "      <th>actual_10k_path_raw</th>\n",
       "      <th>fyear</th>\n",
       "    </tr>\n",
       "  </thead>\n",
       "  <tbody>\n",
       "    <tr>\n",
       "      <th>0</th>\n",
       "      <td>1094</td>\n",
       "      <td>edgar/data/2034/0000002034-00-000006.txt</td>\n",
       "      <td>2000</td>\n",
       "    </tr>\n",
       "    <tr>\n",
       "      <th>1</th>\n",
       "      <td>1099</td>\n",
       "      <td>edgar/data/2070/0000941157-00-500008.txt</td>\n",
       "      <td>2000</td>\n",
       "    </tr>\n",
       "    <tr>\n",
       "      <th>2</th>\n",
       "      <td>12075</td>\n",
       "      <td>edgar/data/2491/0000950148-00-002040.txt</td>\n",
       "      <td>2000</td>\n",
       "    </tr>\n",
       "    <tr>\n",
       "      <th>3</th>\n",
       "      <td>1056</td>\n",
       "      <td>edgar/data/2601/0000932214-00-000160.txt</td>\n",
       "      <td>2000</td>\n",
       "    </tr>\n",
       "    <tr>\n",
       "      <th>4</th>\n",
       "      <td>1213</td>\n",
       "      <td>edgar/data/3000/0000003000-95-000003.txt</td>\n",
       "      <td>1994</td>\n",
       "    </tr>\n",
       "  </tbody>\n",
       "</table>\n",
       "</div>"
      ],
      "text/plain": [
       "   gvkey                       actual_10k_path_raw  fyear\n",
       "0   1094  edgar/data/2034/0000002034-00-000006.txt   2000\n",
       "1   1099  edgar/data/2070/0000941157-00-500008.txt   2000\n",
       "2  12075  edgar/data/2491/0000950148-00-002040.txt   2000\n",
       "3   1056  edgar/data/2601/0000932214-00-000160.txt   2000\n",
       "4   1213  edgar/data/3000/0000003000-95-000003.txt   1994"
      ]
     },
     "execution_count": 14,
     "metadata": {},
     "output_type": "execute_result"
    }
   ],
   "source": [
    "df.head()"
   ]
  },
  {
   "cell_type": "code",
   "execution_count": 15,
   "metadata": {},
   "outputs": [
    {
     "data": {
      "text/plain": [
       "175699"
      ]
     },
     "execution_count": 15,
     "metadata": {},
     "output_type": "execute_result"
    }
   ],
   "source": [
    "len(df)"
   ]
  },
  {
   "cell_type": "code",
   "execution_count": null,
   "metadata": {},
   "outputs": [],
   "source": []
  },
  {
   "cell_type": "code",
   "execution_count": 16,
   "metadata": {},
   "outputs": [],
   "source": [
    "cik_list = []\n",
    "date_list = []\n",
    "\n",
    "for path in list(df['actual_10k_path_raw']):\n",
    "    your_path = '/Users/jiahuibi/Documents/projects/untitled folder/edgar_text/'\n",
    "    final_path = your_path + path\n",
    "    with open(final_path) as f:\n",
    "        content = f.read().lower().replace('*','')\n",
    "            \n",
    "    try:\n",
    "        CIK = re.search(r'\\s+central index key:\\s+(\\d{10})',content).group(1)\n",
    "        cik_list.append(CIK)\n",
    "    except:\n",
    "        cik_list.append(np.nan)\n",
    "        pass\n",
    "    \n",
    "    try:\n",
    "        date = re.search(r'\\s+conformed period of report:\\s+(\\d{8})',content).group(1)\n",
    "        date_list.append(date)\n",
    "    except:\n",
    "        date_list.append(np.nan)\n",
    "        pass"
   ]
  },
  {
   "cell_type": "code",
   "execution_count": 17,
   "metadata": {},
   "outputs": [],
   "source": [
    "df['CIK'] = cik_list\n",
    "df['date'] = date_list"
   ]
  },
  {
   "cell_type": "code",
   "execution_count": 45,
   "metadata": {
    "collapsed": true
   },
   "outputs": [
    {
     "data": {
      "text/plain": [
       "0        2000-06-30\n",
       "1        2000-06-30\n",
       "2        2000-06-30\n",
       "3        2000-06-30\n",
       "4               NaT\n",
       "5               NaT\n",
       "6               NaT\n",
       "7               NaT\n",
       "8               NaT\n",
       "9        2000-08-31\n",
       "10       2000-07-31\n",
       "11              NaT\n",
       "12       2000-03-31\n",
       "13       2000-06-03\n",
       "14              NaT\n",
       "15              NaT\n",
       "16              NaT\n",
       "17       2000-03-31\n",
       "18              NaT\n",
       "19              NaT\n",
       "20       2000-04-30\n",
       "21              NaT\n",
       "22       2000-06-30\n",
       "23       2000-06-30\n",
       "24       2000-02-29\n",
       "25       2000-01-29\n",
       "26              NaT\n",
       "27       2000-06-30\n",
       "28              NaT\n",
       "29              NaT\n",
       "            ...    \n",
       "175669   2017-09-30\n",
       "175670   2017-09-30\n",
       "175671   2017-10-31\n",
       "175672   2017-10-29\n",
       "175673   2017-09-30\n",
       "175674   2017-06-30\n",
       "175675   2017-08-31\n",
       "175676   2017-08-31\n",
       "175677   2017-09-30\n",
       "175678   2017-09-30\n",
       "175679   2017-08-31\n",
       "175680   2017-09-30\n",
       "175681   2017-09-30\n",
       "175682   2017-09-30\n",
       "175683   2017-09-03\n",
       "175684   2017-08-31\n",
       "175685   2017-09-30\n",
       "175686   2017-07-31\n",
       "175687   2017-09-30\n",
       "175688   2017-04-30\n",
       "175689   2017-08-31\n",
       "175690   2017-09-30\n",
       "175691   2017-09-30\n",
       "175692   2017-09-30\n",
       "175693   2017-09-30\n",
       "175694   2017-09-30\n",
       "175695   2017-10-31\n",
       "175696   2017-09-30\n",
       "175697   2017-06-30\n",
       "175698   2017-09-30\n",
       "Name: date, Length: 175699, dtype: datetime64[ns]"
      ]
     },
     "execution_count": 45,
     "metadata": {},
     "output_type": "execute_result"
    }
   ],
   "source": [
    "pd.to_datetime(df['date'])"
   ]
  },
  {
   "cell_type": "code",
   "execution_count": 18,
   "metadata": {},
   "outputs": [
    {
     "data": {
      "text/html": [
       "<div>\n",
       "<style scoped>\n",
       "    .dataframe tbody tr th:only-of-type {\n",
       "        vertical-align: middle;\n",
       "    }\n",
       "\n",
       "    .dataframe tbody tr th {\n",
       "        vertical-align: top;\n",
       "    }\n",
       "\n",
       "    .dataframe thead th {\n",
       "        text-align: right;\n",
       "    }\n",
       "</style>\n",
       "<table border=\"1\" class=\"dataframe\">\n",
       "  <thead>\n",
       "    <tr style=\"text-align: right;\">\n",
       "      <th></th>\n",
       "      <th>gvkey</th>\n",
       "      <th>actual_10k_path_raw</th>\n",
       "      <th>fyear</th>\n",
       "      <th>CIK</th>\n",
       "      <th>date</th>\n",
       "    </tr>\n",
       "  </thead>\n",
       "  <tbody>\n",
       "    <tr>\n",
       "      <th>0</th>\n",
       "      <td>1094</td>\n",
       "      <td>edgar/data/2034/0000002034-00-000006.txt</td>\n",
       "      <td>2000</td>\n",
       "      <td>0000002034</td>\n",
       "      <td>20000630</td>\n",
       "    </tr>\n",
       "    <tr>\n",
       "      <th>1</th>\n",
       "      <td>1099</td>\n",
       "      <td>edgar/data/2070/0000941157-00-500008.txt</td>\n",
       "      <td>2000</td>\n",
       "      <td>0000002070</td>\n",
       "      <td>20000630</td>\n",
       "    </tr>\n",
       "    <tr>\n",
       "      <th>2</th>\n",
       "      <td>12075</td>\n",
       "      <td>edgar/data/2491/0000950148-00-002040.txt</td>\n",
       "      <td>2000</td>\n",
       "      <td>0000002491</td>\n",
       "      <td>20000630</td>\n",
       "    </tr>\n",
       "    <tr>\n",
       "      <th>3</th>\n",
       "      <td>1056</td>\n",
       "      <td>edgar/data/2601/0000932214-00-000160.txt</td>\n",
       "      <td>2000</td>\n",
       "      <td>0000002601</td>\n",
       "      <td>20000630</td>\n",
       "    </tr>\n",
       "    <tr>\n",
       "      <th>4</th>\n",
       "      <td>1213</td>\n",
       "      <td>edgar/data/3000/0000003000-95-000003.txt</td>\n",
       "      <td>1994</td>\n",
       "      <td>NaN</td>\n",
       "      <td>NaN</td>\n",
       "    </tr>\n",
       "  </tbody>\n",
       "</table>\n",
       "</div>"
      ],
      "text/plain": [
       "   gvkey                       actual_10k_path_raw  fyear         CIK  \\\n",
       "0   1094  edgar/data/2034/0000002034-00-000006.txt   2000  0000002034   \n",
       "1   1099  edgar/data/2070/0000941157-00-500008.txt   2000  0000002070   \n",
       "2  12075  edgar/data/2491/0000950148-00-002040.txt   2000  0000002491   \n",
       "3   1056  edgar/data/2601/0000932214-00-000160.txt   2000  0000002601   \n",
       "4   1213  edgar/data/3000/0000003000-95-000003.txt   1994         NaN   \n",
       "\n",
       "       date  \n",
       "0  20000630  \n",
       "1  20000630  \n",
       "2  20000630  \n",
       "3  20000630  \n",
       "4       NaN  "
      ]
     },
     "execution_count": 18,
     "metadata": {},
     "output_type": "execute_result"
    }
   ],
   "source": [
    "df.head()"
   ]
  },
  {
   "cell_type": "code",
   "execution_count": 19,
   "metadata": {},
   "outputs": [
    {
     "data": {
      "text/html": [
       "<div>\n",
       "<style scoped>\n",
       "    .dataframe tbody tr th:only-of-type {\n",
       "        vertical-align: middle;\n",
       "    }\n",
       "\n",
       "    .dataframe tbody tr th {\n",
       "        vertical-align: top;\n",
       "    }\n",
       "\n",
       "    .dataframe thead th {\n",
       "        text-align: right;\n",
       "    }\n",
       "</style>\n",
       "<table border=\"1\" class=\"dataframe\">\n",
       "  <thead>\n",
       "    <tr style=\"text-align: right;\">\n",
       "      <th></th>\n",
       "      <th>gvkey</th>\n",
       "      <th>actual_10k_path_raw</th>\n",
       "      <th>fyear</th>\n",
       "      <th>CIK</th>\n",
       "      <th>date</th>\n",
       "    </tr>\n",
       "  </thead>\n",
       "  <tbody>\n",
       "  </tbody>\n",
       "</table>\n",
       "</div>"
      ],
      "text/plain": [
       "Empty DataFrame\n",
       "Columns: [gvkey, actual_10k_path_raw, fyear, CIK, date]\n",
       "Index: []"
      ]
     },
     "execution_count": 19,
     "metadata": {},
     "output_type": "execute_result"
    }
   ],
   "source": [
    "df[df['CIK']==\"N/A\"]"
   ]
  },
  {
   "cell_type": "code",
   "execution_count": 20,
   "metadata": {},
   "outputs": [],
   "source": [
    "df['date']=pd.to_datetime(df['date'])"
   ]
  },
  {
   "cell_type": "code",
   "execution_count": 34,
   "metadata": {},
   "outputs": [],
   "source": [
    "df.to_csv('../../data/index_add_date.csv')"
   ]
  },
  {
   "cell_type": "code",
   "execution_count": null,
   "metadata": {},
   "outputs": [],
   "source": []
  }
 ],
 "metadata": {
  "kernelspec": {
   "display_name": "Python 3",
   "language": "python",
   "name": "python3"
  },
  "language_info": {
   "codemirror_mode": {
    "name": "ipython",
    "version": 3
   },
   "file_extension": ".py",
   "mimetype": "text/x-python",
   "name": "python",
   "nbconvert_exporter": "python",
   "pygments_lexer": "ipython3",
   "version": "3.6.4"
  },
  "toc": {
   "nav_menu": {},
   "number_sections": false,
   "sideBar": true,
   "skip_h1_title": false,
   "title_cell": "Table of Contents",
   "title_sidebar": "Contents",
   "toc_cell": false,
   "toc_position": {},
   "toc_section_display": true,
   "toc_window_display": false
  }
 },
 "nbformat": 4,
 "nbformat_minor": 2
}
