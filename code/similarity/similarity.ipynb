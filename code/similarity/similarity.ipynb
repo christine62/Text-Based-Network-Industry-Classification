{
 "cells": [
  {
   "cell_type": "code",
   "execution_count": 21,
   "metadata": {},
   "outputs": [],
   "source": [
    "import numpy as np\n",
    "import pandas as pd\n",
    "import simplejson as sjson\n",
    "import gensim\n",
    "from gensim.parsing.preprocessing import STOPWORDS\n",
    "from gensim.utils import simple_preprocess \n",
    "from gensim import corpora, models, similarities\n",
    "from gensim.corpora import Dictionary  \n",
    "import os"
   ]
  },
  {
   "cell_type": "markdown",
   "metadata": {},
   "source": [
    "Input: year, n_topics, model_output_path, results_output_path   \n",
    "Results should be in the format of Gvkey1, Gvkey2, similarity, with Gvkey1 < Gvkey2\n"
   ]
  },
  {
   "cell_type": "code",
   "execution_count": 4,
   "metadata": {},
   "outputs": [],
   "source": [
    "def tokenize(text):  \n",
    "    return [token for token in simple_preprocess(text) if token not in STOPWORDS] "
   ]
  },
  {
   "cell_type": "code",
   "execution_count": 30,
   "metadata": {},
   "outputs": [],
   "source": [
    "def similarity(fyear, n_topics, model_output_path, results_output_path):\n",
    "    #load data\n",
    "    file_path = '../data/fyear2/%s.txt' %fyear\n",
    "    data = [] \n",
    "    with open(file_path) as f:\n",
    "        for line in f:\n",
    "            tmp = sjson.loads(line)\n",
    "            data.append((tmp['gvkey'],tmp['comp_name'],tmp['item_1']))\n",
    "    data = pd.DataFrame(data)\n",
    "    data.columns = ['gvkey','comp_name','item1']\n",
    "    #dictionary\n",
    "    documents = data['item1'].tolist()\n",
    "    processed_docs = [tokenize(doc) for doc in documents]\n",
    "    dictionary = Dictionary(processed_docs)\n",
    "    dictionary.filter_extremes(no_below=20, no_above=0.1) \n",
    "    dictionary.compactify()\n",
    "    #dictionary.save(os.path.join('..', results_output_path, 'dictionary_%s.dict' %fyear)) #'../model_output_path/dictionary_%s.dict' %fyear\n",
    "    #corpus\n",
    "    corpus = [dictionary.doc2bow(doc) for doc in processed_docs]\n",
    "    #corpora.MmCorpus.serialize(os.path.join('..', results_output_path, 'corpus_%s.mm' %fyear, corpus)  # store to disk, for later use\n",
    "    lda_model = gensim.models.ldamulticore.LdaMulticore(corpus=corpus, num_topics=n_topics, id2word=dictionary, workers=4,  passes=1)\n",
    "    lda_model.save(os.path.join('..',model_output_path,'lda_%s_%s.model' %(fyear, n_topics)))\n",
    "    #similarity\n",
    "    index = similarities.MatrixSimilarity(lda_model[corpus])\n",
    "    \n",
    "    list_of_dfs = {}    \n",
    "    for i in data['gvkey']:#get gvkey\n",
    "    \n",
    "        doc = data.loc[data[data['gvkey']==i].index.values[0],'item1']#corresponding doc\n",
    "        vec_bow = dictionary.doc2bow(doc.lower().split())#doc2wod\n",
    "        vec_lda = lda_model[vec_bow]\n",
    "        sims = index[vec_lda]\n",
    "        sims = sorted(enumerate(sims), key=lambda item: -item[1])#sort similarities result\n",
    "        list_of_dfs[i]=pd.DataFrame(sims)\n",
    "        list_of_dfs[i].columns = ['gvkey2','similarity']\n",
    "        list_of_dfs[i]['gvkey2']=list_of_dfs[i]['gvkey2'].map(lambda x: data.loc[x,'gvkey']) #corresponding gvkey\n",
    "        list_of_dfs[i] = list_of_dfs[i][list_of_dfs[i].gvkey2 > i] #gvkey1<gvkey2\n",
    "        col_name = list_of_dfs[i].columns.tolist()\n",
    "        list_of_dfs[i].insert(col_name.index('gvkey2'),'gvkey1',i) #add gvkey1\n",
    "    df_similarity = pd.concat(list_of_dfs.values(), ignore_index=True)\n",
    "    df_similarity=df_similarity[df_similarity['similarity']!=0]#remove similarities equal to 0\n",
    "    df_similarity.to_csv(os.path.join('..',results_output_path,\"similarity_%s_%s.txt\" %(fyear, n_topics), sep=\"\\t\", index=None)\n",
    "    \n",
    "    "
   ]
  },
  {
   "cell_type": "code",
   "execution_count": 31,
   "metadata": {},
   "outputs": [],
   "source": [
    "similarity(2014, 20, 'model','result')"
   ]
  },
  {
   "cell_type": "code",
   "execution_count": null,
   "metadata": {},
   "outputs": [],
   "source": []
  }
 ],
 "metadata": {
  "kernelspec": {
   "display_name": "Python 3",
   "language": "python",
   "name": "python3"
  },
  "language_info": {
   "codemirror_mode": {
    "name": "ipython",
    "version": 3
   },
   "file_extension": ".py",
   "mimetype": "text/x-python",
   "name": "python",
   "nbconvert_exporter": "python",
   "pygments_lexer": "ipython3",
   "version": "3.6.4"
  },
  "toc": {
   "nav_menu": {},
   "number_sections": false,
   "sideBar": true,
   "skip_h1_title": false,
   "title_cell": "Table of Contents",
   "title_sidebar": "Contents",
   "toc_cell": false,
   "toc_position": {},
   "toc_section_display": true,
   "toc_window_display": false
  }
 },
 "nbformat": 4,
 "nbformat_minor": 2
}
